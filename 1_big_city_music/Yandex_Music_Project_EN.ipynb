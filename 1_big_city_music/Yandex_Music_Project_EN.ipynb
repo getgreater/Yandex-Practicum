{
 "cells": [
  {
   "cell_type": "markdown",
   "metadata": {
    "deletable": false,
    "id": "E0vqbgi9ay0H"
   },
   "source": [
    "# Yandex Music (Project 1)"
   ]
  },
  {
   "cell_type": "markdown",
   "metadata": {
    "deletable": false,
    "id": "VUC88oWjTJw2"
   },
   "source": [
    "Using the Yandex Music dataset, we will compare the behavior of users in two cities - Moscow and Saint-Petersburg.\n",
    "\n",
    "**The purpose of this research is to try three following hypotheses:**\n",
    "\n",
    "1. User activity depends on the day of the week. Furthermore, in Moscow and St. Petersburg it manifests in different forms.\n",
    "2. Certain music genres tend to play more often in Moscow in the morning, while other genres tend to play more often in St. Petersburg. Similarly, depending on the city, Friday evenings are dominated by different genre plays.\n",
    "3. Moscow and St. Petersburg users prefer different genres of music. In Moscow, users listen to pop music more frequently, and in St. Petersburg, users listen to rap music.\n",
    "\n",
    "**Research Progress:**\n",
    "\n",
    "We receive data related to user behavior from `yandex_music_project.csv` file. The quality of the data is unknown to us. Therefore, before testing our hypotheses, a review of the data is needed.\n",
    "\n",
    "We are going to check the data for errors, and assess their impact on the study. Then, in the pre-processing phase, we will seek opportunities to correct the most critical data errors.\n",
    " \n",
    "Thus, the case study will be made in three stages:\n",
    " 1. Data review.\n",
    " 2. Data preprocessing.\n",
    " 3. Hypothesis testing.\n",
    "\n"
   ]
  },
  {
   "cell_type": "markdown",
   "metadata": {
    "deletable": false,
    "id": "Ml1hmfXC_Zcs"
   },
   "source": [
    "## Data overview\n",
    "Get the first idea about Yandex Music dataset.\n",
    "\n",
    "\n"
   ]
  },
  {
   "cell_type": "markdown",
   "metadata": {
    "deletable": false,
    "id": "57eAOGIz_Zcs",
    "tags": [
     "start_task"
    ]
   },
   "source": [
    "**Task 1**\n",
    "\n",
    "The main analytics tool is `pandas`. Let's import this library."
   ]
  },
  {
   "cell_type": "code",
   "execution_count": 1,
   "metadata": {
    "deletable": false,
    "id": "AXN7PHPN_Zcs"
   },
   "outputs": [],
   "source": [
    "# import pandas library\n",
    "import pandas as pd"
   ]
  },
  {
   "cell_type": "markdown",
   "metadata": {
    "deletable": false,
    "id": "SG23P8tt_Zcs",
    "tags": [
     "start_task"
    ]
   },
   "source": [
    "**Task 2**\n",
    "\n",
    "Read the `yandex_music_project.csv` file from the `/datasets` folder and save it in the `df` variable:"
   ]
  },
  {
   "cell_type": "code",
   "execution_count": 2,
   "metadata": {
    "deletable": false,
    "id": "fFVu7vqh_Zct"
   },
   "outputs": [],
   "source": [
    "# reading data from dataset and saving it to variable df\n",
    "df = pd.read_csv('yandex_music_project.csv')"
   ]
  },
  {
   "cell_type": "markdown",
   "metadata": {
    "deletable": false,
    "id": "rDoOMd3uTqnZ",
    "tags": [
     "start_task"
    ]
   },
   "source": [
    "**Task 3**\n",
    "\n",
    "\n",
    "Display the first ten rows of the table:"
   ]
  },
  {
   "cell_type": "code",
   "execution_count": 3,
   "metadata": {
    "deletable": false,
    "id": "oWTVX3gW_Zct"
   },
   "outputs": [
    {
     "data": {
      "text/html": [
       "<div>\n",
       "<style scoped>\n",
       "    .dataframe tbody tr th:only-of-type {\n",
       "        vertical-align: middle;\n",
       "    }\n",
       "\n",
       "    .dataframe tbody tr th {\n",
       "        vertical-align: top;\n",
       "    }\n",
       "\n",
       "    .dataframe thead th {\n",
       "        text-align: right;\n",
       "    }\n",
       "</style>\n",
       "<table border=\"1\" class=\"dataframe\">\n",
       "  <thead>\n",
       "    <tr style=\"text-align: right;\">\n",
       "      <th></th>\n",
       "      <th>userID</th>\n",
       "      <th>Track</th>\n",
       "      <th>artist</th>\n",
       "      <th>genre</th>\n",
       "      <th>City</th>\n",
       "      <th>time</th>\n",
       "      <th>Day</th>\n",
       "    </tr>\n",
       "  </thead>\n",
       "  <tbody>\n",
       "    <tr>\n",
       "      <th>0</th>\n",
       "      <td>FFB692EC</td>\n",
       "      <td>Kamigata To Boots</td>\n",
       "      <td>The Mass Missile</td>\n",
       "      <td>rock</td>\n",
       "      <td>Saint-Petersburg</td>\n",
       "      <td>20:28:33</td>\n",
       "      <td>Wednesday</td>\n",
       "    </tr>\n",
       "    <tr>\n",
       "      <th>1</th>\n",
       "      <td>55204538</td>\n",
       "      <td>Delayed Because of Accident</td>\n",
       "      <td>Andreas Rönnberg</td>\n",
       "      <td>rock</td>\n",
       "      <td>Moscow</td>\n",
       "      <td>14:07:09</td>\n",
       "      <td>Friday</td>\n",
       "    </tr>\n",
       "    <tr>\n",
       "      <th>2</th>\n",
       "      <td>20EC38</td>\n",
       "      <td>Funiculì funiculà</td>\n",
       "      <td>Mario Lanza</td>\n",
       "      <td>pop</td>\n",
       "      <td>Saint-Petersburg</td>\n",
       "      <td>20:58:07</td>\n",
       "      <td>Wednesday</td>\n",
       "    </tr>\n",
       "    <tr>\n",
       "      <th>3</th>\n",
       "      <td>A3DD03C9</td>\n",
       "      <td>Dragons in the Sunset</td>\n",
       "      <td>Fire + Ice</td>\n",
       "      <td>folk</td>\n",
       "      <td>Saint-Petersburg</td>\n",
       "      <td>08:37:09</td>\n",
       "      <td>Monday</td>\n",
       "    </tr>\n",
       "    <tr>\n",
       "      <th>4</th>\n",
       "      <td>E2DC1FAE</td>\n",
       "      <td>Soul People</td>\n",
       "      <td>Space Echo</td>\n",
       "      <td>dance</td>\n",
       "      <td>Moscow</td>\n",
       "      <td>08:34:34</td>\n",
       "      <td>Monday</td>\n",
       "    </tr>\n",
       "    <tr>\n",
       "      <th>5</th>\n",
       "      <td>842029A1</td>\n",
       "      <td>Преданная</td>\n",
       "      <td>IMPERVTOR</td>\n",
       "      <td>rusrap</td>\n",
       "      <td>Saint-Petersburg</td>\n",
       "      <td>13:09:41</td>\n",
       "      <td>Friday</td>\n",
       "    </tr>\n",
       "    <tr>\n",
       "      <th>6</th>\n",
       "      <td>4CB90AA5</td>\n",
       "      <td>True</td>\n",
       "      <td>Roman Messer</td>\n",
       "      <td>dance</td>\n",
       "      <td>Moscow</td>\n",
       "      <td>13:00:07</td>\n",
       "      <td>Wednesday</td>\n",
       "    </tr>\n",
       "    <tr>\n",
       "      <th>7</th>\n",
       "      <td>F03E1C1F</td>\n",
       "      <td>Feeling This Way</td>\n",
       "      <td>Polina Griffith</td>\n",
       "      <td>dance</td>\n",
       "      <td>Moscow</td>\n",
       "      <td>20:47:49</td>\n",
       "      <td>Wednesday</td>\n",
       "    </tr>\n",
       "    <tr>\n",
       "      <th>8</th>\n",
       "      <td>8FA1D3BE</td>\n",
       "      <td>И вновь продолжается бой</td>\n",
       "      <td>NaN</td>\n",
       "      <td>ruspop</td>\n",
       "      <td>Moscow</td>\n",
       "      <td>09:17:40</td>\n",
       "      <td>Friday</td>\n",
       "    </tr>\n",
       "    <tr>\n",
       "      <th>9</th>\n",
       "      <td>E772D5C0</td>\n",
       "      <td>Pessimist</td>\n",
       "      <td>NaN</td>\n",
       "      <td>dance</td>\n",
       "      <td>Saint-Petersburg</td>\n",
       "      <td>21:20:49</td>\n",
       "      <td>Wednesday</td>\n",
       "    </tr>\n",
       "  </tbody>\n",
       "</table>\n",
       "</div>"
      ],
      "text/plain": [
       "     userID                        Track            artist   genre  \\\n",
       "0  FFB692EC            Kamigata To Boots  The Mass Missile    rock   \n",
       "1  55204538  Delayed Because of Accident  Andreas Rönnberg    rock   \n",
       "2    20EC38            Funiculì funiculà       Mario Lanza     pop   \n",
       "3  A3DD03C9        Dragons in the Sunset        Fire + Ice    folk   \n",
       "4  E2DC1FAE                  Soul People        Space Echo   dance   \n",
       "5  842029A1                    Преданная         IMPERVTOR  rusrap   \n",
       "6  4CB90AA5                         True      Roman Messer   dance   \n",
       "7  F03E1C1F             Feeling This Way   Polina Griffith   dance   \n",
       "8  8FA1D3BE     И вновь продолжается бой               NaN  ruspop   \n",
       "9  E772D5C0                    Pessimist               NaN   dance   \n",
       "\n",
       "             City        time        Day  \n",
       "0  Saint-Petersburg  20:28:33  Wednesday  \n",
       "1            Moscow  14:07:09     Friday  \n",
       "2  Saint-Petersburg  20:58:07  Wednesday  \n",
       "3  Saint-Petersburg  08:37:09     Monday  \n",
       "4            Moscow  08:34:34     Monday  \n",
       "5  Saint-Petersburg  13:09:41     Friday  \n",
       "6            Moscow  13:00:07  Wednesday  \n",
       "7            Moscow  20:47:49  Wednesday  \n",
       "8            Moscow  09:17:40     Friday  \n",
       "9  Saint-Petersburg  21:20:49  Wednesday  "
      ]
     },
     "execution_count": 3,
     "metadata": {},
     "output_type": "execute_result"
    }
   ],
   "source": [
    "# getting first ten rows of df\n",
    "df.head(10)"
   ]
  },
  {
   "cell_type": "markdown",
   "metadata": {
    "deletable": false,
    "id": "EO73Kwic_Zct",
    "tags": [
     "start_task"
    ]
   },
   "source": [
    "**Task 4**\n",
    "\n",
    "\n",
    "Get general information about the table using the `info()` method in one command:"
   ]
  },
  {
   "cell_type": "code",
   "execution_count": 4,
   "metadata": {
    "deletable": false,
    "id": "DSf2kIb-_Zct"
   },
   "outputs": [
    {
     "name": "stdout",
     "output_type": "stream",
     "text": [
      "<class 'pandas.core.frame.DataFrame'>\n",
      "RangeIndex: 65079 entries, 0 to 65078\n",
      "Data columns (total 7 columns):\n",
      " #   Column    Non-Null Count  Dtype \n",
      "---  ------    --------------  ----- \n",
      " 0     userID  65079 non-null  object\n",
      " 1   Track     63848 non-null  object\n",
      " 2   artist    57876 non-null  object\n",
      " 3   genre     63881 non-null  object\n",
      " 4     City    65079 non-null  object\n",
      " 5   time      65079 non-null  object\n",
      " 6   Day       65079 non-null  object\n",
      "dtypes: object(7)\n",
      "memory usage: 3.5+ MB\n"
     ]
    }
   ],
   "source": [
    "# getting general information about the data in the df\n",
    "df.info()"
   ]
  },
  {
   "cell_type": "markdown",
   "metadata": {
    "deletable": false,
    "id": "TaQ2Iwbr_Zct"
   },
   "source": [
    "According to the data documentation:\n",
    "* `userID` - user ID;\n",
    "* `Track` - track name;\n",
    "* `artist` - artist name;\n",
    "* `genre` - the name of the genre;\n",
    "* `City` - user's city;\n",
    "* `time` — listening start time;\n",
    "* `Day` is the day of the week.\n",
    "\n",
    "The number of values in the columns varies. Therefore, there are missing values in the data."
   ]
  },
  {
   "cell_type": "markdown",
   "metadata": {
    "deletable": false,
    "id": "rAfziTBDmf2h",
    "tags": [
     "start_task"
    ]
   },
   "source": [
    "**Task 5**\n",
    "\n",
    "**Free-Form Question**\n",
    "\n",
    "There are some style violations in the column names:\n",
    "* Lowercase letters are combined with uppercase letters.\n",
    "*There are spaces.\n",
    "\n",
    "What is the third violation?"
   ]
  },
  {
   "cell_type": "code",
   "execution_count": 5,
   "metadata": {
    "id": "jD8EXEIvmf2h"
   },
   "outputs": [],
   "source": [
    "# The userID column should be written in snakecase as user_id"
   ]
  },
  {
   "cell_type": "markdown",
   "metadata": {
    "deletable": false,
    "id": "MCB6-dXG_Zct"
   },
   "source": [
    "**Conclusions**\n",
    "\n",
    "Each line of the table contains data about the track you have listened to. Some columns describe the composition itself: title, artist and genre. The rest of the data tells about the user: what city he is from, when he listened to music.\n",
    "\n",
    "Preliminarily, it can be argued that the data are sufficient to test the hypotheses. But there are gaps in the data, and discrepancies in the names of the columns with good style.\n",
    "\n",
    "To move forward, we need to resolve problems in the data."
   ]
  },
  {
   "cell_type": "markdown",
   "metadata": {
    "deletable": false,
    "id": "SjYF6Ub9_Zct"
   },
   "source": [
    "## Data preprocessing\n",
    "Correct the style in the column headings, eliminate gaps. Then check the data for duplicates."
   ]
  },
  {
   "cell_type": "markdown",
   "metadata": {
    "deletable": false,
    "id": "dIaKXr29_Zct",
    "tags": [
     "start_task"
    ]
   },
   "source": [
    "### Headers style\n",
    "\n",
    "**Task 6**\n",
    "\n",
    "Display the column names:"
   ]
  },
  {
   "cell_type": "code",
   "execution_count": 6,
   "metadata": {
    "deletable": false,
    "id": "oKOTdF_Q_Zct"
   },
   "outputs": [
    {
     "data": {
      "text/plain": [
       "Index(['  userID', 'Track', 'artist', 'genre', '  City  ', 'time', 'Day'], dtype='object')"
      ]
     },
     "execution_count": 6,
     "metadata": {},
     "output_type": "execute_result"
    }
   ],
   "source": [
    "# column names of our data frame\n",
    "df.columns"
   ]
  },
  {
   "cell_type": "markdown",
   "metadata": {
    "deletable": false,
    "id": "zj5534cv_Zct",
    "tags": [
     "start_task"
    ]
   },
   "source": [
    "**Task 7**\n",
    "\n",
    "\n",
    "Let's bring titles in line using a better style:\n",
    "* write some words in the title using \"snake_register\",\n",
    "* make all characters lowercase,\n",
    "* eliminate spaces.\n",
    "\n",
    "To do it, let's rename the columns :\n",
    "* `'  userID'` → `'user_id'`;\n",
    "* `'Track'` → `'track'`;\n",
    "* `'  City  '` → `'city'`;\n",
    "* `'Day'` → `'day'`."
   ]
  },
  {
   "cell_type": "code",
   "execution_count": 7,
   "metadata": {
    "deletable": false,
    "id": "ISlFqs5y_Zct"
   },
   "outputs": [],
   "source": [
    "#  columns renaming\n",
    "df = df.rename(columns={'  userID': 'user_id', 'Track': 'track', '  City  ': 'city', 'Day': 'day'})"
   ]
  },
  {
   "cell_type": "markdown",
   "metadata": {
    "deletable": false,
    "id": "1dqbh00J_Zct",
    "tags": [
     "start_task"
    ]
   },
   "source": [
    "**Task 8**\n",
    "\n",
    "\n",
    "Let's check the result. To do this, display the column names again:"
   ]
  },
  {
   "cell_type": "code",
   "execution_count": 8,
   "metadata": {
    "deletable": false,
    "id": "d4NOAmTW_Zct"
   },
   "outputs": [
    {
     "data": {
      "text/plain": [
       "Index(['user_id', 'track', 'artist', 'genre', 'city', 'time', 'day'], dtype='object')"
      ]
     },
     "execution_count": 8,
     "metadata": {},
     "output_type": "execute_result"
    }
   ],
   "source": [
    "# displaying column names\n",
    "df.columns"
   ]
  },
  {
   "cell_type": "markdown",
   "metadata": {
    "deletable": false,
    "id": "5ISfbcfY_Zct",
    "tags": [
     "start_task"
    ]
   },
   "source": [
    "### Missing values\n",
    "\n",
    "**Task 9**\n",
    "\n",
    "First, we count how many missing values are in the table. Using two `pandas` methods are enough:"
   ]
  },
  {
   "cell_type": "code",
   "execution_count": 9,
   "metadata": {
    "deletable": false,
    "id": "RskX29qr_Zct"
   },
   "outputs": [
    {
     "data": {
      "text/plain": [
       "user_id       0\n",
       "track      1231\n",
       "artist     7203\n",
       "genre      1198\n",
       "city          0\n",
       "time          0\n",
       "day           0\n",
       "dtype: int64"
      ]
     },
     "execution_count": 9,
     "metadata": {},
     "output_type": "execute_result"
    }
   ],
   "source": [
    "# counting missing values\n",
    "df.isna().sum()"
   ]
  },
  {
   "cell_type": "markdown",
   "metadata": {
    "deletable": false,
    "id": "qubhgnlO_Zct"
   },
   "source": [
    "Not all missing values affect the study. So in `track` and `artist` gaps are not important for your work. It suffices to replace them with explicit notation.\n",
    "\n",
    "But gaps in the `genre` can interfere with the comparison of musical tastes in Moscow and St. Petersburg. In practice, it would be correct to determine the cause of the missing values and restore the data. This option is not available in our research. We need to:\n",
    "\n",
    "*estimate how much they will hurt the calculations;\n",
    "*the missing values should be filled with explicit notation.\n"
   ]
  },
  {
   "cell_type": "raw",
   "metadata": {},
   "source": []
  },
  {
   "cell_type": "markdown",
   "metadata": {
    "deletable": false,
    "id": "fSv2laPA_Zct",
    "tags": [
     "start_task"
    ]
   },
   "source": [
    "**Task 10**\n",
    "\n",
    "We are going to replace the missing values in the `track`, `artist` and `genre` columns using the string `'unknown'`. To do this, we create a `columns_to_replace` list, iterate through its elements with a `for` loop, and for each column, replace the missing values:"
   ]
  },
  {
   "cell_type": "code",
   "execution_count": 10,
   "metadata": {
    "deletable": false,
    "id": "KplB5qWs_Zct"
   },
   "outputs": [],
   "source": [
    "# loop through column names and replace missing values with 'unknown'\n",
    "columns_to_replace = ['track', 'artist', 'genre']\n",
    "\n",
    "for column in columns_to_replace:\n",
    "    df[column] = df[column].fillna('unknown')"
   ]
  },
  {
   "cell_type": "markdown",
   "metadata": {
    "deletable": false,
    "id": "Ilsm-MZo_Zct",
    "tags": [
     "start_task"
    ]
   },
   "source": [
    "**Task 11**\n",
    "\n",
    "We make sure there are no missing values in the table. To do this, count the missing values again."
   ]
  },
  {
   "cell_type": "code",
   "execution_count": 11,
   "metadata": {
    "deletable": false,
    "id": "Tq4nYRX4_Zct"
   },
   "outputs": [
    {
     "data": {
      "text/plain": [
       "user_id    0\n",
       "track      0\n",
       "artist     0\n",
       "genre      0\n",
       "city       0\n",
       "time       0\n",
       "day        0\n",
       "dtype: int64"
      ]
     },
     "execution_count": 11,
     "metadata": {},
     "output_type": "execute_result"
    }
   ],
   "source": [
    "# counting missing values\n",
    "df.isna().sum()"
   ]
  },
  {
   "cell_type": "markdown",
   "metadata": {
    "deletable": false,
    "id": "BWKRtBJ3_Zct",
    "tags": [
     "start_task"
    ]
   },
   "source": [
    "### Duplicates\n",
    "\n",
    "**Task 12**\n",
    "\n",
    "Count explicit duplicates in a table using one command:"
   ]
  },
  {
   "cell_type": "code",
   "execution_count": 12,
   "metadata": {
    "deletable": false,
    "id": "36eES_S0_Zct"
   },
   "outputs": [
    {
     "data": {
      "text/plain": [
       "3826"
      ]
     },
     "execution_count": 12,
     "metadata": {},
     "output_type": "execute_result"
    }
   ],
   "source": [
    "# duplicates count\n",
    "df.duplicated().sum()"
   ]
  },
  {
   "cell_type": "markdown",
   "metadata": {
    "deletable": false,
    "id": "Ot25h6XR_Zct",
    "tags": [
     "start_task"
    ]
   },
   "source": [
    "**Task 13**\n",
    "\n",
    "Call special `pandas` method to remove obvious duplicates:"
   ]
  },
  {
   "cell_type": "code",
   "execution_count": 13,
   "metadata": {
    "deletable": false,
    "id": "exFHq6tt_Zct"
   },
   "outputs": [],
   "source": [
    "# removing duplicates\n",
    "df = df.drop_duplicates().reset_index(drop=True)"
   ]
  },
  {
   "cell_type": "markdown",
   "metadata": {
    "deletable": false,
    "id": "Im2YwBEG_Zct",
    "tags": [
     "start_task"
    ]
   },
   "source": [
    "**Task 14**\n",
    "\n",
    "Once again, we count the evident duplicates in the table to make sure you get rid of them completely:"
   ]
  },
  {
   "cell_type": "code",
   "execution_count": 14,
   "metadata": {
    "deletable": false,
    "id": "-8PuNWQ0_Zct"
   },
   "outputs": [
    {
     "data": {
      "text/plain": [
       "0"
      ]
     },
     "execution_count": 14,
     "metadata": {},
     "output_type": "execute_result"
    }
   ],
   "source": [
    "# counting duplicates after removing them\n",
    "df.duplicated().sum()"
   ]
  },
  {
   "cell_type": "markdown",
   "metadata": {
    "deletable": false,
    "id": "QlFBsxAr_Zct"
   },
   "source": [
    "Now we get rid of the implicit duplicates in `genre` column. For example, the name of the same genre can be spelled slightly different in various occasions. Such errors will also affect the result of the study."
   ]
  },
  {
   "cell_type": "markdown",
   "metadata": {
    "deletable": false,
    "id": "eSjWwsOh_Zct",
    "tags": [
     "start_task"
    ]
   },
   "source": [
    "**Task 15**\n",
    "\n",
    "We are going to display the list of unique genre names sorted alphabetically. To do this:\n",
    "1. we extract the desired dataframe column;\n",
    "2. we apply a sort method to it;\n",
    "3. For a sorted column, we call a method that will return the unique values from the column."
   ]
  },
  {
   "cell_type": "code",
   "execution_count": 15,
   "metadata": {
    "deletable": false,
    "id": "JIUcqzZN_Zct"
   },
   "outputs": [
    {
     "data": {
      "text/plain": [
       "array(['acid', 'acoustic', 'action', 'adult', 'africa', 'afrikaans',\n",
       "       'alternative', 'alternativepunk', 'ambient', 'americana',\n",
       "       'animated', 'anime', 'arabesk', 'arabic', 'arena',\n",
       "       'argentinetango', 'art', 'audiobook', 'author', 'avantgarde',\n",
       "       'axé', 'baile', 'balkan', 'beats', 'bigroom', 'black', 'bluegrass',\n",
       "       'blues', 'bollywood', 'bossa', 'brazilian', 'breakbeat', 'breaks',\n",
       "       'broadway', 'cantautori', 'cantopop', 'canzone', 'caribbean',\n",
       "       'caucasian', 'celtic', 'chamber', 'chanson', 'children', 'chill',\n",
       "       'chinese', 'choral', 'christian', 'christmas', 'classical',\n",
       "       'classicmetal', 'club', 'colombian', 'comedy', 'conjazz',\n",
       "       'contemporary', 'country', 'cuban', 'dance', 'dancehall',\n",
       "       'dancepop', 'dark', 'death', 'deep', 'deutschrock', 'deutschspr',\n",
       "       'dirty', 'disco', 'dnb', 'documentary', 'downbeat', 'downtempo',\n",
       "       'drum', 'dub', 'dubstep', 'eastern', 'easy', 'electronic',\n",
       "       'electropop', 'emo', 'entehno', 'epicmetal', 'estrada', 'ethnic',\n",
       "       'eurofolk', 'european', 'experimental', 'extrememetal', 'fado',\n",
       "       'fairytail', 'film', 'fitness', 'flamenco', 'folk', 'folklore',\n",
       "       'folkmetal', 'folkrock', 'folktronica', 'forró', 'frankreich',\n",
       "       'französisch', 'french', 'funk', 'future', 'gangsta', 'garage',\n",
       "       'german', 'ghazal', 'gitarre', 'glitch', 'gospel', 'gothic',\n",
       "       'grime', 'grunge', 'gypsy', 'handsup', \"hard'n'heavy\", 'hardcore',\n",
       "       'hardstyle', 'hardtechno', 'hip', 'hip-hop', 'hiphop',\n",
       "       'historisch', 'holiday', 'hop', 'horror', 'house', 'hymn', 'idm',\n",
       "       'independent', 'indian', 'indie', 'indipop', 'industrial',\n",
       "       'inspirational', 'instrumental', 'international', 'irish', 'jam',\n",
       "       'japanese', 'jazz', 'jewish', 'jpop', 'jungle', 'k-pop',\n",
       "       'karadeniz', 'karaoke', 'kayokyoku', 'korean', 'laiko', 'latin',\n",
       "       'latino', 'leftfield', 'local', 'lounge', 'loungeelectronic',\n",
       "       'lovers', 'malaysian', 'mandopop', 'marschmusik', 'meditative',\n",
       "       'mediterranean', 'melodic', 'metal', 'metalcore', 'mexican',\n",
       "       'middle', 'minimal', 'miscellaneous', 'modern', 'mood', 'mpb',\n",
       "       'muslim', 'native', 'neoklassik', 'neue', 'new', 'newage',\n",
       "       'newwave', 'nu', 'nujazz', 'numetal', 'oceania', 'old', 'opera',\n",
       "       'orchestral', 'other', 'piano', 'podcasts', 'pop', 'popdance',\n",
       "       'popelectronic', 'popeurodance', 'poprussian', 'post',\n",
       "       'posthardcore', 'postrock', 'power', 'progmetal', 'progressive',\n",
       "       'psychedelic', 'punjabi', 'punk', 'quebecois', 'ragga', 'ram',\n",
       "       'rancheras', 'rap', 'rave', 'reggae', 'reggaeton', 'regional',\n",
       "       'relax', 'religious', 'retro', 'rhythm', 'rnb', 'rnr', 'rock',\n",
       "       'rockabilly', 'rockalternative', 'rockindie', 'rockother',\n",
       "       'romance', 'roots', 'ruspop', 'rusrap', 'rusrock', 'russian',\n",
       "       'salsa', 'samba', 'scenic', 'schlager', 'self', 'sertanejo',\n",
       "       'shanson', 'shoegazing', 'showtunes', 'singer', 'ska', 'skarock',\n",
       "       'slow', 'smooth', 'soft', 'soul', 'soulful', 'sound', 'soundtrack',\n",
       "       'southern', 'specialty', 'speech', 'spiritual', 'sport',\n",
       "       'stonerrock', 'surf', 'swing', 'synthpop', 'synthrock',\n",
       "       'sängerportrait', 'tango', 'tanzorchester', 'taraftar', 'tatar',\n",
       "       'tech', 'techno', 'teen', 'thrash', 'top', 'traditional',\n",
       "       'tradjazz', 'trance', 'tribal', 'trip', 'triphop', 'tropical',\n",
       "       'türk', 'türkçe', 'ukrrock', 'unknown', 'urban', 'uzbek',\n",
       "       'variété', 'vi', 'videogame', 'vocal', 'western', 'world',\n",
       "       'worldbeat', 'ïîï', 'электроника'], dtype=object)"
      ]
     },
     "execution_count": 15,
     "metadata": {},
     "output_type": "execute_result"
    }
   ],
   "source": [
    "# viewing genre column unique values\n",
    "df['genre'].sort_values(ascending=True).unique()\n"
   ]
  },
  {
   "cell_type": "markdown",
   "metadata": {
    "deletable": false,
    "id": "qej-Qmuo_Zct",
    "tags": [
     "start_task"
    ]
   },
   "source": [
    "**Task 16**\n",
    "\n",
    "Next, will be look through the list and search for implicit duplicates of the name `hiphop`. Those may be misspelled titles or alternative titles of the same genre.\n",
    "\n",
    "You will see the following implicit duplicates:\n",
    "**hip*,\n",
    "**hop*,\n",
    "**hip-hop*.\n",
    "\n",
    "To clear them from the table, let's use `replace()` method with two arguments: a list of duplicate strings (including *hip*, *hop*, and *hip-hop*) and a string with the correct value. We would need to fix `genre` column in the `df` table: replace each value from the list of duplicates with the correct one. Instead of `hip`, `hop` and `hip-hop` the table we should have the value `hiphop`:"
   ]
  },
  {
   "cell_type": "code",
   "execution_count": 16,
   "metadata": {
    "deletable": false,
    "id": "ErNDkmns_Zct"
   },
   "outputs": [],
   "source": [
    "#  removing implicit duplicates\n",
    "duplicates = ['hip', 'hop', 'hip-hop']\n",
    "correction = 'hiphop'\n",
    "df['genre'] = df['genre'].replace(duplicates, correction)"
   ]
  },
  {
   "cell_type": "markdown",
   "metadata": {
    "deletable": false,
    "id": "zQKF16_RG15m",
    "tags": [
     "start_task"
    ]
   },
   "source": [
    "**Task 17**\n",
    "\n",
    "We have to check if all wrong names were replaced:\n",
    "\n",
    "*hip,\n",
    "*hop,\n",
    "* hip-hop.\n",
    "\n",
    "Print a sorted list of unique values in the `genre` column:"
   ]
  },
  {
   "cell_type": "code",
   "execution_count": 17,
   "metadata": {
    "deletable": false,
    "id": "wvixALnFG15m"
   },
   "outputs": [
    {
     "data": {
      "text/plain": [
       "array(['acid', 'acoustic', 'action', 'adult', 'africa', 'afrikaans',\n",
       "       'alternative', 'alternativepunk', 'ambient', 'americana',\n",
       "       'animated', 'anime', 'arabesk', 'arabic', 'arena',\n",
       "       'argentinetango', 'art', 'audiobook', 'author', 'avantgarde',\n",
       "       'axé', 'baile', 'balkan', 'beats', 'bigroom', 'black', 'bluegrass',\n",
       "       'blues', 'bollywood', 'bossa', 'brazilian', 'breakbeat', 'breaks',\n",
       "       'broadway', 'cantautori', 'cantopop', 'canzone', 'caribbean',\n",
       "       'caucasian', 'celtic', 'chamber', 'chanson', 'children', 'chill',\n",
       "       'chinese', 'choral', 'christian', 'christmas', 'classical',\n",
       "       'classicmetal', 'club', 'colombian', 'comedy', 'conjazz',\n",
       "       'contemporary', 'country', 'cuban', 'dance', 'dancehall',\n",
       "       'dancepop', 'dark', 'death', 'deep', 'deutschrock', 'deutschspr',\n",
       "       'dirty', 'disco', 'dnb', 'documentary', 'downbeat', 'downtempo',\n",
       "       'drum', 'dub', 'dubstep', 'eastern', 'easy', 'electronic',\n",
       "       'electropop', 'emo', 'entehno', 'epicmetal', 'estrada', 'ethnic',\n",
       "       'eurofolk', 'european', 'experimental', 'extrememetal', 'fado',\n",
       "       'fairytail', 'film', 'fitness', 'flamenco', 'folk', 'folklore',\n",
       "       'folkmetal', 'folkrock', 'folktronica', 'forró', 'frankreich',\n",
       "       'französisch', 'french', 'funk', 'future', 'gangsta', 'garage',\n",
       "       'german', 'ghazal', 'gitarre', 'glitch', 'gospel', 'gothic',\n",
       "       'grime', 'grunge', 'gypsy', 'handsup', \"hard'n'heavy\", 'hardcore',\n",
       "       'hardstyle', 'hardtechno', 'hiphop', 'historisch', 'holiday',\n",
       "       'horror', 'house', 'hymn', 'idm', 'independent', 'indian', 'indie',\n",
       "       'indipop', 'industrial', 'inspirational', 'instrumental',\n",
       "       'international', 'irish', 'jam', 'japanese', 'jazz', 'jewish',\n",
       "       'jpop', 'jungle', 'k-pop', 'karadeniz', 'karaoke', 'kayokyoku',\n",
       "       'korean', 'laiko', 'latin', 'latino', 'leftfield', 'local',\n",
       "       'lounge', 'loungeelectronic', 'lovers', 'malaysian', 'mandopop',\n",
       "       'marschmusik', 'meditative', 'mediterranean', 'melodic', 'metal',\n",
       "       'metalcore', 'mexican', 'middle', 'minimal', 'miscellaneous',\n",
       "       'modern', 'mood', 'mpb', 'muslim', 'native', 'neoklassik', 'neue',\n",
       "       'new', 'newage', 'newwave', 'nu', 'nujazz', 'numetal', 'oceania',\n",
       "       'old', 'opera', 'orchestral', 'other', 'piano', 'podcasts', 'pop',\n",
       "       'popdance', 'popelectronic', 'popeurodance', 'poprussian', 'post',\n",
       "       'posthardcore', 'postrock', 'power', 'progmetal', 'progressive',\n",
       "       'psychedelic', 'punjabi', 'punk', 'quebecois', 'ragga', 'ram',\n",
       "       'rancheras', 'rap', 'rave', 'reggae', 'reggaeton', 'regional',\n",
       "       'relax', 'religious', 'retro', 'rhythm', 'rnb', 'rnr', 'rock',\n",
       "       'rockabilly', 'rockalternative', 'rockindie', 'rockother',\n",
       "       'romance', 'roots', 'ruspop', 'rusrap', 'rusrock', 'russian',\n",
       "       'salsa', 'samba', 'scenic', 'schlager', 'self', 'sertanejo',\n",
       "       'shanson', 'shoegazing', 'showtunes', 'singer', 'ska', 'skarock',\n",
       "       'slow', 'smooth', 'soft', 'soul', 'soulful', 'sound', 'soundtrack',\n",
       "       'southern', 'specialty', 'speech', 'spiritual', 'sport',\n",
       "       'stonerrock', 'surf', 'swing', 'synthpop', 'synthrock',\n",
       "       'sängerportrait', 'tango', 'tanzorchester', 'taraftar', 'tatar',\n",
       "       'tech', 'techno', 'teen', 'thrash', 'top', 'traditional',\n",
       "       'tradjazz', 'trance', 'tribal', 'trip', 'triphop', 'tropical',\n",
       "       'türk', 'türkçe', 'ukrrock', 'unknown', 'urban', 'uzbek',\n",
       "       'variété', 'vi', 'videogame', 'vocal', 'western', 'world',\n",
       "       'worldbeat', 'ïîï', 'электроника'], dtype=object)"
      ]
     },
     "execution_count": 17,
     "metadata": {},
     "output_type": "execute_result"
    }
   ],
   "source": [
    "# checking the list once again\n",
    "df['genre'].sort_values(ascending=True).unique()"
   ]
  },
  {
   "cell_type": "markdown",
   "metadata": {
    "deletable": false,
    "id": "jz6a9-7HQUDd"
   },
   "source": [
    "**Conclusions**\n",
    "\n",
    "During preprocessing of data we found the following problems in our initial dataset:\n",
    "\n",
    "- Header style issues,\n",
    "- Some missing values,\n",
    "- Duplicates - explicit and implicit.\n",
    "\n",
    "We were able to fix headers to make the table easier to work with. Moreover, without the duplicates our study will become more accurate.\n",
    "\n",
    "Also we have replaced the missing values with `'unknown'` value. It remains unclear whether multiple missing valuess in `genre` column will affect accuracy of our study.\n",
    "\n",
    "Now we can proceed with hypothesis testing. "
   ]
  },
  {
   "cell_type": "markdown",
   "metadata": {
    "deletable": false,
    "id": "WttZHXH0SqKk"
   },
   "source": [
    "## Testing the hypotheses"
   ]
  },
  {
   "cell_type": "markdown",
   "metadata": {
    "deletable": false,
    "id": "Im936VVi_Zcu"
   },
   "source": [
    "### Comparison of user behavior in two capitals"
   ]
  },
  {
   "cell_type": "markdown",
   "metadata": {
    "deletable": false,
    "id": "nwt_MuaL_Zcu"
   },
   "source": [
    "The first hypothesis states that users listen to music in a different way in Moscow and St. Petersburg. Let's check this assumption against the data on the three days of the week - Monday, Wednesday and Friday. For this we will:\n",
    "\n",
    "* Separate users of Moscow and St. Petersburg.\n",
    "* Compare how many tracks each user group listened to on Monday, Wednesday and Friday in each city."
   ]
  },
  {
   "cell_type": "markdown",
   "metadata": {
    "deletable": false,
    "id": "8Dw_YMmT_Zcu",
    "tags": [
     "start_task"
    ]
   },
   "source": [
    "**Task 18**\n",
    "\n",
    "Ffirst we perform each of the calculations separately.\n",
    "\n",
    "Then, we estimate user activity in each city. After that we will group the data by city and count the plays in each group.\n",
    "\n"
   ]
  },
  {
   "cell_type": "code",
   "execution_count": 18,
   "metadata": {
    "deletable": false,
    "id": "0_Qs96oh_Zcu"
   },
   "outputs": [
    {
     "data": {
      "text/plain": [
       "city\n",
       "Moscow              42741\n",
       "Saint-Petersburg    18512\n",
       "Name: user_id, dtype: int64"
      ]
     },
     "execution_count": 18,
     "metadata": {},
     "output_type": "execute_result"
    }
   ],
   "source": [
    "#  listen counts by city\n",
    "df.groupby('city')['user_id'].count()\n"
   ]
  },
  {
   "cell_type": "markdown",
   "metadata": {
    "deletable": false,
    "id": "dzli3w8o_Zcu",
    "tags": [
     "start_task"
    ]
   },
   "source": [
    "There are more listenings in Moscow than in St. Petersburg. Nevertheless, we cannot state that Moscow users listen to music more often. Most likely it happens because there are more users in Moscow in general.\n",
    "\n",
    "**Task 19**\n",
    "\n",
    "Now we group the data by day of the week and count the plays on Monday, Wednesday, and Friday. Please note, that the data contains information about the plays for these days only.\n"
   ]
  },
  {
   "cell_type": "code",
   "execution_count": 19,
   "metadata": {
    "deletable": false,
    "id": "uZMKjiJz_Zcu"
   },
   "outputs": [
    {
     "data": {
      "text/plain": [
       "day\n",
       "Friday       21840\n",
       "Monday       21354\n",
       "Wednesday    18059\n",
       "Name: user_id, dtype: int64"
      ]
     },
     "execution_count": 19,
     "metadata": {},
     "output_type": "execute_result"
    }
   ],
   "source": [
    "# plays counting for each of three days\n",
    "df.groupby('day')['user_id'].count()"
   ]
  },
  {
   "cell_type": "markdown",
   "metadata": {
    "deletable": false,
    "id": "cC2tNrlL_Zcu"
   },
   "source": [
    "Users from the two cities are less active on Wednesdays. If we consider each city separately, the picture may change."
   ]
  },
  {
   "cell_type": "markdown",
   "metadata": {
    "deletable": false,
    "id": "POzs8bGa_Zcu",
    "tags": [
     "start_task"
    ]
   },
   "source": [
    "**Task 20**\n",
    "\n",
    "\n",
    "We have seen how grouping by city and by day of the week works. Now let's write a function that will combine these two calculations.\n",
    "\n",
    "Let's create `number_tracks()` function that will count the plays for a given day and city. Function would need two parameters:\n",
    "* day of the week,\n",
    "* name of the city.\n",
    "\n",
    "Inside the function, let's save the rows of the source table as following:\n",
    "  * `day` column is equal to `day` parameter,\n",
    "  * `city` column is equal to `city` parameter.\n",
    "\n",
    "To do this, we will apply sequential filtering with logical indexing (or complex logical expressions in one line)\n",
    "\n",
    "Then we count values ​​in the `user_id` column of the resulting table. Save the result to a new variable. Return this variable from the function."
   ]
  },
  {
   "cell_type": "code",
   "execution_count": 20,
   "metadata": {
    "deletable": false,
    "id": "Nz3GdQB1_Zcu"
   },
   "outputs": [],
   "source": [
    "# <creating function number_tracks()>\n",
    "\n",
    "def number_tracks(day, city):\n",
    "    track_list = df[df['day'] == day]\n",
    "    track_list = track_list[track_list['city'] == city]\n",
    "    track_list_count = track_list['user_id'].count()\n",
    "    return(track_list_count)\n",
    "\n",
    "# Define function with 2 parameters: day, city.\n",
    "# In track_list variable we will save all the rowns of our df, for which \n",
    "# the value in 'day' calumn is equal of day parameter and in the same time\n",
    "# in a column 'city' the value is equal to city (we will apply sequential filtering with logical indexing\n",
    "# Inside track_list_count variable we will save values of the row 'user_id',\n",
    "# with the help of count() method applied for track_list table.    \n",
    "# Our function should return a number - value of track_list_count.    \n"
   ]
  },
  {
   "cell_type": "markdown",
   "metadata": {
    "deletable": false,
    "id": "ytf7xFrFJQ2r",
    "tags": [
     "start_task"
    ]
   },
   "source": [
    "**Task 21**\n",
    "\n",
    "We will call `number_tracks()` functions six times in total, changing the parameters so that we may get data for each city on each of the three days."
   ]
  },
  {
   "cell_type": "code",
   "execution_count": 21,
   "metadata": {
    "deletable": false,
    "id": "rJcRATNQ_Zcu"
   },
   "outputs": [
    {
     "data": {
      "text/plain": [
       "15740"
      ]
     },
     "execution_count": 21,
     "metadata": {},
     "output_type": "execute_result"
    }
   ],
   "source": [
    "# play counts for Moscow on Monday\n",
    "number_tracks('Monday', 'Moscow')"
   ]
  },
  {
   "cell_type": "code",
   "execution_count": 22,
   "metadata": {
    "deletable": false,
    "id": "hq_ncZ5T_Zcu"
   },
   "outputs": [
    {
     "data": {
      "text/plain": [
       "5614"
      ]
     },
     "execution_count": 22,
     "metadata": {},
     "output_type": "execute_result"
    }
   ],
   "source": [
    "# play counts for Saint-Petersburg on Monday\n",
    "number_tracks('Monday', 'Saint-Petersburg')"
   ]
  },
  {
   "cell_type": "code",
   "execution_count": 23,
   "metadata": {
    "deletable": false,
    "id": "_NTy2VPU_Zcu"
   },
   "outputs": [
    {
     "data": {
      "text/plain": [
       "11056"
      ]
     },
     "execution_count": 23,
     "metadata": {},
     "output_type": "execute_result"
    }
   ],
   "source": [
    "# play counts for Moscow on Wednesday\n",
    "number_tracks('Wednesday', 'Moscow')"
   ]
  },
  {
   "cell_type": "code",
   "execution_count": 24,
   "metadata": {
    "deletable": false,
    "id": "j2y3TAwo_Zcu"
   },
   "outputs": [
    {
     "data": {
      "text/plain": [
       "7003"
      ]
     },
     "execution_count": 24,
     "metadata": {},
     "output_type": "execute_result"
    }
   ],
   "source": [
    "# play counts for Saint-Petersburg on Wednesday\n",
    "number_tracks('Wednesday', 'Saint-Petersburg')"
   ]
  },
  {
   "cell_type": "code",
   "execution_count": 25,
   "metadata": {
    "deletable": false,
    "id": "vYDw5u_K_Zcu"
   },
   "outputs": [
    {
     "data": {
      "text/plain": [
       "15945"
      ]
     },
     "execution_count": 25,
     "metadata": {},
     "output_type": "execute_result"
    }
   ],
   "source": [
    "# play counts for Moscow on Friday\n",
    "number_tracks('Friday', 'Moscow')"
   ]
  },
  {
   "cell_type": "code",
   "execution_count": 26,
   "metadata": {
    "deletable": false,
    "id": "8_yzFtW3_Zcu"
   },
   "outputs": [
    {
     "data": {
      "text/plain": [
       "5895"
      ]
     },
     "execution_count": 26,
     "metadata": {},
     "output_type": "execute_result"
    }
   ],
   "source": [
    "# play counts for Saint-Petersburg on Friday\n",
    "number_tracks('Friday', 'Saint-Petersburg')"
   ]
  },
  {
   "cell_type": "markdown",
   "metadata": {
    "deletable": false,
    "id": "7QXffbO-_Zcu",
    "tags": [
     "start_task"
    ]
   },
   "source": [
    "**Task 22**\n",
    "\n",
    "Let's create a table using `pd.DataFrame` constructor, where:\n",
    "* column names - `['city', 'monday', 'wednesday', 'friday']`;\n",
    "* data is the results we got with `number_tracks`."
   ]
  },
  {
   "cell_type": "code",
   "execution_count": 27,
   "metadata": {
    "deletable": false,
    "id": "APAcLpOr_Zcu"
   },
   "outputs": [
    {
     "data": {
      "text/html": [
       "<div>\n",
       "<style scoped>\n",
       "    .dataframe tbody tr th:only-of-type {\n",
       "        vertical-align: middle;\n",
       "    }\n",
       "\n",
       "    .dataframe tbody tr th {\n",
       "        vertical-align: top;\n",
       "    }\n",
       "\n",
       "    .dataframe thead th {\n",
       "        text-align: right;\n",
       "    }\n",
       "</style>\n",
       "<table border=\"1\" class=\"dataframe\">\n",
       "  <thead>\n",
       "    <tr style=\"text-align: right;\">\n",
       "      <th></th>\n",
       "      <th>city</th>\n",
       "      <th>monday</th>\n",
       "      <th>wednesday</th>\n",
       "      <th>friday</th>\n",
       "    </tr>\n",
       "  </thead>\n",
       "  <tbody>\n",
       "    <tr>\n",
       "      <th>0</th>\n",
       "      <td>Moscow</td>\n",
       "      <td>15740</td>\n",
       "      <td>11056</td>\n",
       "      <td>15945</td>\n",
       "    </tr>\n",
       "    <tr>\n",
       "      <th>1</th>\n",
       "      <td>Saint-Petersburg</td>\n",
       "      <td>5614</td>\n",
       "      <td>7003</td>\n",
       "      <td>5895</td>\n",
       "    </tr>\n",
       "  </tbody>\n",
       "</table>\n",
       "</div>"
      ],
      "text/plain": [
       "               city  monday  wednesday  friday\n",
       "0            Moscow   15740      11056   15945\n",
       "1  Saint-Petersburg    5614       7003    5895"
      ]
     },
     "metadata": {},
     "output_type": "display_data"
    }
   ],
   "source": [
    "# result table\n",
    "\n",
    "data = [['Moscow', 15740, 11056, 15945],\n",
    "        ['Saint-Petersburg', 5614, 7003, 5895]] \n",
    "columns = ['city', 'monday', 'wednesday', 'friday'] \n",
    "\n",
    "\n",
    "results = pd.DataFrame(data = data, columns = columns)\n",
    "display(results)"
   ]
  },
  {
   "cell_type": "markdown",
   "metadata": {
    "deletable": false,
    "id": "-EgPIHYu_Zcu"
   },
   "source": [
    "**Conclusions**\n",
    "\n",
    "Data shows the following difference in user behavior:\n",
    "\n",
    "- In Moscow, the peak of listening falls on Monday and Friday, and on Wednesday there is a noticeable downturn.\n",
    "- In St. Petersburg, on the contrary, users listen to music much more on Wednesdays. Activity on Monday and Friday here is almost equal or inferior to Wednesday.\n",
    "\n",
    "Therefore, our data analysis supports the first hypothesis, that users listen to music in Moscow and St. Petersburg differently."
   ]
  },
  {
   "cell_type": "markdown",
   "metadata": {
    "deletable": false,
    "id": "atZAxtq4_Zcu"
   },
   "source": [
    "### Music at the beginning and end of the week"
   ]
  },
  {
   "cell_type": "markdown",
   "metadata": {
    "deletable": false,
    "id": "eXrQqXFH_Zcu"
   },
   "source": [
    "According to the second hypothesis, on Monday morning certain genres predominate in Moscow, while others dominate in St. Petersburg. Similarly, Friday evenings are dominated by different genres, depending on the city."
   ]
  },
  {
   "cell_type": "markdown",
   "metadata": {
    "deletable": false,
    "id": "S8UcW6Hw_Zcu",
    "tags": [
     "start_task"
    ]
   },
   "source": [
    "**Task 23**\n",
    "\n",
    "We will save tables with data in two variables:\n",
    "* in Moscow - to `moscow_general`;\n",
    "* in St. Petersburg - to `spb_general`."
   ]
  },
  {
   "cell_type": "code",
   "execution_count": 28,
   "metadata": {
    "deletable": false,
    "id": "qeaFfM_P_Zcu"
   },
   "outputs": [],
   "source": [
    "# getting the moscow_general table from those rows of the df table,\n",
    "# for which the value in the 'city' column is 'Moscow'\n",
    "moscow_general = df[df['city'] == 'Moscow']"
   ]
  },
  {
   "cell_type": "code",
   "execution_count": 29,
   "metadata": {
    "deletable": false,
    "id": "ORaVRKto_Zcu"
   },
   "outputs": [],
   "source": [
    "# getting the spb_general table from those rows of the df table,\n",
    "# for which the value in the 'city' column is 'Saint-Petersburg'\n",
    "spb_general = df[df['city'] == 'Saint-Petersburg']"
   ]
  },
  {
   "cell_type": "markdown",
   "metadata": {
    "deletable": false,
    "id": "MEJV-CX2_Zcu",
    "tags": [
     "start_task"
    ]
   },
   "source": [
    "**Task 24**\n",
    "\n",
    "We are going to create a function `genre_weekday()` with four parameters:\n",
    "* table (dataframe) with data,\n",
    "* day of the week,\n",
    "* initial timestamp in 'hh:mm' format,\n",
    "* last timestamp in 'hh:mm' format.\n",
    "\n",
    "The function should return information about the top 10 genres of those tracks that were listened to on the specified day, in the interval between two timestamps."
   ]
  },
  {
   "cell_type": "code",
   "execution_count": 30,
   "metadata": {
    "deletable": false,
    "id": "laJT9BYl_Zcu"
   },
   "outputs": [],
   "source": [
    "# Declaring the function genre_weekday() with parameters table, day, time1, time2,\n",
    "# which returns information about the most popular genres on the specified day in\n",
    "# given time:\n",
    "# 1) the genre_df variable saves those rows of the transmitted dataframe table, for\n",
    "# of which at the same time:\n",
    "# - the value in the day column is equal to the value of the day argument\n",
    "# - the value in the time column is greater than the value of the time1 argument\n",
    "# - the value in the time column is less than the value of the time2 argument\n",
    "# Use sequential filtering with boolean indexing.\n",
    "# 2) group dataframe genre_df by genre column, take one of its\n",
    "# columns and use the count() method to count the number of entries for each\n",
    "# of present genres, write the resulting Series to a variable\n",
    "#genre_df_count\n",
    "# 3) sort genre_df_count in descending order of occurrence and save\n",
    "# into the genre_df_sorted variable\n",
    "# 4) return a Series of the first 10 genre_df_sorted values, these will be the top 10\n",
    "# popular genres (on the specified day, at the specified time)\n",
    "\n",
    "def genre_weekday(df, day, time1, time2):\n",
    "    # sequential filtering\n",
    "    # leave in genre_df only those df lines whose day is equal to day\n",
    "    genre_df = df[df['day'] == day]\n",
    "    # leave in genre_df only those genre_df lines whose time is less than time2\n",
    "    genre_df = genre_df[genre_df['time'] < time2]\n",
    "    # leave in genre_df only those genre_df lines whose time is greater than time1\n",
    "    genre_df = genre_df[genre_df['time'] > time1]\n",
    "    # group the filtered dataframe by the column with genre names, take the genre column and count the number of rows for each genre using the count() method\n",
    "    genre_df_count = genre_df.groupby('genre')['genre'].count()\n",
    "    # sort the result in descending order (so that the most popular genres are at the beginning of the Series)\n",
    "    genre_df_sorted = genre_df_count.sort_values(ascending=False)\n",
    "    # return a Series with the 10 most popular genres in the specified time interval of the specified day\n",
    "    return genre_df_sorted[:10]"
   ]
  },
  {
   "cell_type": "markdown",
   "metadata": {
    "deletable": false,
    "id": "la2s2_PF_Zcu",
    "tags": [
     "start_task"
    ]
   },
   "source": [
    "**Task 25**\n",
    "\n",
    "\n",
    "Let's compare the results of the `genre_weekday()` function for Moscow and St. Petersburg on Monday morning (from 7:00 to 11:00) and Friday evening (from 17:00 to 23:00):"
   ]
  },
  {
   "cell_type": "code",
   "execution_count": 31,
   "metadata": {
    "deletable": false,
    "id": "yz7itPUQ_Zcu"
   },
   "outputs": [
    {
     "data": {
      "text/plain": [
       "genre\n",
       "pop            781\n",
       "dance          549\n",
       "electronic     480\n",
       "rock           474\n",
       "hiphop         286\n",
       "ruspop         186\n",
       "world          181\n",
       "rusrap         175\n",
       "alternative    164\n",
       "unknown        161\n",
       "Name: genre, dtype: int64"
      ]
     },
     "execution_count": 31,
     "metadata": {},
     "output_type": "execute_result"
    }
   ],
   "source": [
    "# function call for Monday morning in Moscow (instead of df - moscow_general table)\n",
    "# time objects are strings and are compared as strings\n",
    "# call example: genre_weekday(moscow_general, 'Monday', '07:00', '11:00')\n",
    "genre_weekday(moscow_general, 'Monday', '07:00', '11:00')"
   ]
  },
  {
   "cell_type": "code",
   "execution_count": 32,
   "metadata": {
    "deletable": false,
    "id": "kwUcHPdy_Zcu"
   },
   "outputs": [
    {
     "data": {
      "text/plain": [
       "genre\n",
       "pop            218\n",
       "dance          182\n",
       "rock           162\n",
       "electronic     147\n",
       "hiphop          80\n",
       "ruspop          64\n",
       "alternative     58\n",
       "rusrap          55\n",
       "jazz            44\n",
       "classical       40\n",
       "Name: genre, dtype: int64"
      ]
     },
     "execution_count": 32,
     "metadata": {},
     "output_type": "execute_result"
    }
   ],
   "source": [
    "# function call for Monday morning in St. Petersburg (instead of df - spb_general table)\n",
    "genre_weekday(spb_general, 'Monday', '07:00', '11:00')"
   ]
  },
  {
   "cell_type": "code",
   "execution_count": 33,
   "metadata": {
    "deletable": false,
    "id": "EzXVRE1o_Zcu"
   },
   "outputs": [
    {
     "data": {
      "text/plain": [
       "genre\n",
       "pop            717\n",
       "dance          524\n",
       "rock           518\n",
       "electronic     485\n",
       "hiphop         238\n",
       "alternative    182\n",
       "classical      172\n",
       "world          172\n",
       "ruspop         149\n",
       "rusrap         133\n",
       "Name: genre, dtype: int64"
      ]
     },
     "execution_count": 33,
     "metadata": {},
     "output_type": "execute_result"
    }
   ],
   "source": [
    "# function call for Friday evening in Moscow\n",
    "genre_weekday(moscow_general, 'Monday', '17:00', '23:00')"
   ]
  },
  {
   "cell_type": "code",
   "execution_count": 34,
   "metadata": {
    "deletable": false,
    "id": "JZaEKu5v_Zcu"
   },
   "outputs": [
    {
     "data": {
      "text/plain": [
       "genre\n",
       "pop            263\n",
       "rock           208\n",
       "electronic     192\n",
       "dance          191\n",
       "hiphop         104\n",
       "alternative     72\n",
       "classical       71\n",
       "jazz            57\n",
       "rusrap          54\n",
       "ruspop          53\n",
       "Name: genre, dtype: int64"
      ]
     },
     "execution_count": 34,
     "metadata": {},
     "output_type": "execute_result"
    }
   ],
   "source": [
    "# function call for Friday evening in St. Petersburg\n",
    "genre_weekday(spb_general, 'Monday', '17:00', '23:00')"
   ]
  },
  {
   "cell_type": "markdown",
   "metadata": {
    "deletable": false,
    "id": "wrCe4MNX_Zcu"
   },
   "source": [
    "**Conclusions**\n",
    "\n",
    "If we compare the top 10 genres on Monday morning, we can draw the following conclusions:\n",
    "\n",
    "1. In Moscow and St. Petersburg users listen to similar music. The only difference is that the Moscow rating includes the “world” genre, while the St. Petersburg rating includes jazz and classical.\n",
    "\n",
    "2. There were so many missing values ​​in Moscow that the value `'unknown'` took tenth place among the most popular genres. This means that missing values ​​occupy a significant share in the data and jeopardize the reliability of the study.\n",
    "\n",
    "Friday night does not change this picture. Some genres rise a little higher, others go down, but overall the top 10 stays the same.\n",
    "\n",
    "Thus, the second hypothesis was only partially confirmed:\n",
    "* Users listen to similar music at the beginning of the week and at the end.\n",
    "* The difference between Moscow and St. Petersburg is not very pronounced. In Moscow, users listen to Russian popular music more often, in St. Petersburg - jazz.\n",
    "\n",
    "However, gaps in the data cast doubt on this result. Many of missing values are in Moscow, so the top 10 ranking could be different if it weren't lost genre data."
   ]
  },
  {
   "cell_type": "markdown",
   "metadata": {
    "deletable": false,
    "id": "JolODAqr_Zcu"
   },
   "source": [
    "### Genre preferences in Moscow and St. Petersburg\n",
    "\n",
    "Hypothesis: St. Petersburg is the capital of rap, the music of this genre is listened to more often than in Moscow. And Moscow is a city of contrasts, which, nevertheless, is dominated by pop music."
   ]
  },
  {
   "cell_type": "markdown",
   "metadata": {
    "deletable": false,
    "id": "DlegSvaT_Zcu",
    "tags": [
     "start_task"
    ]
   },
   "source": [
    "**Task 26**\n",
    "\n",
    "We group the `moscowb_general` table by genre. Then, we count the number of plays for each genre. Sort the result in descending order and save it in a table `moscow_genres`."
   ]
  },
  {
   "cell_type": "code",
   "execution_count": 35,
   "metadata": {
    "deletable": false,
    "id": "r19lIPke_Zcu"
   },
   "outputs": [],
   "source": [
    "# in one line: group moscow_general table by 'genre' column,\n",
    "# counting the number of 'genre' values in this grouping using the count() method,\n",
    "# sort the resulting Series in descending order and store it in moscow_genres\n",
    "\n",
    "moscow_genres = moscow_general.groupby('genre')['genre'].count().sort_values(ascending=False)"
   ]
  },
  {
   "cell_type": "markdown",
   "metadata": {
    "deletable": false,
    "id": "6kMuomxTiIr8",
    "tags": [
     "start_task"
    ]
   },
   "source": [
    "**Task 27**\n",
    "\n",
    "Display first 10 rows of `moscow_genres`:"
   ]
  },
  {
   "cell_type": "code",
   "execution_count": 36,
   "metadata": {
    "deletable": false,
    "id": "WhCSooF8_Zcv"
   },
   "outputs": [
    {
     "data": {
      "text/plain": [
       "genre\n",
       "pop            5892\n",
       "dance          4435\n",
       "rock           3965\n",
       "electronic     3786\n",
       "hiphop         2096\n",
       "classical      1616\n",
       "world          1432\n",
       "alternative    1379\n",
       "ruspop         1372\n",
       "rusrap         1161\n",
       "Name: genre, dtype: int64"
      ]
     },
     "execution_count": 36,
     "metadata": {},
     "output_type": "execute_result"
    }
   ],
   "source": [
    "# displaying firs 10 rows of moscow_genres\n",
    "moscow_genres.head(10)"
   ]
  },
  {
   "cell_type": "markdown",
   "metadata": {
    "deletable": false,
    "id": "cnPG2vnN_Zcv",
    "tags": [
     "start_task"
    ]
   },
   "source": [
    "**Task 28**\n",
    "\n",
    "\n",
    "Now we do the same for St. Petersburg.\n",
    "\n",
    "We group the `spb_general` table by genre. Count the number of plays for each genre. Sort the result in descending order and save it in a table `spb_genres`:\n"
   ]
  },
  {
   "cell_type": "code",
   "execution_count": 37,
   "metadata": {
    "deletable": false,
    "id": "gluLIpE7_Zcv"
   },
   "outputs": [],
   "source": [
    "# in one line: group spb_general table by 'genre' column,\n",
    "# counting the number of 'genre' values in this grouping using the count() method,\n",
    "# sort the resulting Series in descending order and store it in spb_genres\n",
    "spb_genres = spb_general.groupby('genre')['genre'].count().sort_values(ascending=False)"
   ]
  },
  {
   "cell_type": "markdown",
   "metadata": {
    "deletable": false,
    "id": "5Doha_ODgyQ8",
    "tags": [
     "start_task"
    ]
   },
   "source": [
    "**Task 29**\n",
    "\n",
    "Displaying first 10 rows of `spb_genres`:"
   ]
  },
  {
   "cell_type": "code",
   "execution_count": 38,
   "metadata": {
    "deletable": false,
    "id": "uaGJHjVU_Zcv"
   },
   "outputs": [
    {
     "data": {
      "text/plain": [
       "genre\n",
       "pop            2431\n",
       "dance          1932\n",
       "rock           1879\n",
       "electronic     1736\n",
       "hiphop          960\n",
       "alternative     649\n",
       "classical       646\n",
       "rusrap          564\n",
       "ruspop          538\n",
       "world           515\n",
       "Name: genre, dtype: int64"
      ]
     },
     "execution_count": 38,
     "metadata": {},
     "output_type": "execute_result"
    }
   ],
   "source": [
    "#  the first 10 rows of spb_genres\n",
    "spb_genres.head(10)"
   ]
  },
  {
   "cell_type": "markdown",
   "metadata": {
    "deletable": false,
    "id": "RY51YJYu_Zcv"
   },
   "source": [
    "**Conclusions**"
   ]
  },
  {
   "cell_type": "markdown",
   "metadata": {
    "deletable": false,
    "id": "nVhnJEm__Zcv"
   },
   "source": [
    "The hypothesis was partially confirmed:\n",
    "* Pop music is the most popular genre in Moscow, as the hypothesis suggested. Moreover, in the top 10 genres there is a close genre - Russian popular music.\n",
    "* Contrary to expectations, rap is equally popular in Moscow and St. Petersburg.\n"
   ]
  },
  {
   "cell_type": "markdown",
   "metadata": {
    "deletable": false,
    "id": "ykKQ0N65_Zcv"
   },
   "source": [
    "## Research summary"
   ]
  },
  {
   "cell_type": "markdown",
   "metadata": {
    "deletable": false,
    "id": "tjUwbHb3_Zcv"
   },
   "source": [
    "We evaluated three hypotheses and found the following:\n",
    "\n",
    "1. The day of the week has a different effect on the activity of users in Moscow and St. Petersburg.\n",
    "\n",
    "Thus, the first hypothesis was fully confirmed.\n",
    "\n",
    "2. Musical preferences do not vary much during the week, whether you are in Moscow or St. Petersburg. Small differences are noticeable at the beginning of the week; as such, on Mondays:\n",
    "* in Moscow, users listen to “world” genre music;\n",
    "* in St. Petersburg, jazz and classical music.\n",
    "\n",
    "Thus, the second hypothesis was confirmed partially. These results could have been different if missing values in the data were not present.\n",
    "\n",
    "3. The likes of users of Moscow and St. Petersburg have more in common than differences. Contrary to expectations, genre preferences in St. Petersburg resemble those in Moscow.\n",
    "\n",
    "The third hypothesis was not confirmed. If there are differences in preferences, they are invisible to the majority of users.\n",
    "\n",
    "**In practice, studies contain tests of statistical hypotheses.**\n",
    "\n",
    "From the data of one service, it is not always possible to draw a conclusion about all the habitants of the city.\n",
    "Tests of statistical hypotheses will show how reliable they are, based on the available data."
   ]
  }
 ],
 "metadata": {
  "ExecuteTimeLog": [
   {
    "duration": 431,
    "start_time": "2022-10-09T04:18:14.628Z"
   },
   {
    "duration": 241,
    "start_time": "2022-10-09T04:18:17.259Z"
   },
   {
    "duration": 19,
    "start_time": "2022-10-09T04:18:42.472Z"
   },
   {
    "duration": 31,
    "start_time": "2022-10-09T04:19:28.490Z"
   },
   {
    "duration": 41,
    "start_time": "2022-10-09T04:19:37.513Z"
   },
   {
    "duration": 5,
    "start_time": "2022-10-09T04:33:54.984Z"
   },
   {
    "duration": 15,
    "start_time": "2022-10-09T04:42:37.103Z"
   },
   {
    "duration": 6,
    "start_time": "2022-10-09T04:42:49.048Z"
   },
   {
    "duration": 26,
    "start_time": "2022-10-09T04:44:46.555Z"
   },
   {
    "duration": 31,
    "start_time": "2022-10-09T04:45:04.063Z"
   },
   {
    "duration": 24,
    "start_time": "2022-10-09T04:45:15.730Z"
   },
   {
    "duration": 19,
    "start_time": "2022-10-09T04:54:05.271Z"
   },
   {
    "duration": 41,
    "start_time": "2022-10-09T04:54:17.281Z"
   },
   {
    "duration": 72,
    "start_time": "2022-10-09T05:01:53.472Z"
   },
   {
    "duration": 70,
    "start_time": "2022-10-09T05:02:57.725Z"
   },
   {
    "duration": 62,
    "start_time": "2022-10-09T05:03:09.737Z"
   },
   {
    "duration": 79,
    "start_time": "2022-10-09T05:07:30.256Z"
   },
   {
    "duration": 61,
    "start_time": "2022-10-09T05:07:32.522Z"
   },
   {
    "duration": 71,
    "start_time": "2022-10-09T05:09:07.420Z"
   },
   {
    "duration": 66,
    "start_time": "2022-10-09T05:09:09.626Z"
   },
   {
    "duration": 643,
    "start_time": "2022-10-09T05:19:41.361Z"
   },
   {
    "duration": 662,
    "start_time": "2022-10-09T05:24:01.741Z"
   },
   {
    "duration": 525,
    "start_time": "2022-10-09T05:24:20.437Z"
   },
   {
    "duration": 546,
    "start_time": "2022-10-09T05:26:15.830Z"
   },
   {
    "duration": 413,
    "start_time": "2022-10-09T05:26:52.272Z"
   },
   {
    "duration": 186,
    "start_time": "2022-10-09T05:26:52.687Z"
   },
   {
    "duration": 17,
    "start_time": "2022-10-09T05:26:52.875Z"
   },
   {
    "duration": 42,
    "start_time": "2022-10-09T05:26:52.895Z"
   },
   {
    "duration": 18,
    "start_time": "2022-10-09T05:26:52.939Z"
   },
   {
    "duration": 38,
    "start_time": "2022-10-09T05:26:52.959Z"
   },
   {
    "duration": 34,
    "start_time": "2022-10-09T05:26:52.999Z"
   },
   {
    "duration": 20,
    "start_time": "2022-10-09T05:26:53.035Z"
   },
   {
    "duration": 40,
    "start_time": "2022-10-09T05:26:53.058Z"
   },
   {
    "duration": 34,
    "start_time": "2022-10-09T05:26:53.102Z"
   },
   {
    "duration": 35,
    "start_time": "2022-10-09T05:26:53.138Z"
   },
   {
    "duration": 79,
    "start_time": "2022-10-09T05:26:53.175Z"
   },
   {
    "duration": 79,
    "start_time": "2022-10-09T05:26:53.257Z"
   },
   {
    "duration": 78,
    "start_time": "2022-10-09T05:26:53.338Z"
   },
   {
    "duration": 50,
    "start_time": "2022-10-09T05:26:53.418Z"
   },
   {
    "duration": 14,
    "start_time": "2022-10-09T05:26:53.470Z"
   },
   {
    "duration": 16,
    "start_time": "2022-10-09T05:26:53.486Z"
   },
   {
    "duration": 22,
    "start_time": "2022-10-09T05:26:53.504Z"
   },
   {
    "duration": 25,
    "start_time": "2022-10-09T05:26:53.528Z"
   },
   {
    "duration": 16,
    "start_time": "2022-10-09T05:26:53.555Z"
   },
   {
    "duration": 27,
    "start_time": "2022-10-09T05:26:53.573Z"
   },
   {
    "duration": 27,
    "start_time": "2022-10-09T05:26:53.602Z"
   },
   {
    "duration": 14,
    "start_time": "2022-10-09T05:26:53.631Z"
   },
   {
    "duration": 22,
    "start_time": "2022-10-09T05:26:53.647Z"
   },
   {
    "duration": 25,
    "start_time": "2022-10-09T05:26:53.671Z"
   },
   {
    "duration": 23,
    "start_time": "2022-10-09T05:26:53.698Z"
   },
   {
    "duration": 35,
    "start_time": "2022-10-09T05:26:53.722Z"
   },
   {
    "duration": 17,
    "start_time": "2022-10-09T05:26:53.760Z"
   },
   {
    "duration": 22,
    "start_time": "2022-10-09T05:26:53.779Z"
   },
   {
    "duration": 48,
    "start_time": "2022-10-09T05:26:53.803Z"
   },
   {
    "duration": 1,
    "start_time": "2022-10-09T05:26:53.853Z"
   },
   {
    "duration": 0,
    "start_time": "2022-10-09T05:26:53.854Z"
   },
   {
    "duration": 0,
    "start_time": "2022-10-09T05:26:53.856Z"
   },
   {
    "duration": 0,
    "start_time": "2022-10-09T05:26:53.857Z"
   },
   {
    "duration": 0,
    "start_time": "2022-10-09T05:26:53.858Z"
   },
   {
    "duration": 0,
    "start_time": "2022-10-09T05:26:53.858Z"
   },
   {
    "duration": 1,
    "start_time": "2022-10-09T05:26:53.859Z"
   },
   {
    "duration": 0,
    "start_time": "2022-10-09T05:26:53.860Z"
   },
   {
    "duration": 46,
    "start_time": "2022-10-09T05:27:21.453Z"
   },
   {
    "duration": 444,
    "start_time": "2022-10-09T05:28:02.031Z"
   },
   {
    "duration": 181,
    "start_time": "2022-10-09T05:28:02.477Z"
   },
   {
    "duration": 19,
    "start_time": "2022-10-09T05:28:02.660Z"
   },
   {
    "duration": 62,
    "start_time": "2022-10-09T05:28:02.681Z"
   },
   {
    "duration": 3,
    "start_time": "2022-10-09T05:28:02.745Z"
   },
   {
    "duration": 16,
    "start_time": "2022-10-09T05:28:02.749Z"
   },
   {
    "duration": 23,
    "start_time": "2022-10-09T05:28:02.767Z"
   },
   {
    "duration": 7,
    "start_time": "2022-10-09T05:28:02.793Z"
   },
   {
    "duration": 27,
    "start_time": "2022-10-09T05:28:02.801Z"
   },
   {
    "duration": 24,
    "start_time": "2022-10-09T05:28:02.830Z"
   },
   {
    "duration": 28,
    "start_time": "2022-10-09T05:28:02.856Z"
   },
   {
    "duration": 84,
    "start_time": "2022-10-09T05:28:02.885Z"
   },
   {
    "duration": 100,
    "start_time": "2022-10-09T05:28:02.970Z"
   },
   {
    "duration": 65,
    "start_time": "2022-10-09T05:28:03.075Z"
   },
   {
    "duration": 39,
    "start_time": "2022-10-09T05:28:03.153Z"
   },
   {
    "duration": 3,
    "start_time": "2022-10-09T05:28:03.194Z"
   },
   {
    "duration": 5,
    "start_time": "2022-10-09T05:28:03.198Z"
   },
   {
    "duration": 8,
    "start_time": "2022-10-09T05:28:03.205Z"
   },
   {
    "duration": 6,
    "start_time": "2022-10-09T05:28:03.215Z"
   },
   {
    "duration": 7,
    "start_time": "2022-10-09T05:28:03.222Z"
   },
   {
    "duration": 9,
    "start_time": "2022-10-09T05:28:03.231Z"
   },
   {
    "duration": 2,
    "start_time": "2022-10-09T05:28:03.255Z"
   },
   {
    "duration": 6,
    "start_time": "2022-10-09T05:28:03.259Z"
   },
   {
    "duration": 6,
    "start_time": "2022-10-09T05:28:03.266Z"
   },
   {
    "duration": 6,
    "start_time": "2022-10-09T05:28:03.274Z"
   },
   {
    "duration": 4,
    "start_time": "2022-10-09T05:28:03.282Z"
   },
   {
    "duration": 5,
    "start_time": "2022-10-09T05:28:03.288Z"
   },
   {
    "duration": 8,
    "start_time": "2022-10-09T05:28:03.294Z"
   },
   {
    "duration": 6,
    "start_time": "2022-10-09T05:28:03.303Z"
   },
   {
    "duration": 49,
    "start_time": "2022-10-09T05:28:03.310Z"
   },
   {
    "duration": 0,
    "start_time": "2022-10-09T05:28:03.360Z"
   },
   {
    "duration": 0,
    "start_time": "2022-10-09T05:28:03.361Z"
   },
   {
    "duration": 0,
    "start_time": "2022-10-09T05:28:03.363Z"
   },
   {
    "duration": 0,
    "start_time": "2022-10-09T05:28:03.364Z"
   },
   {
    "duration": 0,
    "start_time": "2022-10-09T05:28:03.365Z"
   },
   {
    "duration": 0,
    "start_time": "2022-10-09T05:28:03.366Z"
   },
   {
    "duration": 0,
    "start_time": "2022-10-09T05:28:03.368Z"
   },
   {
    "duration": 0,
    "start_time": "2022-10-09T05:28:03.369Z"
   },
   {
    "duration": 366,
    "start_time": "2022-10-09T05:28:42.401Z"
   },
   {
    "duration": 166,
    "start_time": "2022-10-09T05:28:42.769Z"
   },
   {
    "duration": 19,
    "start_time": "2022-10-09T05:28:42.937Z"
   },
   {
    "duration": 29,
    "start_time": "2022-10-09T05:28:42.958Z"
   },
   {
    "duration": 4,
    "start_time": "2022-10-09T05:28:42.989Z"
   },
   {
    "duration": 13,
    "start_time": "2022-10-09T05:28:42.995Z"
   },
   {
    "duration": 21,
    "start_time": "2022-10-09T05:28:43.009Z"
   },
   {
    "duration": 6,
    "start_time": "2022-10-09T05:28:43.032Z"
   },
   {
    "duration": 24,
    "start_time": "2022-10-09T05:28:43.053Z"
   },
   {
    "duration": 18,
    "start_time": "2022-10-09T05:28:43.079Z"
   },
   {
    "duration": 22,
    "start_time": "2022-10-09T05:28:43.099Z"
   },
   {
    "duration": 91,
    "start_time": "2022-10-09T05:28:43.123Z"
   },
   {
    "duration": 86,
    "start_time": "2022-10-09T05:28:43.216Z"
   },
   {
    "duration": 66,
    "start_time": "2022-10-09T05:28:43.305Z"
   },
   {
    "duration": 36,
    "start_time": "2022-10-09T05:28:43.373Z"
   },
   {
    "duration": 3,
    "start_time": "2022-10-09T05:28:43.410Z"
   },
   {
    "duration": 7,
    "start_time": "2022-10-09T05:28:43.414Z"
   },
   {
    "duration": 6,
    "start_time": "2022-10-09T05:28:43.422Z"
   },
   {
    "duration": 5,
    "start_time": "2022-10-09T05:28:43.429Z"
   },
   {
    "duration": 3,
    "start_time": "2022-10-09T05:28:43.454Z"
   },
   {
    "duration": 6,
    "start_time": "2022-10-09T05:28:43.458Z"
   },
   {
    "duration": 4,
    "start_time": "2022-10-09T05:28:43.466Z"
   },
   {
    "duration": 6,
    "start_time": "2022-10-09T05:28:43.471Z"
   },
   {
    "duration": 4,
    "start_time": "2022-10-09T05:28:43.478Z"
   },
   {
    "duration": 12,
    "start_time": "2022-10-09T05:28:43.484Z"
   },
   {
    "duration": 5,
    "start_time": "2022-10-09T05:28:43.497Z"
   },
   {
    "duration": 5,
    "start_time": "2022-10-09T05:28:43.504Z"
   },
   {
    "duration": 5,
    "start_time": "2022-10-09T05:28:43.510Z"
   },
   {
    "duration": 6,
    "start_time": "2022-10-09T05:28:43.517Z"
   },
   {
    "duration": 47,
    "start_time": "2022-10-09T05:28:43.525Z"
   },
   {
    "duration": 0,
    "start_time": "2022-10-09T05:28:43.574Z"
   },
   {
    "duration": 0,
    "start_time": "2022-10-09T05:28:43.575Z"
   },
   {
    "duration": 0,
    "start_time": "2022-10-09T05:28:43.576Z"
   },
   {
    "duration": 0,
    "start_time": "2022-10-09T05:28:43.577Z"
   },
   {
    "duration": 0,
    "start_time": "2022-10-09T05:28:43.578Z"
   },
   {
    "duration": 0,
    "start_time": "2022-10-09T05:28:43.579Z"
   },
   {
    "duration": 0,
    "start_time": "2022-10-09T05:28:43.580Z"
   },
   {
    "duration": 0,
    "start_time": "2022-10-09T05:28:43.581Z"
   },
   {
    "duration": 62,
    "start_time": "2022-10-09T05:35:06.261Z"
   },
   {
    "duration": 11,
    "start_time": "2022-10-09T05:35:17.878Z"
   },
   {
    "duration": 51,
    "start_time": "2022-10-09T05:37:15.392Z"
   },
   {
    "duration": 443,
    "start_time": "2022-10-09T05:37:27.134Z"
   },
   {
    "duration": 177,
    "start_time": "2022-10-09T05:37:27.579Z"
   },
   {
    "duration": 19,
    "start_time": "2022-10-09T05:37:27.758Z"
   },
   {
    "duration": 31,
    "start_time": "2022-10-09T05:37:27.779Z"
   },
   {
    "duration": 2,
    "start_time": "2022-10-09T05:37:27.812Z"
   },
   {
    "duration": 9,
    "start_time": "2022-10-09T05:37:27.815Z"
   },
   {
    "duration": 39,
    "start_time": "2022-10-09T05:37:27.826Z"
   },
   {
    "duration": 10,
    "start_time": "2022-10-09T05:37:27.867Z"
   },
   {
    "duration": 28,
    "start_time": "2022-10-09T05:37:27.879Z"
   },
   {
    "duration": 19,
    "start_time": "2022-10-09T05:37:27.909Z"
   },
   {
    "duration": 33,
    "start_time": "2022-10-09T05:37:27.930Z"
   },
   {
    "duration": 75,
    "start_time": "2022-10-09T05:37:27.965Z"
   },
   {
    "duration": 95,
    "start_time": "2022-10-09T05:37:28.042Z"
   },
   {
    "duration": 77,
    "start_time": "2022-10-09T05:37:28.139Z"
   },
   {
    "duration": 75,
    "start_time": "2022-10-09T05:37:28.218Z"
   },
   {
    "duration": 0,
    "start_time": "2022-10-09T05:37:28.295Z"
   },
   {
    "duration": 0,
    "start_time": "2022-10-09T05:37:28.296Z"
   },
   {
    "duration": 0,
    "start_time": "2022-10-09T05:37:28.297Z"
   },
   {
    "duration": 0,
    "start_time": "2022-10-09T05:37:28.298Z"
   },
   {
    "duration": 0,
    "start_time": "2022-10-09T05:37:28.300Z"
   },
   {
    "duration": 0,
    "start_time": "2022-10-09T05:37:28.301Z"
   },
   {
    "duration": 0,
    "start_time": "2022-10-09T05:37:28.302Z"
   },
   {
    "duration": 0,
    "start_time": "2022-10-09T05:37:28.304Z"
   },
   {
    "duration": 0,
    "start_time": "2022-10-09T05:37:28.305Z"
   },
   {
    "duration": 0,
    "start_time": "2022-10-09T05:37:28.306Z"
   },
   {
    "duration": 0,
    "start_time": "2022-10-09T05:37:28.307Z"
   },
   {
    "duration": 0,
    "start_time": "2022-10-09T05:37:28.309Z"
   },
   {
    "duration": 0,
    "start_time": "2022-10-09T05:37:28.310Z"
   },
   {
    "duration": 1,
    "start_time": "2022-10-09T05:37:28.311Z"
   },
   {
    "duration": 0,
    "start_time": "2022-10-09T05:37:28.313Z"
   },
   {
    "duration": 0,
    "start_time": "2022-10-09T05:37:28.314Z"
   },
   {
    "duration": 0,
    "start_time": "2022-10-09T05:37:28.315Z"
   },
   {
    "duration": 0,
    "start_time": "2022-10-09T05:37:28.317Z"
   },
   {
    "duration": 0,
    "start_time": "2022-10-09T05:37:28.318Z"
   },
   {
    "duration": 0,
    "start_time": "2022-10-09T05:37:28.319Z"
   },
   {
    "duration": 0,
    "start_time": "2022-10-09T05:37:28.321Z"
   },
   {
    "duration": 0,
    "start_time": "2022-10-09T05:37:28.322Z"
   },
   {
    "duration": 0,
    "start_time": "2022-10-09T05:37:28.326Z"
   },
   {
    "duration": 383,
    "start_time": "2022-10-09T05:37:43.777Z"
   },
   {
    "duration": 171,
    "start_time": "2022-10-09T05:37:44.162Z"
   },
   {
    "duration": 22,
    "start_time": "2022-10-09T05:37:44.334Z"
   },
   {
    "duration": 33,
    "start_time": "2022-10-09T05:37:44.358Z"
   },
   {
    "duration": 11,
    "start_time": "2022-10-09T05:37:44.393Z"
   },
   {
    "duration": 7,
    "start_time": "2022-10-09T05:37:44.406Z"
   },
   {
    "duration": 17,
    "start_time": "2022-10-09T05:37:44.414Z"
   },
   {
    "duration": 22,
    "start_time": "2022-10-09T05:37:44.433Z"
   },
   {
    "duration": 24,
    "start_time": "2022-10-09T05:37:44.457Z"
   },
   {
    "duration": 19,
    "start_time": "2022-10-09T05:37:44.484Z"
   },
   {
    "duration": 24,
    "start_time": "2022-10-09T05:37:44.504Z"
   },
   {
    "duration": 63,
    "start_time": "2022-10-09T05:37:44.554Z"
   },
   {
    "duration": 97,
    "start_time": "2022-10-09T05:37:44.619Z"
   },
   {
    "duration": 66,
    "start_time": "2022-10-09T05:37:44.719Z"
   },
   {
    "duration": 35,
    "start_time": "2022-10-09T05:37:44.786Z"
   },
   {
    "duration": 9,
    "start_time": "2022-10-09T05:37:44.822Z"
   },
   {
    "duration": 75,
    "start_time": "2022-10-09T05:37:44.833Z"
   },
   {
    "duration": 0,
    "start_time": "2022-10-09T05:37:44.910Z"
   },
   {
    "duration": 0,
    "start_time": "2022-10-09T05:37:44.911Z"
   },
   {
    "duration": 0,
    "start_time": "2022-10-09T05:37:44.912Z"
   },
   {
    "duration": 0,
    "start_time": "2022-10-09T05:37:44.914Z"
   },
   {
    "duration": 0,
    "start_time": "2022-10-09T05:37:44.915Z"
   },
   {
    "duration": 0,
    "start_time": "2022-10-09T05:37:44.916Z"
   },
   {
    "duration": 0,
    "start_time": "2022-10-09T05:37:44.916Z"
   },
   {
    "duration": 0,
    "start_time": "2022-10-09T05:37:44.917Z"
   },
   {
    "duration": 0,
    "start_time": "2022-10-09T05:37:44.918Z"
   },
   {
    "duration": 0,
    "start_time": "2022-10-09T05:37:44.919Z"
   },
   {
    "duration": 0,
    "start_time": "2022-10-09T05:37:44.920Z"
   },
   {
    "duration": 0,
    "start_time": "2022-10-09T05:37:44.921Z"
   },
   {
    "duration": 0,
    "start_time": "2022-10-09T05:37:44.923Z"
   },
   {
    "duration": 0,
    "start_time": "2022-10-09T05:37:44.954Z"
   },
   {
    "duration": 0,
    "start_time": "2022-10-09T05:37:44.955Z"
   },
   {
    "duration": 0,
    "start_time": "2022-10-09T05:37:44.956Z"
   },
   {
    "duration": 0,
    "start_time": "2022-10-09T05:37:44.957Z"
   },
   {
    "duration": 0,
    "start_time": "2022-10-09T05:37:44.958Z"
   },
   {
    "duration": 0,
    "start_time": "2022-10-09T05:37:44.959Z"
   },
   {
    "duration": 0,
    "start_time": "2022-10-09T05:37:44.959Z"
   },
   {
    "duration": 0,
    "start_time": "2022-10-09T05:37:44.961Z"
   },
   {
    "duration": 9,
    "start_time": "2022-10-09T05:38:18.580Z"
   },
   {
    "duration": 421,
    "start_time": "2022-10-09T05:39:46.420Z"
   },
   {
    "duration": 180,
    "start_time": "2022-10-09T05:39:46.843Z"
   },
   {
    "duration": 18,
    "start_time": "2022-10-09T05:39:47.025Z"
   },
   {
    "duration": 31,
    "start_time": "2022-10-09T05:39:47.045Z"
   },
   {
    "duration": 3,
    "start_time": "2022-10-09T05:39:47.078Z"
   },
   {
    "duration": 11,
    "start_time": "2022-10-09T05:39:47.082Z"
   },
   {
    "duration": 19,
    "start_time": "2022-10-09T05:39:47.094Z"
   },
   {
    "duration": 8,
    "start_time": "2022-10-09T05:39:47.115Z"
   },
   {
    "duration": 49,
    "start_time": "2022-10-09T05:39:47.124Z"
   },
   {
    "duration": 20,
    "start_time": "2022-10-09T05:39:47.175Z"
   },
   {
    "duration": 38,
    "start_time": "2022-10-09T05:39:47.196Z"
   },
   {
    "duration": 84,
    "start_time": "2022-10-09T05:39:47.236Z"
   },
   {
    "duration": 95,
    "start_time": "2022-10-09T05:39:47.322Z"
   },
   {
    "duration": 79,
    "start_time": "2022-10-09T05:39:47.420Z"
   },
   {
    "duration": 39,
    "start_time": "2022-10-09T05:39:47.501Z"
   },
   {
    "duration": 626,
    "start_time": "2022-10-09T05:39:47.542Z"
   },
   {
    "duration": 0,
    "start_time": "2022-10-09T05:39:48.169Z"
   },
   {
    "duration": 0,
    "start_time": "2022-10-09T05:39:48.170Z"
   },
   {
    "duration": 0,
    "start_time": "2022-10-09T05:39:48.171Z"
   },
   {
    "duration": 0,
    "start_time": "2022-10-09T05:39:48.172Z"
   },
   {
    "duration": 0,
    "start_time": "2022-10-09T05:39:48.173Z"
   },
   {
    "duration": 0,
    "start_time": "2022-10-09T05:39:48.174Z"
   },
   {
    "duration": 0,
    "start_time": "2022-10-09T05:39:48.175Z"
   },
   {
    "duration": 0,
    "start_time": "2022-10-09T05:39:48.176Z"
   },
   {
    "duration": 0,
    "start_time": "2022-10-09T05:39:48.176Z"
   },
   {
    "duration": 0,
    "start_time": "2022-10-09T05:39:48.177Z"
   },
   {
    "duration": 0,
    "start_time": "2022-10-09T05:39:48.179Z"
   },
   {
    "duration": 0,
    "start_time": "2022-10-09T05:39:48.180Z"
   },
   {
    "duration": 0,
    "start_time": "2022-10-09T05:39:48.180Z"
   },
   {
    "duration": 0,
    "start_time": "2022-10-09T05:39:48.181Z"
   },
   {
    "duration": 0,
    "start_time": "2022-10-09T05:39:48.182Z"
   },
   {
    "duration": 0,
    "start_time": "2022-10-09T05:39:48.183Z"
   },
   {
    "duration": 0,
    "start_time": "2022-10-09T05:39:48.184Z"
   },
   {
    "duration": 0,
    "start_time": "2022-10-09T05:39:48.185Z"
   },
   {
    "duration": 0,
    "start_time": "2022-10-09T05:39:48.186Z"
   },
   {
    "duration": 0,
    "start_time": "2022-10-09T05:39:48.187Z"
   },
   {
    "duration": 0,
    "start_time": "2022-10-09T05:39:48.188Z"
   },
   {
    "duration": 0,
    "start_time": "2022-10-09T05:39:48.188Z"
   },
   {
    "duration": 10,
    "start_time": "2022-10-09T05:40:15.815Z"
   },
   {
    "duration": 11,
    "start_time": "2022-10-09T05:40:23.605Z"
   },
   {
    "duration": 10,
    "start_time": "2022-10-09T05:41:03.353Z"
   },
   {
    "duration": 8,
    "start_time": "2022-10-09T05:41:42.054Z"
   },
   {
    "duration": 557,
    "start_time": "2022-10-09T05:41:49.656Z"
   },
   {
    "duration": 42,
    "start_time": "2022-10-09T05:42:22.368Z"
   },
   {
    "duration": 33,
    "start_time": "2022-10-09T05:43:00.034Z"
   },
   {
    "duration": 8,
    "start_time": "2022-10-09T05:43:25.718Z"
   },
   {
    "duration": 8,
    "start_time": "2022-10-09T05:43:37.008Z"
   },
   {
    "duration": 398,
    "start_time": "2022-10-09T05:43:47.574Z"
   },
   {
    "duration": 181,
    "start_time": "2022-10-09T05:43:47.974Z"
   },
   {
    "duration": 19,
    "start_time": "2022-10-09T05:43:48.157Z"
   },
   {
    "duration": 35,
    "start_time": "2022-10-09T05:43:48.178Z"
   },
   {
    "duration": 2,
    "start_time": "2022-10-09T05:43:48.216Z"
   },
   {
    "duration": 11,
    "start_time": "2022-10-09T05:43:48.220Z"
   },
   {
    "duration": 33,
    "start_time": "2022-10-09T05:43:48.233Z"
   },
   {
    "duration": 8,
    "start_time": "2022-10-09T05:43:48.268Z"
   },
   {
    "duration": 26,
    "start_time": "2022-10-09T05:43:48.278Z"
   },
   {
    "duration": 29,
    "start_time": "2022-10-09T05:43:48.305Z"
   },
   {
    "duration": 34,
    "start_time": "2022-10-09T05:43:48.336Z"
   },
   {
    "duration": 66,
    "start_time": "2022-10-09T05:43:48.372Z"
   },
   {
    "duration": 81,
    "start_time": "2022-10-09T05:43:48.453Z"
   },
   {
    "duration": 72,
    "start_time": "2022-10-09T05:43:48.538Z"
   },
   {
    "duration": 57,
    "start_time": "2022-10-09T05:43:48.612Z"
   },
   {
    "duration": 66,
    "start_time": "2022-10-09T05:43:48.671Z"
   },
   {
    "duration": 0,
    "start_time": "2022-10-09T05:43:48.739Z"
   },
   {
    "duration": 0,
    "start_time": "2022-10-09T05:43:48.754Z"
   },
   {
    "duration": 0,
    "start_time": "2022-10-09T05:43:48.755Z"
   },
   {
    "duration": 0,
    "start_time": "2022-10-09T05:43:48.756Z"
   },
   {
    "duration": 0,
    "start_time": "2022-10-09T05:43:48.758Z"
   },
   {
    "duration": 0,
    "start_time": "2022-10-09T05:43:48.759Z"
   },
   {
    "duration": 0,
    "start_time": "2022-10-09T05:43:48.760Z"
   },
   {
    "duration": 0,
    "start_time": "2022-10-09T05:43:48.761Z"
   },
   {
    "duration": 0,
    "start_time": "2022-10-09T05:43:48.762Z"
   },
   {
    "duration": 0,
    "start_time": "2022-10-09T05:43:48.763Z"
   },
   {
    "duration": 0,
    "start_time": "2022-10-09T05:43:48.764Z"
   },
   {
    "duration": 0,
    "start_time": "2022-10-09T05:43:48.765Z"
   },
   {
    "duration": 0,
    "start_time": "2022-10-09T05:43:48.766Z"
   },
   {
    "duration": 0,
    "start_time": "2022-10-09T05:43:48.767Z"
   },
   {
    "duration": 0,
    "start_time": "2022-10-09T05:43:48.769Z"
   },
   {
    "duration": 0,
    "start_time": "2022-10-09T05:43:48.769Z"
   },
   {
    "duration": 0,
    "start_time": "2022-10-09T05:43:48.770Z"
   },
   {
    "duration": 0,
    "start_time": "2022-10-09T05:43:48.771Z"
   },
   {
    "duration": 0,
    "start_time": "2022-10-09T05:43:48.773Z"
   },
   {
    "duration": 0,
    "start_time": "2022-10-09T05:43:48.774Z"
   },
   {
    "duration": 0,
    "start_time": "2022-10-09T05:43:48.775Z"
   },
   {
    "duration": 0,
    "start_time": "2022-10-09T05:43:48.776Z"
   },
   {
    "duration": 9,
    "start_time": "2022-10-09T05:44:14.658Z"
   },
   {
    "duration": 414,
    "start_time": "2022-10-09T05:44:45.948Z"
   },
   {
    "duration": 176,
    "start_time": "2022-10-09T05:44:46.364Z"
   },
   {
    "duration": 20,
    "start_time": "2022-10-09T05:44:46.542Z"
   },
   {
    "duration": 33,
    "start_time": "2022-10-09T05:44:46.565Z"
   },
   {
    "duration": 3,
    "start_time": "2022-10-09T05:44:46.600Z"
   },
   {
    "duration": 14,
    "start_time": "2022-10-09T05:44:46.605Z"
   },
   {
    "duration": 38,
    "start_time": "2022-10-09T05:44:46.621Z"
   },
   {
    "duration": 11,
    "start_time": "2022-10-09T05:44:46.662Z"
   },
   {
    "duration": 28,
    "start_time": "2022-10-09T05:44:46.675Z"
   },
   {
    "duration": 19,
    "start_time": "2022-10-09T05:44:46.705Z"
   },
   {
    "duration": 38,
    "start_time": "2022-10-09T05:44:46.725Z"
   },
   {
    "duration": 79,
    "start_time": "2022-10-09T05:44:46.765Z"
   },
   {
    "duration": 108,
    "start_time": "2022-10-09T05:44:46.846Z"
   },
   {
    "duration": 71,
    "start_time": "2022-10-09T05:44:46.957Z"
   },
   {
    "duration": 49,
    "start_time": "2022-10-09T05:44:47.029Z"
   },
   {
    "duration": 11,
    "start_time": "2022-10-09T05:44:47.079Z"
   },
   {
    "duration": 86,
    "start_time": "2022-10-09T05:44:47.091Z"
   },
   {
    "duration": 0,
    "start_time": "2022-10-09T05:44:47.179Z"
   },
   {
    "duration": 0,
    "start_time": "2022-10-09T05:44:47.180Z"
   },
   {
    "duration": 0,
    "start_time": "2022-10-09T05:44:47.181Z"
   },
   {
    "duration": 0,
    "start_time": "2022-10-09T05:44:47.182Z"
   },
   {
    "duration": 0,
    "start_time": "2022-10-09T05:44:47.184Z"
   },
   {
    "duration": 0,
    "start_time": "2022-10-09T05:44:47.184Z"
   },
   {
    "duration": 0,
    "start_time": "2022-10-09T05:44:47.185Z"
   },
   {
    "duration": 0,
    "start_time": "2022-10-09T05:44:47.186Z"
   },
   {
    "duration": 0,
    "start_time": "2022-10-09T05:44:47.188Z"
   },
   {
    "duration": 0,
    "start_time": "2022-10-09T05:44:47.189Z"
   },
   {
    "duration": 0,
    "start_time": "2022-10-09T05:44:47.190Z"
   },
   {
    "duration": 0,
    "start_time": "2022-10-09T05:44:47.191Z"
   },
   {
    "duration": 0,
    "start_time": "2022-10-09T05:44:47.192Z"
   },
   {
    "duration": 0,
    "start_time": "2022-10-09T05:44:47.192Z"
   },
   {
    "duration": 0,
    "start_time": "2022-10-09T05:44:47.193Z"
   },
   {
    "duration": 0,
    "start_time": "2022-10-09T05:44:47.194Z"
   },
   {
    "duration": 0,
    "start_time": "2022-10-09T05:44:47.195Z"
   },
   {
    "duration": 0,
    "start_time": "2022-10-09T05:44:47.196Z"
   },
   {
    "duration": 0,
    "start_time": "2022-10-09T05:44:47.197Z"
   },
   {
    "duration": 0,
    "start_time": "2022-10-09T05:44:47.198Z"
   },
   {
    "duration": 0,
    "start_time": "2022-10-09T05:44:47.199Z"
   },
   {
    "duration": 37,
    "start_time": "2022-10-09T05:46:39.101Z"
   },
   {
    "duration": 46,
    "start_time": "2022-10-09T05:53:25.145Z"
   },
   {
    "duration": 51,
    "start_time": "2022-10-09T05:53:42.160Z"
   },
   {
    "duration": 4,
    "start_time": "2022-10-09T05:54:08.625Z"
   },
   {
    "duration": 47,
    "start_time": "2022-10-09T05:54:11.833Z"
   },
   {
    "duration": 54,
    "start_time": "2022-10-09T05:54:51.948Z"
   },
   {
    "duration": 29,
    "start_time": "2022-10-09T05:58:40.834Z"
   },
   {
    "duration": 34,
    "start_time": "2022-10-09T05:58:52.178Z"
   },
   {
    "duration": 44,
    "start_time": "2022-10-09T05:59:01.561Z"
   },
   {
    "duration": 47,
    "start_time": "2022-10-09T05:59:11.525Z"
   },
   {
    "duration": 13,
    "start_time": "2022-10-09T06:00:09.133Z"
   },
   {
    "duration": 14,
    "start_time": "2022-10-09T06:00:29.927Z"
   },
   {
    "duration": 11,
    "start_time": "2022-10-09T06:03:56.470Z"
   },
   {
    "duration": 34,
    "start_time": "2022-10-09T06:04:32.986Z"
   },
   {
    "duration": 12,
    "start_time": "2022-10-09T06:04:57.693Z"
   },
   {
    "duration": 4,
    "start_time": "2022-10-09T06:17:43.141Z"
   },
   {
    "duration": 9,
    "start_time": "2022-10-09T06:18:13.239Z"
   },
   {
    "duration": 8,
    "start_time": "2022-10-09T06:18:50.653Z"
   },
   {
    "duration": 4,
    "start_time": "2022-10-09T06:19:01.530Z"
   },
   {
    "duration": 7,
    "start_time": "2022-10-09T06:19:04.437Z"
   },
   {
    "duration": 424,
    "start_time": "2022-10-09T06:19:24.321Z"
   },
   {
    "duration": 175,
    "start_time": "2022-10-09T06:19:24.748Z"
   },
   {
    "duration": 18,
    "start_time": "2022-10-09T06:19:24.925Z"
   },
   {
    "duration": 36,
    "start_time": "2022-10-09T06:19:24.945Z"
   },
   {
    "duration": 6,
    "start_time": "2022-10-09T06:19:24.984Z"
   },
   {
    "duration": 7,
    "start_time": "2022-10-09T06:19:24.991Z"
   },
   {
    "duration": 17,
    "start_time": "2022-10-09T06:19:25.000Z"
   },
   {
    "duration": 9,
    "start_time": "2022-10-09T06:19:25.019Z"
   },
   {
    "duration": 43,
    "start_time": "2022-10-09T06:19:25.029Z"
   },
   {
    "duration": 24,
    "start_time": "2022-10-09T06:19:25.074Z"
   },
   {
    "duration": 24,
    "start_time": "2022-10-09T06:19:25.100Z"
   },
   {
    "duration": 83,
    "start_time": "2022-10-09T06:19:25.125Z"
   },
   {
    "duration": 81,
    "start_time": "2022-10-09T06:19:25.209Z"
   },
   {
    "duration": 63,
    "start_time": "2022-10-09T06:19:25.293Z"
   },
   {
    "duration": 44,
    "start_time": "2022-10-09T06:19:25.357Z"
   },
   {
    "duration": 10,
    "start_time": "2022-10-09T06:19:25.403Z"
   },
   {
    "duration": 59,
    "start_time": "2022-10-09T06:19:25.415Z"
   },
   {
    "duration": 11,
    "start_time": "2022-10-09T06:19:25.476Z"
   },
   {
    "duration": 11,
    "start_time": "2022-10-09T06:19:25.489Z"
   },
   {
    "duration": 4,
    "start_time": "2022-10-09T06:19:25.503Z"
   },
   {
    "duration": 93,
    "start_time": "2022-10-09T06:19:25.508Z"
   },
   {
    "duration": 0,
    "start_time": "2022-10-09T06:19:25.603Z"
   },
   {
    "duration": 0,
    "start_time": "2022-10-09T06:19:25.604Z"
   },
   {
    "duration": 0,
    "start_time": "2022-10-09T06:19:25.605Z"
   },
   {
    "duration": 0,
    "start_time": "2022-10-09T06:19:25.606Z"
   },
   {
    "duration": 0,
    "start_time": "2022-10-09T06:19:25.607Z"
   },
   {
    "duration": 0,
    "start_time": "2022-10-09T06:19:25.608Z"
   },
   {
    "duration": 0,
    "start_time": "2022-10-09T06:19:25.609Z"
   },
   {
    "duration": 0,
    "start_time": "2022-10-09T06:19:25.610Z"
   },
   {
    "duration": 0,
    "start_time": "2022-10-09T06:19:25.612Z"
   },
   {
    "duration": 0,
    "start_time": "2022-10-09T06:19:25.613Z"
   },
   {
    "duration": 0,
    "start_time": "2022-10-09T06:19:25.614Z"
   },
   {
    "duration": 0,
    "start_time": "2022-10-09T06:19:25.615Z"
   },
   {
    "duration": 0,
    "start_time": "2022-10-09T06:19:25.616Z"
   },
   {
    "duration": 0,
    "start_time": "2022-10-09T06:19:25.617Z"
   },
   {
    "duration": 0,
    "start_time": "2022-10-09T06:19:25.617Z"
   },
   {
    "duration": 0,
    "start_time": "2022-10-09T06:19:25.618Z"
   },
   {
    "duration": 0,
    "start_time": "2022-10-09T06:19:25.619Z"
   },
   {
    "duration": 17,
    "start_time": "2022-10-09T06:19:53.270Z"
   },
   {
    "duration": 15,
    "start_time": "2022-10-09T06:20:30.543Z"
   },
   {
    "duration": 431,
    "start_time": "2022-10-09T06:20:40.958Z"
   },
   {
    "duration": 229,
    "start_time": "2022-10-09T06:20:41.391Z"
   },
   {
    "duration": 31,
    "start_time": "2022-10-09T06:20:41.623Z"
   },
   {
    "duration": 33,
    "start_time": "2022-10-09T06:20:41.655Z"
   },
   {
    "duration": 2,
    "start_time": "2022-10-09T06:20:41.691Z"
   },
   {
    "duration": 14,
    "start_time": "2022-10-09T06:20:41.695Z"
   },
   {
    "duration": 18,
    "start_time": "2022-10-09T06:20:41.710Z"
   },
   {
    "duration": 28,
    "start_time": "2022-10-09T06:20:41.730Z"
   },
   {
    "duration": 29,
    "start_time": "2022-10-09T06:20:41.760Z"
   },
   {
    "duration": 20,
    "start_time": "2022-10-09T06:20:41.791Z"
   },
   {
    "duration": 47,
    "start_time": "2022-10-09T06:20:41.813Z"
   },
   {
    "duration": 66,
    "start_time": "2022-10-09T06:20:41.862Z"
   },
   {
    "duration": 91,
    "start_time": "2022-10-09T06:20:41.930Z"
   },
   {
    "duration": 66,
    "start_time": "2022-10-09T06:20:42.025Z"
   },
   {
    "duration": 36,
    "start_time": "2022-10-09T06:20:42.092Z"
   },
   {
    "duration": 24,
    "start_time": "2022-10-09T06:20:42.130Z"
   },
   {
    "duration": 42,
    "start_time": "2022-10-09T06:20:42.156Z"
   },
   {
    "duration": 11,
    "start_time": "2022-10-09T06:20:42.200Z"
   },
   {
    "duration": 27,
    "start_time": "2022-10-09T06:20:42.213Z"
   },
   {
    "duration": 14,
    "start_time": "2022-10-09T06:20:42.242Z"
   },
   {
    "duration": 89,
    "start_time": "2022-10-09T06:20:42.258Z"
   },
   {
    "duration": 0,
    "start_time": "2022-10-09T06:20:42.349Z"
   },
   {
    "duration": 0,
    "start_time": "2022-10-09T06:20:42.350Z"
   },
   {
    "duration": 0,
    "start_time": "2022-10-09T06:20:42.351Z"
   },
   {
    "duration": 0,
    "start_time": "2022-10-09T06:20:42.353Z"
   },
   {
    "duration": 0,
    "start_time": "2022-10-09T06:20:42.354Z"
   },
   {
    "duration": 0,
    "start_time": "2022-10-09T06:20:42.355Z"
   },
   {
    "duration": 0,
    "start_time": "2022-10-09T06:20:42.356Z"
   },
   {
    "duration": 0,
    "start_time": "2022-10-09T06:20:42.357Z"
   },
   {
    "duration": 0,
    "start_time": "2022-10-09T06:20:42.358Z"
   },
   {
    "duration": 0,
    "start_time": "2022-10-09T06:20:42.359Z"
   },
   {
    "duration": 1,
    "start_time": "2022-10-09T06:20:42.359Z"
   },
   {
    "duration": 0,
    "start_time": "2022-10-09T06:20:42.361Z"
   },
   {
    "duration": 0,
    "start_time": "2022-10-09T06:20:42.362Z"
   },
   {
    "duration": 0,
    "start_time": "2022-10-09T06:20:42.363Z"
   },
   {
    "duration": 0,
    "start_time": "2022-10-09T06:20:42.365Z"
   },
   {
    "duration": 0,
    "start_time": "2022-10-09T06:20:42.366Z"
   },
   {
    "duration": 0,
    "start_time": "2022-10-09T06:20:42.367Z"
   },
   {
    "duration": 14,
    "start_time": "2022-10-09T06:21:17.912Z"
   },
   {
    "duration": 4,
    "start_time": "2022-10-09T06:22:22.371Z"
   },
   {
    "duration": 18,
    "start_time": "2022-10-09T06:22:25.490Z"
   },
   {
    "duration": 24,
    "start_time": "2022-10-09T06:22:30.470Z"
   },
   {
    "duration": 449,
    "start_time": "2022-10-09T21:31:47.306Z"
   },
   {
    "duration": 545,
    "start_time": "2022-10-09T21:31:47.757Z"
   },
   {
    "duration": 21,
    "start_time": "2022-10-09T21:31:48.305Z"
   },
   {
    "duration": 35,
    "start_time": "2022-10-09T21:31:48.329Z"
   },
   {
    "duration": 3,
    "start_time": "2022-10-09T21:31:48.366Z"
   },
   {
    "duration": 20,
    "start_time": "2022-10-09T21:31:48.371Z"
   },
   {
    "duration": 19,
    "start_time": "2022-10-09T21:31:48.393Z"
   },
   {
    "duration": 8,
    "start_time": "2022-10-09T21:31:48.414Z"
   },
   {
    "duration": 30,
    "start_time": "2022-10-09T21:31:48.424Z"
   },
   {
    "duration": 48,
    "start_time": "2022-10-09T21:31:48.457Z"
   },
   {
    "duration": 28,
    "start_time": "2022-10-09T21:31:48.506Z"
   },
   {
    "duration": 102,
    "start_time": "2022-10-09T21:31:48.536Z"
   },
   {
    "duration": 100,
    "start_time": "2022-10-09T21:31:48.640Z"
   },
   {
    "duration": 110,
    "start_time": "2022-10-09T21:31:48.741Z"
   },
   {
    "duration": 52,
    "start_time": "2022-10-09T21:31:48.853Z"
   },
   {
    "duration": 12,
    "start_time": "2022-10-09T21:31:48.907Z"
   },
   {
    "duration": 45,
    "start_time": "2022-10-09T21:31:48.921Z"
   },
   {
    "duration": 14,
    "start_time": "2022-10-09T21:31:48.988Z"
   },
   {
    "duration": 16,
    "start_time": "2022-10-09T21:31:49.004Z"
   },
   {
    "duration": 4,
    "start_time": "2022-10-09T21:31:49.022Z"
   },
   {
    "duration": 26,
    "start_time": "2022-10-09T21:31:49.028Z"
   },
   {
    "duration": 11,
    "start_time": "2022-10-09T21:31:49.056Z"
   },
   {
    "duration": 7,
    "start_time": "2022-10-09T21:31:49.090Z"
   },
   {
    "duration": 6,
    "start_time": "2022-10-09T21:31:49.099Z"
   },
   {
    "duration": 6,
    "start_time": "2022-10-09T21:31:49.107Z"
   },
   {
    "duration": 5,
    "start_time": "2022-10-09T21:31:49.114Z"
   },
   {
    "duration": 5,
    "start_time": "2022-10-09T21:31:49.122Z"
   },
   {
    "duration": 3,
    "start_time": "2022-10-09T21:31:49.131Z"
   },
   {
    "duration": 6,
    "start_time": "2022-10-09T21:31:49.136Z"
   },
   {
    "duration": 86,
    "start_time": "2022-10-09T21:31:49.144Z"
   },
   {
    "duration": 0,
    "start_time": "2022-10-09T21:31:49.232Z"
   },
   {
    "duration": 0,
    "start_time": "2022-10-09T21:31:49.233Z"
   },
   {
    "duration": 0,
    "start_time": "2022-10-09T21:31:49.234Z"
   },
   {
    "duration": 0,
    "start_time": "2022-10-09T21:31:49.236Z"
   },
   {
    "duration": 0,
    "start_time": "2022-10-09T21:31:49.237Z"
   },
   {
    "duration": 0,
    "start_time": "2022-10-09T21:31:49.239Z"
   },
   {
    "duration": 0,
    "start_time": "2022-10-09T21:31:49.240Z"
   },
   {
    "duration": 0,
    "start_time": "2022-10-09T21:31:49.241Z"
   },
   {
    "duration": 5,
    "start_time": "2022-10-09T21:44:13.153Z"
   },
   {
    "duration": 83,
    "start_time": "2022-10-09T21:44:17.205Z"
   },
   {
    "duration": 4,
    "start_time": "2022-10-09T21:44:32.986Z"
   },
   {
    "duration": 27,
    "start_time": "2022-10-09T21:44:35.742Z"
   },
   {
    "duration": 5,
    "start_time": "2022-10-09T21:45:27.769Z"
   },
   {
    "duration": 14,
    "start_time": "2022-10-09T21:45:30.878Z"
   },
   {
    "duration": 4,
    "start_time": "2022-10-09T21:45:53.891Z"
   },
   {
    "duration": 25,
    "start_time": "2022-10-09T21:45:56.734Z"
   },
   {
    "duration": 4,
    "start_time": "2022-10-09T21:47:22.858Z"
   },
   {
    "duration": 22,
    "start_time": "2022-10-09T21:47:25.751Z"
   },
   {
    "duration": 438,
    "start_time": "2022-10-09T21:47:48.400Z"
   },
   {
    "duration": 188,
    "start_time": "2022-10-09T21:47:48.840Z"
   },
   {
    "duration": 20,
    "start_time": "2022-10-09T21:47:49.030Z"
   },
   {
    "duration": 46,
    "start_time": "2022-10-09T21:47:49.052Z"
   },
   {
    "duration": 5,
    "start_time": "2022-10-09T21:47:49.100Z"
   },
   {
    "duration": 21,
    "start_time": "2022-10-09T21:47:49.107Z"
   },
   {
    "duration": 25,
    "start_time": "2022-10-09T21:47:49.130Z"
   },
   {
    "duration": 17,
    "start_time": "2022-10-09T21:47:49.157Z"
   },
   {
    "duration": 44,
    "start_time": "2022-10-09T21:47:49.176Z"
   },
   {
    "duration": 28,
    "start_time": "2022-10-09T21:47:49.224Z"
   },
   {
    "duration": 37,
    "start_time": "2022-10-09T21:47:49.254Z"
   },
   {
    "duration": 74,
    "start_time": "2022-10-09T21:47:49.293Z"
   },
   {
    "duration": 90,
    "start_time": "2022-10-09T21:47:49.369Z"
   },
   {
    "duration": 74,
    "start_time": "2022-10-09T21:47:49.461Z"
   },
   {
    "duration": 52,
    "start_time": "2022-10-09T21:47:49.537Z"
   },
   {
    "duration": 12,
    "start_time": "2022-10-09T21:47:49.591Z"
   },
   {
    "duration": 63,
    "start_time": "2022-10-09T21:47:49.604Z"
   },
   {
    "duration": 12,
    "start_time": "2022-10-09T21:47:49.669Z"
   },
   {
    "duration": 18,
    "start_time": "2022-10-09T21:47:49.682Z"
   },
   {
    "duration": 7,
    "start_time": "2022-10-09T21:47:49.702Z"
   },
   {
    "duration": 34,
    "start_time": "2022-10-09T21:47:49.711Z"
   },
   {
    "duration": 2,
    "start_time": "2022-10-09T21:47:49.747Z"
   },
   {
    "duration": 12,
    "start_time": "2022-10-09T21:47:49.751Z"
   },
   {
    "duration": 12,
    "start_time": "2022-10-09T21:47:49.765Z"
   },
   {
    "duration": 8,
    "start_time": "2022-10-09T21:47:49.779Z"
   },
   {
    "duration": 4,
    "start_time": "2022-10-09T21:47:49.788Z"
   },
   {
    "duration": 6,
    "start_time": "2022-10-09T21:47:49.794Z"
   },
   {
    "duration": 7,
    "start_time": "2022-10-09T21:47:49.803Z"
   },
   {
    "duration": 10,
    "start_time": "2022-10-09T21:47:49.811Z"
   },
   {
    "duration": 74,
    "start_time": "2022-10-09T21:47:49.823Z"
   },
   {
    "duration": 0,
    "start_time": "2022-10-09T21:47:49.900Z"
   },
   {
    "duration": 0,
    "start_time": "2022-10-09T21:47:49.901Z"
   },
   {
    "duration": 0,
    "start_time": "2022-10-09T21:47:49.903Z"
   },
   {
    "duration": 0,
    "start_time": "2022-10-09T21:47:49.905Z"
   },
   {
    "duration": 0,
    "start_time": "2022-10-09T21:47:49.906Z"
   },
   {
    "duration": 0,
    "start_time": "2022-10-09T21:47:49.908Z"
   },
   {
    "duration": 0,
    "start_time": "2022-10-09T21:47:49.909Z"
   },
   {
    "duration": 0,
    "start_time": "2022-10-09T21:47:49.911Z"
   },
   {
    "duration": 4,
    "start_time": "2022-10-09T21:48:31.220Z"
   },
   {
    "duration": 25,
    "start_time": "2022-10-09T21:48:33.308Z"
   },
   {
    "duration": 4,
    "start_time": "2022-10-09T21:49:03.517Z"
   },
   {
    "duration": 25,
    "start_time": "2022-10-09T21:49:05.722Z"
   },
   {
    "duration": 4,
    "start_time": "2022-10-09T21:49:17.720Z"
   },
   {
    "duration": 17,
    "start_time": "2022-10-09T21:49:20.686Z"
   },
   {
    "duration": 4,
    "start_time": "2022-10-09T21:51:44.658Z"
   },
   {
    "duration": 18,
    "start_time": "2022-10-09T21:51:46.391Z"
   },
   {
    "duration": 18,
    "start_time": "2022-10-09T21:52:40.171Z"
   },
   {
    "duration": 16,
    "start_time": "2022-10-09T21:52:55.187Z"
   },
   {
    "duration": 16,
    "start_time": "2022-10-09T21:53:17.994Z"
   },
   {
    "duration": 19,
    "start_time": "2022-10-09T21:53:49.371Z"
   },
   {
    "duration": 18,
    "start_time": "2022-10-09T21:53:51.148Z"
   },
   {
    "duration": 73,
    "start_time": "2022-10-09T21:59:31.134Z"
   },
   {
    "duration": 75,
    "start_time": "2022-10-09T21:59:41.579Z"
   },
   {
    "duration": 77,
    "start_time": "2022-10-09T22:00:01.962Z"
   },
   {
    "duration": 10,
    "start_time": "2022-10-09T22:01:40.031Z"
   },
   {
    "duration": 15,
    "start_time": "2022-10-09T22:08:38.793Z"
   },
   {
    "duration": 10,
    "start_time": "2022-10-09T22:08:40.883Z"
   },
   {
    "duration": 5,
    "start_time": "2022-10-09T22:17:59.381Z"
   },
   {
    "duration": 23,
    "start_time": "2022-10-09T22:18:23.286Z"
   },
   {
    "duration": 5,
    "start_time": "2022-10-09T22:18:45.775Z"
   },
   {
    "duration": 17,
    "start_time": "2022-10-09T22:18:51.298Z"
   },
   {
    "duration": 12,
    "start_time": "2022-10-09T22:23:45.555Z"
   },
   {
    "duration": 20,
    "start_time": "2022-10-09T22:24:12.081Z"
   },
   {
    "duration": 14,
    "start_time": "2022-10-09T22:24:42.639Z"
   },
   {
    "duration": 9,
    "start_time": "2022-10-09T22:29:56.845Z"
   },
   {
    "duration": 9,
    "start_time": "2022-10-09T22:30:31.189Z"
   },
   {
    "duration": 5,
    "start_time": "2022-10-09T22:30:49.165Z"
   },
   {
    "duration": 7,
    "start_time": "2022-10-09T22:30:54.499Z"
   },
   {
    "duration": 9,
    "start_time": "2022-10-09T22:31:54.743Z"
   },
   {
    "duration": 9,
    "start_time": "2022-10-09T22:31:56.445Z"
   },
   {
    "duration": 5,
    "start_time": "2022-10-09T22:31:58.903Z"
   },
   {
    "duration": 8,
    "start_time": "2022-10-09T22:33:07.584Z"
   },
   {
    "duration": 5,
    "start_time": "2022-10-09T22:33:09.935Z"
   },
   {
    "duration": 10,
    "start_time": "2022-10-09T22:33:32.974Z"
   },
   {
    "duration": 5,
    "start_time": "2022-10-09T22:33:37.680Z"
   },
   {
    "duration": 6,
    "start_time": "2022-10-09T22:34:04.736Z"
   },
   {
    "duration": 5,
    "start_time": "2022-10-09T22:34:25.286Z"
   },
   {
    "duration": 442,
    "start_time": "2022-10-09T22:35:12.174Z"
   },
   {
    "duration": 180,
    "start_time": "2022-10-09T22:35:12.618Z"
   },
   {
    "duration": 17,
    "start_time": "2022-10-09T22:35:12.800Z"
   },
   {
    "duration": 31,
    "start_time": "2022-10-09T22:35:12.819Z"
   },
   {
    "duration": 2,
    "start_time": "2022-10-09T22:35:12.853Z"
   },
   {
    "duration": 32,
    "start_time": "2022-10-09T22:35:12.857Z"
   },
   {
    "duration": 16,
    "start_time": "2022-10-09T22:35:12.891Z"
   },
   {
    "duration": 6,
    "start_time": "2022-10-09T22:35:12.909Z"
   },
   {
    "duration": 28,
    "start_time": "2022-10-09T22:35:12.917Z"
   },
   {
    "duration": 20,
    "start_time": "2022-10-09T22:35:12.947Z"
   },
   {
    "duration": 27,
    "start_time": "2022-10-09T22:35:12.988Z"
   },
   {
    "duration": 87,
    "start_time": "2022-10-09T22:35:13.017Z"
   },
   {
    "duration": 91,
    "start_time": "2022-10-09T22:35:13.106Z"
   },
   {
    "duration": 66,
    "start_time": "2022-10-09T22:35:13.201Z"
   },
   {
    "duration": 57,
    "start_time": "2022-10-09T22:35:13.269Z"
   },
   {
    "duration": 11,
    "start_time": "2022-10-09T22:35:13.328Z"
   },
   {
    "duration": 60,
    "start_time": "2022-10-09T22:35:13.341Z"
   },
   {
    "duration": 12,
    "start_time": "2022-10-09T22:35:13.403Z"
   },
   {
    "duration": 12,
    "start_time": "2022-10-09T22:35:13.417Z"
   },
   {
    "duration": 5,
    "start_time": "2022-10-09T22:35:13.431Z"
   },
   {
    "duration": 21,
    "start_time": "2022-10-09T22:35:13.437Z"
   },
   {
    "duration": 42,
    "start_time": "2022-10-09T22:35:13.460Z"
   },
   {
    "duration": 15,
    "start_time": "2022-10-09T22:35:13.503Z"
   },
   {
    "duration": 15,
    "start_time": "2022-10-09T22:35:13.520Z"
   },
   {
    "duration": 19,
    "start_time": "2022-10-09T22:35:13.536Z"
   },
   {
    "duration": 43,
    "start_time": "2022-10-09T22:35:13.557Z"
   },
   {
    "duration": 9,
    "start_time": "2022-10-09T22:35:13.602Z"
   },
   {
    "duration": 13,
    "start_time": "2022-10-09T22:35:13.613Z"
   },
   {
    "duration": 15,
    "start_time": "2022-10-09T22:35:13.629Z"
   },
   {
    "duration": 6,
    "start_time": "2022-10-09T22:35:13.646Z"
   },
   {
    "duration": 59,
    "start_time": "2022-10-09T22:35:13.655Z"
   },
   {
    "duration": 12,
    "start_time": "2022-10-09T22:35:13.717Z"
   },
   {
    "duration": 20,
    "start_time": "2022-10-09T22:35:13.731Z"
   },
   {
    "duration": 38,
    "start_time": "2022-10-09T22:35:13.752Z"
   },
   {
    "duration": 9,
    "start_time": "2022-10-09T22:35:13.792Z"
   },
   {
    "duration": 7,
    "start_time": "2022-10-09T22:35:13.802Z"
   },
   {
    "duration": 8,
    "start_time": "2022-10-09T22:35:13.811Z"
   },
   {
    "duration": 4,
    "start_time": "2022-10-09T22:35:13.821Z"
   },
   {
    "duration": 11,
    "start_time": "2022-10-09T22:36:54.018Z"
   }
  ],
  "celltoolbar": "Edit Metadata",
  "colab": {
   "collapsed_sections": [
    "E0vqbgi9ay0H",
    "VUC88oWjTJw2"
   ],
   "name": "automatization_template_upd4.ipynb",
   "provenance": []
  },
  "kernelspec": {
   "display_name": "Python 3 (ipykernel)",
   "language": "python",
   "name": "python3"
  },
  "language_info": {
   "codemirror_mode": {
    "name": "ipython",
    "version": 3
   },
   "file_extension": ".py",
   "mimetype": "text/x-python",
   "name": "python",
   "nbconvert_exporter": "python",
   "pygments_lexer": "ipython3",
   "version": "3.9.12"
  },
  "toc": {
   "base_numbering": 1,
   "nav_menu": {
    "height": "215px",
    "width": "403px"
   },
   "number_sections": true,
   "sideBar": true,
   "skip_h1_title": true,
   "title_cell": "Table of Contents",
   "title_sidebar": "Contents",
   "toc_cell": false,
   "toc_position": {
    "height": "calc(100% - 180px)",
    "left": "10px",
    "top": "150px",
    "width": "285.825px"
   },
   "toc_section_display": true,
   "toc_window_display": false
  }
 },
 "nbformat": 4,
 "nbformat_minor": 1
}
