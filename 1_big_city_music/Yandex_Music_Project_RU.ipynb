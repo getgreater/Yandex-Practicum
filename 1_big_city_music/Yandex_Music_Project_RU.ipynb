{
 "cells": [
  {
   "cell_type": "markdown",
   "metadata": {
    "deletable": false,
    "editable": false,
    "id": "E0vqbgi9ay0H"
   },
   "source": [
    "# Яндекс Музыка"
   ]
  },
  {
   "cell_type": "markdown",
   "metadata": {
    "deletable": false,
    "editable": false,
    "id": "VUC88oWjTJw2"
   },
   "source": [
    "Сравнение Москвы и Петербурга окружено мифами. Например:\n",
    " * Москва — мегаполис, подчинённый жёсткому ритму рабочей недели;\n",
    " * Петербург — культурная столица, со своими вкусами.\n",
    "\n",
    "На данных Яндекс Музыки вы сравните поведение пользователей двух столиц.\n",
    "\n",
    "**Цель исследования** — проверьте три гипотезы:\n",
    "1. Активность пользователей зависит от дня недели. Причём в Москве и Петербурге это проявляется по-разному.\n",
    "2. В понедельник утром в Москве преобладают одни жанры, а в Петербурге — другие. Так же и вечером пятницы преобладают разные жанры — в зависимости от города. \n",
    "3. Москва и Петербург предпочитают разные жанры музыки. В Москве чаще слушают поп-музыку, в Петербурге — русский рэп.\n",
    "\n",
    "**Ход исследования**\n",
    "\n",
    "Данные о поведении пользователей вы получите из файла `yandex_music_project.csv`. О качестве данных ничего не известно. Поэтому перед проверкой гипотез понадобится обзор данных. \n",
    "\n",
    "Вы проверите данные на ошибки и оцените их влияние на исследование. Затем, на этапе предобработки вы поищете возможность исправить самые критичные ошибки данных.\n",
    " \n",
    "Таким образом, исследование пройдёт в три этапа:\n",
    " 1. Обзор данных.\n",
    " 2. Предобработка данных.\n",
    " 3. Проверка гипотез.\n",
    "\n"
   ]
  },
  {
   "cell_type": "markdown",
   "metadata": {
    "deletable": false,
    "editable": false,
    "id": "Ml1hmfXC_Zcs"
   },
   "source": [
    "## Обзор данных\n",
    "\n",
    "Составьте первое представление о данных Яндекс Музыки.\n",
    "\n",
    "\n"
   ]
  },
  {
   "cell_type": "markdown",
   "metadata": {
    "deletable": false,
    "editable": false,
    "id": "57eAOGIz_Zcs",
    "tags": [
     "start_task"
    ]
   },
   "source": [
    "**Задание 1**\n",
    "\n",
    "Основной инструмент аналитика — `pandas`. Импортируйте эту библиотеку."
   ]
  },
  {
   "cell_type": "code",
   "execution_count": 1,
   "metadata": {
    "deletable": false,
    "id": "AXN7PHPN_Zcs"
   },
   "outputs": [],
   "source": [
    "# импорт библиотеки pandas\n",
    "import pandas as pd"
   ]
  },
  {
   "cell_type": "markdown",
   "metadata": {
    "deletable": false,
    "editable": false,
    "id": "SG23P8tt_Zcs",
    "tags": [
     "start_task"
    ]
   },
   "source": [
    "**Задание 2**\n",
    "\n",
    "Прочитайте файл `yandex_music_project.csv` из папки `/datasets` и сохраните его в переменной `df`:"
   ]
  },
  {
   "cell_type": "code",
   "execution_count": 2,
   "metadata": {
    "deletable": false,
    "id": "fFVu7vqh_Zct"
   },
   "outputs": [],
   "source": [
    "# чтение файла с данными и сохранение в df\n",
    "df = pd.read_csv('/datasets/yandex_music_project.csv')"
   ]
  },
  {
   "cell_type": "markdown",
   "metadata": {
    "deletable": false,
    "editable": false,
    "id": "rDoOMd3uTqnZ",
    "tags": [
     "start_task"
    ]
   },
   "source": [
    "**Задание 3**\n",
    "\n",
    "\n",
    "Выведите на экран первые десять строк таблицы:"
   ]
  },
  {
   "cell_type": "code",
   "execution_count": 39,
   "metadata": {
    "deletable": false,
    "id": "oWTVX3gW_Zct"
   },
   "outputs": [
    {
     "data": {
      "text/html": [
       "<div>\n",
       "<style scoped>\n",
       "    .dataframe tbody tr th:only-of-type {\n",
       "        vertical-align: middle;\n",
       "    }\n",
       "\n",
       "    .dataframe tbody tr th {\n",
       "        vertical-align: top;\n",
       "    }\n",
       "\n",
       "    .dataframe thead th {\n",
       "        text-align: right;\n",
       "    }\n",
       "</style>\n",
       "<table border=\"1\" class=\"dataframe\">\n",
       "  <thead>\n",
       "    <tr style=\"text-align: right;\">\n",
       "      <th></th>\n",
       "      <th>user_id</th>\n",
       "      <th>track</th>\n",
       "      <th>artist</th>\n",
       "      <th>genre</th>\n",
       "      <th>city</th>\n",
       "      <th>time</th>\n",
       "      <th>day</th>\n",
       "    </tr>\n",
       "  </thead>\n",
       "  <tbody>\n",
       "    <tr>\n",
       "      <th>0</th>\n",
       "      <td>FFB692EC</td>\n",
       "      <td>Kamigata To Boots</td>\n",
       "      <td>The Mass Missile</td>\n",
       "      <td>rock</td>\n",
       "      <td>Saint-Petersburg</td>\n",
       "      <td>20:28:33</td>\n",
       "      <td>Wednesday</td>\n",
       "    </tr>\n",
       "    <tr>\n",
       "      <th>1</th>\n",
       "      <td>55204538</td>\n",
       "      <td>Delayed Because of Accident</td>\n",
       "      <td>Andreas Rönnberg</td>\n",
       "      <td>rock</td>\n",
       "      <td>Moscow</td>\n",
       "      <td>14:07:09</td>\n",
       "      <td>Friday</td>\n",
       "    </tr>\n",
       "    <tr>\n",
       "      <th>2</th>\n",
       "      <td>20EC38</td>\n",
       "      <td>Funiculì funiculà</td>\n",
       "      <td>Mario Lanza</td>\n",
       "      <td>pop</td>\n",
       "      <td>Saint-Petersburg</td>\n",
       "      <td>20:58:07</td>\n",
       "      <td>Wednesday</td>\n",
       "    </tr>\n",
       "    <tr>\n",
       "      <th>3</th>\n",
       "      <td>A3DD03C9</td>\n",
       "      <td>Dragons in the Sunset</td>\n",
       "      <td>Fire + Ice</td>\n",
       "      <td>folk</td>\n",
       "      <td>Saint-Petersburg</td>\n",
       "      <td>08:37:09</td>\n",
       "      <td>Monday</td>\n",
       "    </tr>\n",
       "    <tr>\n",
       "      <th>4</th>\n",
       "      <td>E2DC1FAE</td>\n",
       "      <td>Soul People</td>\n",
       "      <td>Space Echo</td>\n",
       "      <td>dance</td>\n",
       "      <td>Moscow</td>\n",
       "      <td>08:34:34</td>\n",
       "      <td>Monday</td>\n",
       "    </tr>\n",
       "    <tr>\n",
       "      <th>5</th>\n",
       "      <td>842029A1</td>\n",
       "      <td>Преданная</td>\n",
       "      <td>IMPERVTOR</td>\n",
       "      <td>rusrap</td>\n",
       "      <td>Saint-Petersburg</td>\n",
       "      <td>13:09:41</td>\n",
       "      <td>Friday</td>\n",
       "    </tr>\n",
       "    <tr>\n",
       "      <th>6</th>\n",
       "      <td>4CB90AA5</td>\n",
       "      <td>True</td>\n",
       "      <td>Roman Messer</td>\n",
       "      <td>dance</td>\n",
       "      <td>Moscow</td>\n",
       "      <td>13:00:07</td>\n",
       "      <td>Wednesday</td>\n",
       "    </tr>\n",
       "    <tr>\n",
       "      <th>7</th>\n",
       "      <td>F03E1C1F</td>\n",
       "      <td>Feeling This Way</td>\n",
       "      <td>Polina Griffith</td>\n",
       "      <td>dance</td>\n",
       "      <td>Moscow</td>\n",
       "      <td>20:47:49</td>\n",
       "      <td>Wednesday</td>\n",
       "    </tr>\n",
       "    <tr>\n",
       "      <th>8</th>\n",
       "      <td>8FA1D3BE</td>\n",
       "      <td>И вновь продолжается бой</td>\n",
       "      <td>unknown</td>\n",
       "      <td>ruspop</td>\n",
       "      <td>Moscow</td>\n",
       "      <td>09:17:40</td>\n",
       "      <td>Friday</td>\n",
       "    </tr>\n",
       "    <tr>\n",
       "      <th>9</th>\n",
       "      <td>E772D5C0</td>\n",
       "      <td>Pessimist</td>\n",
       "      <td>unknown</td>\n",
       "      <td>dance</td>\n",
       "      <td>Saint-Petersburg</td>\n",
       "      <td>21:20:49</td>\n",
       "      <td>Wednesday</td>\n",
       "    </tr>\n",
       "  </tbody>\n",
       "</table>\n",
       "</div>"
      ],
      "text/plain": [
       "    user_id                        track            artist   genre  \\\n",
       "0  FFB692EC            Kamigata To Boots  The Mass Missile    rock   \n",
       "1  55204538  Delayed Because of Accident  Andreas Rönnberg    rock   \n",
       "2    20EC38            Funiculì funiculà       Mario Lanza     pop   \n",
       "3  A3DD03C9        Dragons in the Sunset        Fire + Ice    folk   \n",
       "4  E2DC1FAE                  Soul People        Space Echo   dance   \n",
       "5  842029A1                    Преданная         IMPERVTOR  rusrap   \n",
       "6  4CB90AA5                         True      Roman Messer   dance   \n",
       "7  F03E1C1F             Feeling This Way   Polina Griffith   dance   \n",
       "8  8FA1D3BE     И вновь продолжается бой           unknown  ruspop   \n",
       "9  E772D5C0                    Pessimist           unknown   dance   \n",
       "\n",
       "               city      time        day  \n",
       "0  Saint-Petersburg  20:28:33  Wednesday  \n",
       "1            Moscow  14:07:09     Friday  \n",
       "2  Saint-Petersburg  20:58:07  Wednesday  \n",
       "3  Saint-Petersburg  08:37:09     Monday  \n",
       "4            Moscow  08:34:34     Monday  \n",
       "5  Saint-Petersburg  13:09:41     Friday  \n",
       "6            Moscow  13:00:07  Wednesday  \n",
       "7            Moscow  20:47:49  Wednesday  \n",
       "8            Moscow  09:17:40     Friday  \n",
       "9  Saint-Petersburg  21:20:49  Wednesday  "
      ]
     },
     "execution_count": 39,
     "metadata": {},
     "output_type": "execute_result"
    }
   ],
   "source": [
    "# получение первых 10 строк таблицы df\n",
    "df.head(10)"
   ]
  },
  {
   "cell_type": "markdown",
   "metadata": {
    "deletable": false,
    "editable": false,
    "id": "EO73Kwic_Zct",
    "tags": [
     "start_task"
    ]
   },
   "source": [
    "**Задание 4**\n",
    "\n",
    "\n",
    "Одной командой получить общую информацию о таблице c помощью метода `info()`:"
   ]
  },
  {
   "cell_type": "code",
   "execution_count": 4,
   "metadata": {
    "deletable": false,
    "id": "DSf2kIb-_Zct"
   },
   "outputs": [
    {
     "name": "stdout",
     "output_type": "stream",
     "text": [
      "<class 'pandas.core.frame.DataFrame'>\n",
      "RangeIndex: 65079 entries, 0 to 65078\n",
      "Data columns (total 7 columns):\n",
      " #   Column    Non-Null Count  Dtype \n",
      "---  ------    --------------  ----- \n",
      " 0     userID  65079 non-null  object\n",
      " 1   Track     63848 non-null  object\n",
      " 2   artist    57876 non-null  object\n",
      " 3   genre     63881 non-null  object\n",
      " 4     City    65079 non-null  object\n",
      " 5   time      65079 non-null  object\n",
      " 6   Day       65079 non-null  object\n",
      "dtypes: object(7)\n",
      "memory usage: 3.5+ MB\n"
     ]
    }
   ],
   "source": [
    "# получение общей информации о данных в таблице df\n",
    "df.info()"
   ]
  },
  {
   "cell_type": "markdown",
   "metadata": {
    "deletable": false,
    "editable": false,
    "id": "TaQ2Iwbr_Zct"
   },
   "source": [
    "Итак, в таблице семь столбцов. Тип данных во всех столбцах — `object`.\n",
    "\n",
    "Согласно документации к данным:\n",
    "* `userID` — идентификатор пользователя;\n",
    "* `Track` — название трека;  \n",
    "* `artist` — имя исполнителя;\n",
    "* `genre` — название жанра;\n",
    "* `City` — город пользователя;\n",
    "* `time` — время начала прослушивания;\n",
    "* `Day` — день недели.\n",
    "\n",
    "Количество значений в столбцах различается. Значит, в данных есть пропущенные значения."
   ]
  },
  {
   "cell_type": "markdown",
   "metadata": {
    "deletable": false,
    "editable": false,
    "id": "rAfziTBDmf2h",
    "tags": [
     "start_task"
    ]
   },
   "source": [
    "**Задание 5**\n",
    "\n",
    "**Вопрос со свободной формой ответа**\n",
    "\n",
    "В названиях колонок видны нарушения стиля:\n",
    "* Строчные буквы сочетаются с прописными.\n",
    "* Встречаются пробелы.\n",
    "\n",
    "Какое третье нарушение?"
   ]
  },
  {
   "cell_type": "code",
   "execution_count": 5,
   "metadata": {
    "id": "jD8EXEIvmf2h"
   },
   "outputs": [],
   "source": [
    "# Напишите ваш ответ здесь комментарием. Не удаляйте символ #. Не меняйте тип этой ячейки на Markdown.\n",
    "# Колонку userID следует написать «змеиным_регистром» как user_id"
   ]
  },
  {
   "cell_type": "markdown",
   "metadata": {
    "deletable": false,
    "editable": false,
    "id": "MCB6-dXG_Zct"
   },
   "source": [
    "**Выводы**\n",
    "\n",
    "В каждой строке таблицы — данные о прослушанном треке. Часть колонок описывает саму композицию: название, исполнителя и жанр. Остальные данные рассказывают о пользователе: из какого он города, когда он слушал музыку. \n",
    "\n",
    "Предварительно можно утверждать, что данных достаточно для проверки гипотез. Но встречаются пропуски в данных, а в названиях колонок — расхождения с хорошим стилем.\n",
    "\n",
    "Чтобы двигаться дальше, нужно устранить проблемы в данных."
   ]
  },
  {
   "cell_type": "markdown",
   "metadata": {
    "deletable": false,
    "editable": false,
    "id": "SjYF6Ub9_Zct"
   },
   "source": [
    "## Предобработка данных\n",
    "Исправьте стиль в заголовках столбцов, исключите пропуски. Затем проверьте данные на дубликаты."
   ]
  },
  {
   "cell_type": "markdown",
   "metadata": {
    "deletable": false,
    "editable": false,
    "id": "dIaKXr29_Zct",
    "tags": [
     "start_task"
    ]
   },
   "source": [
    "### Стиль заголовков\n",
    "\n",
    "**Задание 6**\n",
    "\n",
    "Выведите на экран названия столбцов:"
   ]
  },
  {
   "cell_type": "code",
   "execution_count": 6,
   "metadata": {
    "deletable": false,
    "id": "oKOTdF_Q_Zct"
   },
   "outputs": [
    {
     "data": {
      "text/plain": [
       "Index(['  userID', 'Track', 'artist', 'genre', '  City  ', 'time', 'Day'], dtype='object')"
      ]
     },
     "execution_count": 6,
     "metadata": {},
     "output_type": "execute_result"
    }
   ],
   "source": [
    "# перечень названий столбцов таблицы df\n",
    "df.columns"
   ]
  },
  {
   "cell_type": "markdown",
   "metadata": {
    "deletable": false,
    "editable": false,
    "id": "zj5534cv_Zct",
    "tags": [
     "start_task"
    ]
   },
   "source": [
    "**Задание 7**\n",
    "\n",
    "\n",
    "Приведите названия в соответствие с хорошим стилем:\n",
    "* несколько слов в названии запишите в «змеином_регистре»,\n",
    "* все символы сделайте строчными,\n",
    "* устраните пробелы.\n",
    "\n",
    "Для этого переименуйте колонки так:\n",
    "* `'  userID'` → `'user_id'`;\n",
    "* `'Track'` → `'track'`;\n",
    "* `'  City  '` → `'city'`;\n",
    "* `'Day'` → `'day'`."
   ]
  },
  {
   "cell_type": "code",
   "execution_count": 7,
   "metadata": {
    "deletable": false,
    "id": "ISlFqs5y_Zct"
   },
   "outputs": [],
   "source": [
    "# переименование столбцов\n",
    "df = df.rename(columns={'  userID': 'user_id', 'Track': 'track', '  City  ': 'city', 'Day': 'day'})"
   ]
  },
  {
   "cell_type": "markdown",
   "metadata": {
    "deletable": false,
    "editable": false,
    "id": "1dqbh00J_Zct",
    "tags": [
     "start_task"
    ]
   },
   "source": [
    "**Задание 8**\n",
    "\n",
    "\n",
    "Проверьте результат. Для этого ещё раз выведите на экран названия столбцов:"
   ]
  },
  {
   "cell_type": "code",
   "execution_count": 8,
   "metadata": {
    "deletable": false,
    "id": "d4NOAmTW_Zct"
   },
   "outputs": [
    {
     "data": {
      "text/plain": [
       "Index(['user_id', 'track', 'artist', 'genre', 'city', 'time', 'day'], dtype='object')"
      ]
     },
     "execution_count": 8,
     "metadata": {},
     "output_type": "execute_result"
    }
   ],
   "source": [
    "# проверка результатов - перечень названий столбцов\n",
    "df.columns"
   ]
  },
  {
   "cell_type": "markdown",
   "metadata": {
    "deletable": false,
    "editable": false,
    "id": "5ISfbcfY_Zct",
    "tags": [
     "start_task"
    ]
   },
   "source": [
    "### Пропуски значений\n",
    "\n",
    "**Задание 9**\n",
    "\n",
    "Сначала посчитайте, сколько в таблице пропущенных значений. Для этого достаточно двух методов `pandas`:"
   ]
  },
  {
   "cell_type": "code",
   "execution_count": 9,
   "metadata": {
    "deletable": false,
    "id": "RskX29qr_Zct"
   },
   "outputs": [
    {
     "data": {
      "text/plain": [
       "user_id       0\n",
       "track      1231\n",
       "artist     7203\n",
       "genre      1198\n",
       "city          0\n",
       "time          0\n",
       "day           0\n",
       "dtype: int64"
      ]
     },
     "execution_count": 9,
     "metadata": {},
     "output_type": "execute_result"
    }
   ],
   "source": [
    "# подсчёт пропусков\n",
    "df.isna().sum()"
   ]
  },
  {
   "cell_type": "markdown",
   "metadata": {
    "deletable": false,
    "editable": false,
    "id": "qubhgnlO_Zct"
   },
   "source": [
    "Не все пропущенные значения влияют на исследование. Так в `track` и `artist` пропуски не важны для вашей работы. Достаточно заменить их явными обозначениями.\n",
    "\n",
    "Но пропуски в `genre` могут помешать сравнению музыкальных вкусов в Москве и Санкт-Петербурге. На практике было бы правильно установить причину пропусков и восстановить данные. Такой возможности нет в учебном проекте. Придётся:\n",
    "* заполнить и эти пропуски явными обозначениями;\n",
    "* оценить, насколько они повредят расчётам. "
   ]
  },
  {
   "cell_type": "markdown",
   "metadata": {
    "deletable": false,
    "editable": false,
    "id": "fSv2laPA_Zct",
    "tags": [
     "start_task"
    ]
   },
   "source": [
    "**Задание 10**\n",
    "\n",
    "Замените пропущенные значения в столбцах `track`, `artist` и `genre` на строку `'unknown'`. Для этого создайте список `columns_to_replace`, переберите его элементы циклом `for` и для каждого столбца выполните замену пропущенных значений:"
   ]
  },
  {
   "cell_type": "code",
   "execution_count": 10,
   "metadata": {
    "deletable": false,
    "id": "KplB5qWs_Zct"
   },
   "outputs": [],
   "source": [
    "# перебор названий столбцов в цикле и замена пропущенных значений на 'unknown'\n",
    "columns_to_replace = ['track', 'artist', 'genre']\n",
    "\n",
    "for column in columns_to_replace:\n",
    "    df[column] = df[column].fillna('unknown')"
   ]
  },
  {
   "cell_type": "markdown",
   "metadata": {
    "deletable": false,
    "editable": false,
    "id": "Ilsm-MZo_Zct",
    "tags": [
     "start_task"
    ]
   },
   "source": [
    "**Задание 11**\n",
    "\n",
    "Убедитесь, что в таблице не осталось пропусков. Для этого ещё раз посчитайте пропущенные значения."
   ]
  },
  {
   "cell_type": "code",
   "execution_count": 11,
   "metadata": {
    "deletable": false,
    "id": "Tq4nYRX4_Zct"
   },
   "outputs": [
    {
     "data": {
      "text/plain": [
       "user_id    0\n",
       "track      0\n",
       "artist     0\n",
       "genre      0\n",
       "city       0\n",
       "time       0\n",
       "day        0\n",
       "dtype: int64"
      ]
     },
     "execution_count": 11,
     "metadata": {},
     "output_type": "execute_result"
    }
   ],
   "source": [
    "# подсчёт пропусков\n",
    "df.isna().sum()"
   ]
  },
  {
   "cell_type": "markdown",
   "metadata": {
    "deletable": false,
    "editable": false,
    "id": "BWKRtBJ3_Zct",
    "tags": [
     "start_task"
    ]
   },
   "source": [
    "### Дубликаты\n",
    "\n",
    "**Задание 12**\n",
    "\n",
    "Посчитайте явные дубликаты в таблице одной командой:"
   ]
  },
  {
   "cell_type": "code",
   "execution_count": 12,
   "metadata": {
    "deletable": false,
    "id": "36eES_S0_Zct"
   },
   "outputs": [
    {
     "data": {
      "text/plain": [
       "3826"
      ]
     },
     "execution_count": 12,
     "metadata": {},
     "output_type": "execute_result"
    }
   ],
   "source": [
    "# подсчёт явных дубликатов\n",
    "df.duplicated().sum()"
   ]
  },
  {
   "cell_type": "markdown",
   "metadata": {
    "deletable": false,
    "editable": false,
    "id": "Ot25h6XR_Zct",
    "tags": [
     "start_task"
    ]
   },
   "source": [
    "**Задание 13**\n",
    "\n",
    "Вызовите специальный метод `pandas`, чтобы удалить явные дубликаты:"
   ]
  },
  {
   "cell_type": "code",
   "execution_count": 13,
   "metadata": {
    "deletable": false,
    "id": "exFHq6tt_Zct"
   },
   "outputs": [],
   "source": [
    "# удаление явных дубликатов\n",
    "df = df.drop_duplicates().reset_index(drop=True)"
   ]
  },
  {
   "cell_type": "markdown",
   "metadata": {
    "deletable": false,
    "editable": false,
    "id": "Im2YwBEG_Zct",
    "tags": [
     "start_task"
    ]
   },
   "source": [
    "**Задание 14**\n",
    "\n",
    "Ещё раз посчитайте явные дубликаты в таблице — убедитесь, что полностью от них избавились:"
   ]
  },
  {
   "cell_type": "code",
   "execution_count": 14,
   "metadata": {
    "deletable": false,
    "id": "-8PuNWQ0_Zct"
   },
   "outputs": [
    {
     "data": {
      "text/plain": [
       "0"
      ]
     },
     "execution_count": 14,
     "metadata": {},
     "output_type": "execute_result"
    }
   ],
   "source": [
    "# проверка на отсутствие дубликатов\n",
    "df.duplicated().sum()"
   ]
  },
  {
   "cell_type": "markdown",
   "metadata": {
    "deletable": false,
    "editable": false,
    "id": "QlFBsxAr_Zct"
   },
   "source": [
    "Теперь избавьтесь от неявных дубликатов в колонке `genre`. Например, название одного и того же жанра может быть записано немного по-разному. Такие ошибки тоже повлияют на результат исследования."
   ]
  },
  {
   "cell_type": "markdown",
   "metadata": {
    "deletable": false,
    "editable": false,
    "id": "eSjWwsOh_Zct",
    "tags": [
     "start_task"
    ]
   },
   "source": [
    "**Задание 15**\n",
    "\n",
    "Выведите на экран список уникальных названий жанров, отсортированный в алфавитном порядке. Для этого:\n",
    "1. извлеките нужный столбец датафрейма; \n",
    "2. примените к нему метод сортировки;\n",
    "3. для отсортированного столбца вызовите метод, который вернёт уникальные значения из столбца."
   ]
  },
  {
   "cell_type": "code",
   "execution_count": 15,
   "metadata": {
    "deletable": false,
    "id": "JIUcqzZN_Zct"
   },
   "outputs": [
    {
     "data": {
      "text/plain": [
       "array(['acid', 'acoustic', 'action', 'adult', 'africa', 'afrikaans',\n",
       "       'alternative', 'alternativepunk', 'ambient', 'americana',\n",
       "       'animated', 'anime', 'arabesk', 'arabic', 'arena',\n",
       "       'argentinetango', 'art', 'audiobook', 'author', 'avantgarde',\n",
       "       'axé', 'baile', 'balkan', 'beats', 'bigroom', 'black', 'bluegrass',\n",
       "       'blues', 'bollywood', 'bossa', 'brazilian', 'breakbeat', 'breaks',\n",
       "       'broadway', 'cantautori', 'cantopop', 'canzone', 'caribbean',\n",
       "       'caucasian', 'celtic', 'chamber', 'chanson', 'children', 'chill',\n",
       "       'chinese', 'choral', 'christian', 'christmas', 'classical',\n",
       "       'classicmetal', 'club', 'colombian', 'comedy', 'conjazz',\n",
       "       'contemporary', 'country', 'cuban', 'dance', 'dancehall',\n",
       "       'dancepop', 'dark', 'death', 'deep', 'deutschrock', 'deutschspr',\n",
       "       'dirty', 'disco', 'dnb', 'documentary', 'downbeat', 'downtempo',\n",
       "       'drum', 'dub', 'dubstep', 'eastern', 'easy', 'electronic',\n",
       "       'electropop', 'emo', 'entehno', 'epicmetal', 'estrada', 'ethnic',\n",
       "       'eurofolk', 'european', 'experimental', 'extrememetal', 'fado',\n",
       "       'fairytail', 'film', 'fitness', 'flamenco', 'folk', 'folklore',\n",
       "       'folkmetal', 'folkrock', 'folktronica', 'forró', 'frankreich',\n",
       "       'französisch', 'french', 'funk', 'future', 'gangsta', 'garage',\n",
       "       'german', 'ghazal', 'gitarre', 'glitch', 'gospel', 'gothic',\n",
       "       'grime', 'grunge', 'gypsy', 'handsup', \"hard'n'heavy\", 'hardcore',\n",
       "       'hardstyle', 'hardtechno', 'hip', 'hip-hop', 'hiphop',\n",
       "       'historisch', 'holiday', 'hop', 'horror', 'house', 'hymn', 'idm',\n",
       "       'independent', 'indian', 'indie', 'indipop', 'industrial',\n",
       "       'inspirational', 'instrumental', 'international', 'irish', 'jam',\n",
       "       'japanese', 'jazz', 'jewish', 'jpop', 'jungle', 'k-pop',\n",
       "       'karadeniz', 'karaoke', 'kayokyoku', 'korean', 'laiko', 'latin',\n",
       "       'latino', 'leftfield', 'local', 'lounge', 'loungeelectronic',\n",
       "       'lovers', 'malaysian', 'mandopop', 'marschmusik', 'meditative',\n",
       "       'mediterranean', 'melodic', 'metal', 'metalcore', 'mexican',\n",
       "       'middle', 'minimal', 'miscellaneous', 'modern', 'mood', 'mpb',\n",
       "       'muslim', 'native', 'neoklassik', 'neue', 'new', 'newage',\n",
       "       'newwave', 'nu', 'nujazz', 'numetal', 'oceania', 'old', 'opera',\n",
       "       'orchestral', 'other', 'piano', 'podcasts', 'pop', 'popdance',\n",
       "       'popelectronic', 'popeurodance', 'poprussian', 'post',\n",
       "       'posthardcore', 'postrock', 'power', 'progmetal', 'progressive',\n",
       "       'psychedelic', 'punjabi', 'punk', 'quebecois', 'ragga', 'ram',\n",
       "       'rancheras', 'rap', 'rave', 'reggae', 'reggaeton', 'regional',\n",
       "       'relax', 'religious', 'retro', 'rhythm', 'rnb', 'rnr', 'rock',\n",
       "       'rockabilly', 'rockalternative', 'rockindie', 'rockother',\n",
       "       'romance', 'roots', 'ruspop', 'rusrap', 'rusrock', 'russian',\n",
       "       'salsa', 'samba', 'scenic', 'schlager', 'self', 'sertanejo',\n",
       "       'shanson', 'shoegazing', 'showtunes', 'singer', 'ska', 'skarock',\n",
       "       'slow', 'smooth', 'soft', 'soul', 'soulful', 'sound', 'soundtrack',\n",
       "       'southern', 'specialty', 'speech', 'spiritual', 'sport',\n",
       "       'stonerrock', 'surf', 'swing', 'synthpop', 'synthrock',\n",
       "       'sängerportrait', 'tango', 'tanzorchester', 'taraftar', 'tatar',\n",
       "       'tech', 'techno', 'teen', 'thrash', 'top', 'traditional',\n",
       "       'tradjazz', 'trance', 'tribal', 'trip', 'triphop', 'tropical',\n",
       "       'türk', 'türkçe', 'ukrrock', 'unknown', 'urban', 'uzbek',\n",
       "       'variété', 'vi', 'videogame', 'vocal', 'western', 'world',\n",
       "       'worldbeat', 'ïîï', 'электроника'], dtype=object)"
      ]
     },
     "execution_count": 15,
     "metadata": {},
     "output_type": "execute_result"
    }
   ],
   "source": [
    "# Просмотр уникальных названий жанров\n",
    "df['genre'].sort_values(ascending=True).unique()\n"
   ]
  },
  {
   "cell_type": "markdown",
   "metadata": {
    "deletable": false,
    "editable": false,
    "id": "qej-Qmuo_Zct",
    "tags": [
     "start_task"
    ]
   },
   "source": [
    "**Задание 16**\n",
    "\n",
    "Просмотрите список и найдите неявные дубликаты названия `hiphop`. Это могут быть названия с ошибками или альтернативные названия того же жанра.\n",
    "\n",
    "Вы увидите следующие неявные дубликаты:\n",
    "* *hip*,\n",
    "* *hop*,\n",
    "* *hip-hop*.\n",
    "\n",
    "Чтобы очистить от них таблицу используйте метод `replace()` с двумя аргументами: списком строк-дубликатов (включащий *hip*, *hop* и *hip-hop*) и строкой с правильным значением. Вам нужно исправить колонку `genre` в таблице `df`: заменить каждое значение из списка дубликатов на верное. Вместо `hip`, `hop` и `hip-hop` в таблице должно быть значение `hiphop`:"
   ]
  },
  {
   "cell_type": "code",
   "execution_count": 16,
   "metadata": {
    "deletable": false,
    "id": "ErNDkmns_Zct"
   },
   "outputs": [],
   "source": [
    "# Устранение неявных дубликатов\n",
    "duplicates = ['hip', 'hop', 'hip-hop'] # список неправильных значений\n",
    "correction = 'hiphop' # правильное значение\n",
    "df['genre'] = df['genre'].replace(duplicates, correction) # замена всех значений из duplicates на correction"
   ]
  },
  {
   "cell_type": "markdown",
   "metadata": {
    "deletable": false,
    "editable": false,
    "id": "zQKF16_RG15m",
    "tags": [
     "start_task"
    ]
   },
   "source": [
    "**Задание 17**\n",
    "\n",
    "Проверьте, что заменили неправильные названия:\n",
    "\n",
    "*   hip,\n",
    "*   hop,\n",
    "*   hip-hop.\n",
    "\n",
    "Выведите отсортированный список уникальных значений столбца `genre`:"
   ]
  },
  {
   "cell_type": "code",
   "execution_count": 17,
   "metadata": {
    "deletable": false,
    "id": "wvixALnFG15m"
   },
   "outputs": [
    {
     "data": {
      "text/plain": [
       "array(['acid', 'acoustic', 'action', 'adult', 'africa', 'afrikaans',\n",
       "       'alternative', 'alternativepunk', 'ambient', 'americana',\n",
       "       'animated', 'anime', 'arabesk', 'arabic', 'arena',\n",
       "       'argentinetango', 'art', 'audiobook', 'author', 'avantgarde',\n",
       "       'axé', 'baile', 'balkan', 'beats', 'bigroom', 'black', 'bluegrass',\n",
       "       'blues', 'bollywood', 'bossa', 'brazilian', 'breakbeat', 'breaks',\n",
       "       'broadway', 'cantautori', 'cantopop', 'canzone', 'caribbean',\n",
       "       'caucasian', 'celtic', 'chamber', 'chanson', 'children', 'chill',\n",
       "       'chinese', 'choral', 'christian', 'christmas', 'classical',\n",
       "       'classicmetal', 'club', 'colombian', 'comedy', 'conjazz',\n",
       "       'contemporary', 'country', 'cuban', 'dance', 'dancehall',\n",
       "       'dancepop', 'dark', 'death', 'deep', 'deutschrock', 'deutschspr',\n",
       "       'dirty', 'disco', 'dnb', 'documentary', 'downbeat', 'downtempo',\n",
       "       'drum', 'dub', 'dubstep', 'eastern', 'easy', 'electronic',\n",
       "       'electropop', 'emo', 'entehno', 'epicmetal', 'estrada', 'ethnic',\n",
       "       'eurofolk', 'european', 'experimental', 'extrememetal', 'fado',\n",
       "       'fairytail', 'film', 'fitness', 'flamenco', 'folk', 'folklore',\n",
       "       'folkmetal', 'folkrock', 'folktronica', 'forró', 'frankreich',\n",
       "       'französisch', 'french', 'funk', 'future', 'gangsta', 'garage',\n",
       "       'german', 'ghazal', 'gitarre', 'glitch', 'gospel', 'gothic',\n",
       "       'grime', 'grunge', 'gypsy', 'handsup', \"hard'n'heavy\", 'hardcore',\n",
       "       'hardstyle', 'hardtechno', 'hiphop', 'historisch', 'holiday',\n",
       "       'horror', 'house', 'hymn', 'idm', 'independent', 'indian', 'indie',\n",
       "       'indipop', 'industrial', 'inspirational', 'instrumental',\n",
       "       'international', 'irish', 'jam', 'japanese', 'jazz', 'jewish',\n",
       "       'jpop', 'jungle', 'k-pop', 'karadeniz', 'karaoke', 'kayokyoku',\n",
       "       'korean', 'laiko', 'latin', 'latino', 'leftfield', 'local',\n",
       "       'lounge', 'loungeelectronic', 'lovers', 'malaysian', 'mandopop',\n",
       "       'marschmusik', 'meditative', 'mediterranean', 'melodic', 'metal',\n",
       "       'metalcore', 'mexican', 'middle', 'minimal', 'miscellaneous',\n",
       "       'modern', 'mood', 'mpb', 'muslim', 'native', 'neoklassik', 'neue',\n",
       "       'new', 'newage', 'newwave', 'nu', 'nujazz', 'numetal', 'oceania',\n",
       "       'old', 'opera', 'orchestral', 'other', 'piano', 'podcasts', 'pop',\n",
       "       'popdance', 'popelectronic', 'popeurodance', 'poprussian', 'post',\n",
       "       'posthardcore', 'postrock', 'power', 'progmetal', 'progressive',\n",
       "       'psychedelic', 'punjabi', 'punk', 'quebecois', 'ragga', 'ram',\n",
       "       'rancheras', 'rap', 'rave', 'reggae', 'reggaeton', 'regional',\n",
       "       'relax', 'religious', 'retro', 'rhythm', 'rnb', 'rnr', 'rock',\n",
       "       'rockabilly', 'rockalternative', 'rockindie', 'rockother',\n",
       "       'romance', 'roots', 'ruspop', 'rusrap', 'rusrock', 'russian',\n",
       "       'salsa', 'samba', 'scenic', 'schlager', 'self', 'sertanejo',\n",
       "       'shanson', 'shoegazing', 'showtunes', 'singer', 'ska', 'skarock',\n",
       "       'slow', 'smooth', 'soft', 'soul', 'soulful', 'sound', 'soundtrack',\n",
       "       'southern', 'specialty', 'speech', 'spiritual', 'sport',\n",
       "       'stonerrock', 'surf', 'swing', 'synthpop', 'synthrock',\n",
       "       'sängerportrait', 'tango', 'tanzorchester', 'taraftar', 'tatar',\n",
       "       'tech', 'techno', 'teen', 'thrash', 'top', 'traditional',\n",
       "       'tradjazz', 'trance', 'tribal', 'trip', 'triphop', 'tropical',\n",
       "       'türk', 'türkçe', 'ukrrock', 'unknown', 'urban', 'uzbek',\n",
       "       'variété', 'vi', 'videogame', 'vocal', 'western', 'world',\n",
       "       'worldbeat', 'ïîï', 'электроника'], dtype=object)"
      ]
     },
     "execution_count": 17,
     "metadata": {},
     "output_type": "execute_result"
    }
   ],
   "source": [
    "# Проверка на неявные дубликаты\n",
    "df['genre'].sort_values(ascending=True).unique()"
   ]
  },
  {
   "cell_type": "markdown",
   "metadata": {
    "deletable": false,
    "editable": false,
    "id": "jz6a9-7HQUDd"
   },
   "source": [
    "**Выводы**\n",
    "\n",
    "Предобработка обнаружила три проблемы в данных:\n",
    "\n",
    "- нарушения в стиле заголовков,\n",
    "- пропущенные значения,\n",
    "- дубликаты — явные и неявные.\n",
    "\n",
    "Вы исправили заголовки, чтобы упростить работу с таблицей. Без дубликатов исследование станет более точным.\n",
    "\n",
    "Пропущенные значения вы заменили на `'unknown'`. Ещё предстоит увидеть, не повредят ли исследованию пропуски в колонке `genre`.\n",
    "\n",
    "Теперь можно перейти к проверке гипотез. "
   ]
  },
  {
   "cell_type": "markdown",
   "metadata": {
    "deletable": false,
    "editable": false,
    "id": "WttZHXH0SqKk"
   },
   "source": [
    "## Проверка гипотез"
   ]
  },
  {
   "cell_type": "markdown",
   "metadata": {
    "deletable": false,
    "editable": false,
    "id": "Im936VVi_Zcu"
   },
   "source": [
    "### Сравнение поведения пользователей двух столиц"
   ]
  },
  {
   "cell_type": "markdown",
   "metadata": {
    "deletable": false,
    "editable": false,
    "id": "nwt_MuaL_Zcu"
   },
   "source": [
    "Первая гипотеза утверждает, что пользователи по-разному слушают музыку в Москве и Санкт-Петербурге. Проверьте это предположение по данным о трёх днях недели — понедельнике, среде и пятнице. Для этого:\n",
    "\n",
    "* Разделите пользователей Москвы и Санкт-Петербурга.\n",
    "* Сравните, сколько треков послушала каждая группа пользователей в понедельник, среду и пятницу.\n"
   ]
  },
  {
   "cell_type": "markdown",
   "metadata": {
    "deletable": false,
    "editable": false,
    "id": "8Dw_YMmT_Zcu",
    "tags": [
     "start_task"
    ]
   },
   "source": [
    "**Задание 18**\n",
    "\n",
    "Для тренировки сначала выполните каждый из расчётов по отдельности. \n",
    "\n",
    "Оцените активность пользователей в каждом городе. Сгруппируйте данные по городу и посчитайте прослушивания в каждой группе.\n",
    "\n"
   ]
  },
  {
   "cell_type": "code",
   "execution_count": 18,
   "metadata": {
    "deletable": false,
    "id": "0_Qs96oh_Zcu"
   },
   "outputs": [
    {
     "data": {
      "text/plain": [
       "city\n",
       "Moscow              42741\n",
       "Saint-Petersburg    18512\n",
       "Name: user_id, dtype: int64"
      ]
     },
     "execution_count": 18,
     "metadata": {},
     "output_type": "execute_result"
    }
   ],
   "source": [
    "# Подсчёт прослушиваний в каждом городе\n",
    "df.groupby('city')['user_id'].count()\n"
   ]
  },
  {
   "cell_type": "markdown",
   "metadata": {
    "deletable": false,
    "editable": false,
    "id": "dzli3w8o_Zcu",
    "tags": [
     "start_task"
    ]
   },
   "source": [
    "В Москве прослушиваний больше, чем в Петербурге. Из этого не следует, что московские пользователи чаще слушают музыку. Просто самих пользователей в Москве больше.\n",
    "\n",
    "**Задание 19**\n",
    "\n",
    "Теперь сгруппируйте данные по дню недели и посчитайте прослушивания в понедельник, среду и пятницу. Учтите, что в данных есть информация о прослушиваниях только за эти дни.\n"
   ]
  },
  {
   "cell_type": "code",
   "execution_count": 19,
   "metadata": {
    "deletable": false,
    "id": "uZMKjiJz_Zcu"
   },
   "outputs": [
    {
     "data": {
      "text/plain": [
       "day\n",
       "Friday       21840\n",
       "Monday       21354\n",
       "Wednesday    18059\n",
       "Name: user_id, dtype: int64"
      ]
     },
     "execution_count": 19,
     "metadata": {},
     "output_type": "execute_result"
    }
   ],
   "source": [
    "# Подсчёт прослушиваний в каждый из трёх дней\n",
    "df.groupby('day')['user_id'].count()"
   ]
  },
  {
   "cell_type": "markdown",
   "metadata": {
    "deletable": false,
    "editable": false,
    "id": "cC2tNrlL_Zcu"
   },
   "source": [
    "В среднем пользователи из двух городов менее активны по средам. Но картина может измениться, если рассмотреть каждый город в отдельности."
   ]
  },
  {
   "cell_type": "markdown",
   "metadata": {
    "deletable": false,
    "editable": false,
    "id": "POzs8bGa_Zcu",
    "tags": [
     "start_task"
    ]
   },
   "source": [
    "**Задание 20**\n",
    "\n",
    "\n",
    "Вы видели, как работает группировка по городу и по дням недели. Теперь напишите функцию, которая объединит два эти расчёта.\n",
    "\n",
    "Создайте функцию `number_tracks()`, которая посчитает прослушивания для заданного дня и города. Ей понадобятся два параметра:\n",
    "* день недели,\n",
    "* название города.\n",
    "\n",
    "В функции сохраните в переменную строки исходной таблицы, у которых значение:\n",
    "  * в колонке `day` равно параметру `day`,\n",
    "  * в колонке `city` равно параметру `city`.\n",
    "\n",
    "Для этого примените последовательную фильтрацию с логической индексацией (или сложные логические выражения в одну строку, если вы уже знакомы с ними).\n",
    "\n",
    "Затем посчитайте значения в столбце `user_id` получившейся таблицы. Результат сохраните в новую переменную. Верните эту переменную из функции."
   ]
  },
  {
   "cell_type": "code",
   "execution_count": 20,
   "metadata": {
    "deletable": false,
    "id": "Nz3GdQB1_Zcu"
   },
   "outputs": [],
   "source": [
    "# <создание функции number_tracks()>\n",
    "\n",
    "def number_tracks(day, city):\n",
    "    track_list = df[df['day'] == day]\n",
    "    track_list = track_list[track_list['city'] == city]\n",
    "    track_list_count = track_list['user_id'].count()\n",
    "    return(track_list_count)\n",
    "\n",
    "# Объявляется функция с двумя параметрами: day, city.\n",
    "# В переменной track_list сохраняются те строки таблицы df, для которых \n",
    "# значение в столбце 'day' равно параметру day и одновременно значение\n",
    "# в столбце 'city' равно параметру city (используйте последовательную фильтрацию\n",
    "# с помощью логической индексации или сложные логические выражения в одну строку, если вы уже знакомы с ними).\n",
    "# В переменной track_list_count сохраняется число значений столбца 'user_id',\n",
    "# рассчитанное методом count() для таблицы track_list.    \n",
    "# Функция возвращает число - значение track_list_count.    \n",
    "\n",
    "# Функция для подсчёта прослушиваний для конкретного города и дня.\n",
    "# С помощью последовательной фильтрации с логической индексацией она \n",
    "# сначала получит из исходной таблицы строки с нужным днём,\n",
    "# затем из результата отфильтрует строки с нужным городом,\n",
    "# методом count() посчитает количество значений в колонке user_id. \n",
    "# Это количество функция вернёт в качестве результата"
   ]
  },
  {
   "cell_type": "markdown",
   "metadata": {
    "deletable": false,
    "editable": false,
    "id": "ytf7xFrFJQ2r",
    "tags": [
     "start_task"
    ]
   },
   "source": [
    "**Задание 21**\n",
    "\n",
    "Вызовите `number_tracks()` шесть раз, меняя значение параметров — так, чтобы получить данные для каждого города в каждый из трёх дней."
   ]
  },
  {
   "cell_type": "code",
   "execution_count": 21,
   "metadata": {
    "deletable": false,
    "id": "rJcRATNQ_Zcu"
   },
   "outputs": [
    {
     "data": {
      "text/plain": [
       "15740"
      ]
     },
     "execution_count": 21,
     "metadata": {},
     "output_type": "execute_result"
    }
   ],
   "source": [
    "# количество прослушиваний в Москве по понедельникам\n",
    "number_tracks('Monday', 'Moscow')"
   ]
  },
  {
   "cell_type": "code",
   "execution_count": 22,
   "metadata": {
    "deletable": false,
    "id": "hq_ncZ5T_Zcu"
   },
   "outputs": [
    {
     "data": {
      "text/plain": [
       "5614"
      ]
     },
     "execution_count": 22,
     "metadata": {},
     "output_type": "execute_result"
    }
   ],
   "source": [
    "# количество прослушиваний в Санкт-Петербурге по понедельникам\n",
    "number_tracks('Monday', 'Saint-Petersburg')"
   ]
  },
  {
   "cell_type": "code",
   "execution_count": 23,
   "metadata": {
    "deletable": false,
    "id": "_NTy2VPU_Zcu"
   },
   "outputs": [
    {
     "data": {
      "text/plain": [
       "11056"
      ]
     },
     "execution_count": 23,
     "metadata": {},
     "output_type": "execute_result"
    }
   ],
   "source": [
    "# количество прослушиваний в Москве по средам\n",
    "number_tracks('Wednesday', 'Moscow')"
   ]
  },
  {
   "cell_type": "code",
   "execution_count": 24,
   "metadata": {
    "deletable": false,
    "id": "j2y3TAwo_Zcu"
   },
   "outputs": [
    {
     "data": {
      "text/plain": [
       "7003"
      ]
     },
     "execution_count": 24,
     "metadata": {},
     "output_type": "execute_result"
    }
   ],
   "source": [
    "# количество прослушиваний в Санкт-Петербурге по средам\n",
    "number_tracks('Wednesday', 'Saint-Petersburg')"
   ]
  },
  {
   "cell_type": "code",
   "execution_count": 25,
   "metadata": {
    "deletable": false,
    "id": "vYDw5u_K_Zcu"
   },
   "outputs": [
    {
     "data": {
      "text/plain": [
       "15945"
      ]
     },
     "execution_count": 25,
     "metadata": {},
     "output_type": "execute_result"
    }
   ],
   "source": [
    "# количество прослушиваний в Москве по пятницам\n",
    "number_tracks('Friday', 'Moscow')"
   ]
  },
  {
   "cell_type": "code",
   "execution_count": 26,
   "metadata": {
    "deletable": false,
    "id": "8_yzFtW3_Zcu"
   },
   "outputs": [
    {
     "data": {
      "text/plain": [
       "5895"
      ]
     },
     "execution_count": 26,
     "metadata": {},
     "output_type": "execute_result"
    }
   ],
   "source": [
    "# количество прослушиваний в Санкт-Петербурге по пятницам\n",
    "number_tracks('Friday', 'Saint-Petersburg')"
   ]
  },
  {
   "cell_type": "markdown",
   "metadata": {
    "deletable": false,
    "editable": false,
    "id": "7QXffbO-_Zcu",
    "tags": [
     "start_task"
    ]
   },
   "source": [
    "**Задание 22**\n",
    "\n",
    "Создайте c помощью конструктора `pd.DataFrame` таблицу, где\n",
    "* названия колонок — `['city', 'monday', 'wednesday', 'friday']`;\n",
    "* данные — результаты, которые вы получили с помощью `number_tracks`."
   ]
  },
  {
   "cell_type": "code",
   "execution_count": 27,
   "metadata": {
    "deletable": false,
    "id": "APAcLpOr_Zcu"
   },
   "outputs": [
    {
     "data": {
      "text/html": [
       "<div>\n",
       "<style scoped>\n",
       "    .dataframe tbody tr th:only-of-type {\n",
       "        vertical-align: middle;\n",
       "    }\n",
       "\n",
       "    .dataframe tbody tr th {\n",
       "        vertical-align: top;\n",
       "    }\n",
       "\n",
       "    .dataframe thead th {\n",
       "        text-align: right;\n",
       "    }\n",
       "</style>\n",
       "<table border=\"1\" class=\"dataframe\">\n",
       "  <thead>\n",
       "    <tr style=\"text-align: right;\">\n",
       "      <th></th>\n",
       "      <th>city</th>\n",
       "      <th>monday</th>\n",
       "      <th>wednesday</th>\n",
       "      <th>friday</th>\n",
       "    </tr>\n",
       "  </thead>\n",
       "  <tbody>\n",
       "    <tr>\n",
       "      <th>0</th>\n",
       "      <td>Moscow</td>\n",
       "      <td>15740</td>\n",
       "      <td>11056</td>\n",
       "      <td>15945</td>\n",
       "    </tr>\n",
       "    <tr>\n",
       "      <th>1</th>\n",
       "      <td>Saint-Petersburg</td>\n",
       "      <td>5614</td>\n",
       "      <td>7003</td>\n",
       "      <td>5895</td>\n",
       "    </tr>\n",
       "  </tbody>\n",
       "</table>\n",
       "</div>"
      ],
      "text/plain": [
       "               city  monday  wednesday  friday\n",
       "0            Moscow   15740      11056   15945\n",
       "1  Saint-Petersburg    5614       7003    5895"
      ]
     },
     "metadata": {},
     "output_type": "display_data"
    }
   ],
   "source": [
    "# Таблица с результатами\n",
    "\n",
    "# подготавливаем данные и названия столбцов\n",
    "data = [['Moscow', 15740, 11056, 15945],\n",
    "        ['Saint-Petersburg', 5614, 7003, 5895]] \n",
    "columns = ['city', 'monday', 'wednesday', 'friday'] \n",
    "\n",
    "\n",
    "# создаём таблицу\n",
    "results = pd.DataFrame(data = data, columns = columns)  # создаём таблицу и сохраняем её в переменную world_map\n",
    "display(results) # выводим таблицу на экран "
   ]
  },
  {
   "cell_type": "markdown",
   "metadata": {
    "deletable": false,
    "editable": false,
    "id": "-EgPIHYu_Zcu"
   },
   "source": [
    "**Выводы**\n",
    "\n",
    "Данные показывают разницу поведения пользователей:\n",
    "\n",
    "- В Москве пик прослушиваний приходится на понедельник и пятницу, а в среду заметен спад.\n",
    "- В Петербурге, наоборот, больше слушают музыку по средам. Активность в понедельник и пятницу здесь почти в равной мере уступает среде.\n",
    "\n",
    "Значит, данные говорят в пользу первой гипотезы."
   ]
  },
  {
   "cell_type": "markdown",
   "metadata": {
    "deletable": false,
    "editable": false,
    "id": "atZAxtq4_Zcu"
   },
   "source": [
    "### Музыка в начале и в конце недели"
   ]
  },
  {
   "cell_type": "markdown",
   "metadata": {
    "deletable": false,
    "editable": false,
    "id": "eXrQqXFH_Zcu"
   },
   "source": [
    "Согласно второй гипотезе, утром в понедельник в Москве преобладают одни жанры, а в Петербурге — другие. Так же и вечером пятницы преобладают разные жанры — в зависимости от города."
   ]
  },
  {
   "cell_type": "markdown",
   "metadata": {
    "deletable": false,
    "editable": false,
    "id": "S8UcW6Hw_Zcu",
    "tags": [
     "start_task"
    ]
   },
   "source": [
    "**Задание 23**\n",
    "\n",
    "Сохраните таблицы с данными в две переменные:\n",
    "* по Москве — в `moscow_general`;\n",
    "* по Санкт-Петербургу — в `spb_general`."
   ]
  },
  {
   "cell_type": "code",
   "execution_count": 28,
   "metadata": {
    "deletable": false,
    "id": "qeaFfM_P_Zcu"
   },
   "outputs": [],
   "source": [
    "# получение таблицы moscow_general из тех строк таблицы df, \n",
    "# для которых значение в столбце 'city' равно 'Moscow'\n",
    "moscow_general = df[df['city'] == 'Moscow']"
   ]
  },
  {
   "cell_type": "code",
   "execution_count": 29,
   "metadata": {
    "deletable": false,
    "id": "ORaVRKto_Zcu"
   },
   "outputs": [],
   "source": [
    "# получение таблицы spb_general из тех строк таблицы df,\n",
    "# для которых значение в столбце 'city' равно 'Saint-Petersburg'\n",
    "spb_general = df[df['city'] == 'Saint-Petersburg']"
   ]
  },
  {
   "cell_type": "markdown",
   "metadata": {
    "deletable": false,
    "editable": false,
    "id": "MEJV-CX2_Zcu",
    "tags": [
     "start_task"
    ]
   },
   "source": [
    "**Задание 24**\n",
    "\n",
    "Создайте функцию `genre_weekday()` с четырьмя параметрами:\n",
    "* таблица (датафрейм) с данными,\n",
    "* день недели,\n",
    "* начальная временная метка в формате 'hh:mm', \n",
    "* последняя временная метка в формате 'hh:mm'.\n",
    "\n",
    "Функция должна вернуть информацию о топ-10 жанров тех треков, которые прослушивали в указанный день, в промежутке между двумя отметками времени."
   ]
  },
  {
   "cell_type": "code",
   "execution_count": 30,
   "metadata": {
    "deletable": false,
    "id": "laJT9BYl_Zcu"
   },
   "outputs": [],
   "source": [
    "# Объявление функции genre_weekday() с параметрами table, day, time1, time2,\n",
    "# которая возвращает информацию о самых популярных жанрах в указанный день в\n",
    "# заданное время:\n",
    "# 1) в переменную genre_df сохраняются те строки переданного датафрейма table, для\n",
    "#    которых одновременно:\n",
    "#    - значение в столбце day равно значению аргумента day\n",
    "#    - значение в столбце time больше значения аргумента time1\n",
    "#    - значение в столбце time меньше значения аргумента time2\n",
    "#    Используйте последовательную фильтрацию с помощью логической индексации.\n",
    "# 2) сгруппировать датафрейм genre_df по столбцу genre, взять один из его\n",
    "#    столбцов и посчитать методом count() количество записей для каждого из\n",
    "#    присутствующих жанров, получившийся Series записать в переменную\n",
    "#    genre_df_count\n",
    "# 3) отсортировать genre_df_count по убыванию встречаемости и сохранить\n",
    "#    в переменную genre_df_sorted\n",
    "# 4) вернуть Series из 10 первых значений genre_df_sorted, это будут топ-10\n",
    "#    популярных жанров (в указанный день, в заданное время)\n",
    "\n",
    "def genre_weekday(df, day, time1, time2):\n",
    "    # последовательная фильтрация\n",
    "    # оставляем в genre_df только те строки df, у которых день равен day\n",
    "    genre_df = df[df['day'] == day]\n",
    "    # оставляем в genre_df только те строки genre_df, у которых время меньше time2\n",
    "    genre_df = genre_df[genre_df['time'] < time2]\n",
    "    # оставляем в genre_df только те строки genre_df, у которых время больше time1\n",
    "    genre_df = genre_df[genre_df['time'] > time1]\n",
    "    # сгруппируем отфильтрованный датафрейм по столбцу с названиями жанров, возьмём столбец genre и посчитаем кол-во строк для каждого жанра методом count()\n",
    "    genre_df_count = genre_df.groupby('genre')['genre'].count()\n",
    "    # отсортируем результат по убыванию (чтобы в начале Series оказались самые популярные жанры)\n",
    "    genre_df_sorted = genre_df_count.sort_values(ascending=False)\n",
    "    # вернём Series с 10 самыми популярными жанрами в указанный отрезок времени заданного дня\n",
    "    return genre_df_sorted[:10]"
   ]
  },
  {
   "cell_type": "markdown",
   "metadata": {
    "deletable": false,
    "editable": false,
    "id": "la2s2_PF_Zcu",
    "tags": [
     "start_task"
    ]
   },
   "source": [
    "**Задание 25**\n",
    "\n",
    "\n",
    "Cравните результаты функции `genre_weekday()` для Москвы и Санкт-Петербурга в понедельник утром (с 7:00 до 11:00) и в пятницу вечером (с 17:00 до 23:00):"
   ]
  },
  {
   "cell_type": "code",
   "execution_count": 31,
   "metadata": {
    "deletable": false,
    "id": "yz7itPUQ_Zcu"
   },
   "outputs": [
    {
     "data": {
      "text/plain": [
       "genre\n",
       "pop            781\n",
       "dance          549\n",
       "electronic     480\n",
       "rock           474\n",
       "hiphop         286\n",
       "ruspop         186\n",
       "world          181\n",
       "rusrap         175\n",
       "alternative    164\n",
       "unknown        161\n",
       "Name: genre, dtype: int64"
      ]
     },
     "execution_count": 31,
     "metadata": {},
     "output_type": "execute_result"
    }
   ],
   "source": [
    "# вызов функции для утра понедельника в Москве (вместо df — таблица moscow_general)\n",
    "# объекты, хранящие время, являются строками и сравниваются как строки\n",
    "# пример вызова: genre_weekday(moscow_general, 'Monday', '07:00', '11:00')\n",
    "genre_weekday(moscow_general, 'Monday', '07:00', '11:00')"
   ]
  },
  {
   "cell_type": "code",
   "execution_count": 32,
   "metadata": {
    "deletable": false,
    "id": "kwUcHPdy_Zcu"
   },
   "outputs": [
    {
     "data": {
      "text/plain": [
       "genre\n",
       "pop            218\n",
       "dance          182\n",
       "rock           162\n",
       "electronic     147\n",
       "hiphop          80\n",
       "ruspop          64\n",
       "alternative     58\n",
       "rusrap          55\n",
       "jazz            44\n",
       "classical       40\n",
       "Name: genre, dtype: int64"
      ]
     },
     "execution_count": 32,
     "metadata": {},
     "output_type": "execute_result"
    }
   ],
   "source": [
    "# вызов функции для утра понедельника в Петербурге (вместо df — таблица spb_general)\n",
    "genre_weekday(spb_general, 'Monday', '07:00', '11:00')"
   ]
  },
  {
   "cell_type": "code",
   "execution_count": 33,
   "metadata": {
    "deletable": false,
    "id": "EzXVRE1o_Zcu"
   },
   "outputs": [
    {
     "data": {
      "text/plain": [
       "genre\n",
       "pop            717\n",
       "dance          524\n",
       "rock           518\n",
       "electronic     485\n",
       "hiphop         238\n",
       "alternative    182\n",
       "classical      172\n",
       "world          172\n",
       "ruspop         149\n",
       "rusrap         133\n",
       "Name: genre, dtype: int64"
      ]
     },
     "execution_count": 33,
     "metadata": {},
     "output_type": "execute_result"
    }
   ],
   "source": [
    "# вызов функции для вечера пятницы в Москве\n",
    "genre_weekday(moscow_general, 'Monday', '17:00', '23:00')"
   ]
  },
  {
   "cell_type": "code",
   "execution_count": 34,
   "metadata": {
    "deletable": false,
    "id": "JZaEKu5v_Zcu"
   },
   "outputs": [
    {
     "data": {
      "text/plain": [
       "genre\n",
       "pop            263\n",
       "rock           208\n",
       "electronic     192\n",
       "dance          191\n",
       "hiphop         104\n",
       "alternative     72\n",
       "classical       71\n",
       "jazz            57\n",
       "rusrap          54\n",
       "ruspop          53\n",
       "Name: genre, dtype: int64"
      ]
     },
     "execution_count": 34,
     "metadata": {},
     "output_type": "execute_result"
    }
   ],
   "source": [
    "# вызов функции для вечера пятницы в Петербурге\n",
    "genre_weekday(spb_general, 'Monday', '17:00', '23:00')"
   ]
  },
  {
   "cell_type": "markdown",
   "metadata": {
    "deletable": false,
    "editable": false,
    "id": "wrCe4MNX_Zcu"
   },
   "source": [
    "**Выводы**\n",
    "\n",
    "Если сравнить топ-10 жанров в понедельник утром, можно сделать такие выводы:\n",
    "\n",
    "1. В Москве и Петербурге слушают похожую музыку. Единственное отличие — в московский рейтинг вошёл жанр “world”, а в петербургский — джаз и классика.\n",
    "\n",
    "2. В Москве пропущенных значений оказалось так много, что значение `'unknown'` заняло десятое место среди самых популярных жанров. Значит, пропущенные значения занимают существенную долю в данных и угрожают достоверности исследования.\n",
    "\n",
    "Вечер пятницы не меняет эту картину. Некоторые жанры поднимаются немного выше, другие спускаются, но в целом топ-10 остаётся тем же самым.\n",
    "\n",
    "Таким образом, вторая гипотеза подтвердилась лишь частично:\n",
    "* Пользователи слушают похожую музыку в начале недели и в конце.\n",
    "* Разница между Москвой и Петербургом не слишком выражена. В Москве чаще слушают русскую популярную музыку, в Петербурге — джаз.\n",
    "\n",
    "Однако пропуски в данных ставят под сомнение этот результат. В Москве их так много, что рейтинг топ-10 мог бы выглядеть иначе, если бы не утерянные  данные о жанрах."
   ]
  },
  {
   "cell_type": "markdown",
   "metadata": {
    "deletable": false,
    "editable": false,
    "id": "JolODAqr_Zcu"
   },
   "source": [
    "### Жанровые предпочтения в Москве и Петербурге\n",
    "\n",
    "Гипотеза: Петербург — столица рэпа, музыку этого жанра там слушают чаще, чем в Москве.  А Москва — город контрастов, в котором, тем не менее, преобладает поп-музыка."
   ]
  },
  {
   "cell_type": "markdown",
   "metadata": {
    "deletable": false,
    "editable": false,
    "id": "DlegSvaT_Zcu",
    "tags": [
     "start_task"
    ]
   },
   "source": [
    "**Задание 26**\n",
    "\n",
    "Сгруппируйте таблицу `moscow_general` по жанру и посчитайте прослушивания треков каждого жанра методом `count()`. Затем отсортируйте результат в порядке убывания и сохраните его в таблице `moscow_genres`."
   ]
  },
  {
   "cell_type": "code",
   "execution_count": 35,
   "metadata": {
    "deletable": false,
    "id": "r19lIPke_Zcu"
   },
   "outputs": [],
   "source": [
    "# одной строкой: группировка таблицы moscow_general по столбцу 'genre',\n",
    "# подсчёт числа значений 'genre' в этой группировке методом count(),\n",
    "# сортировка получившегося Series в порядке убывания и сохранение в moscow_genres\n",
    "moscow_genres = moscow_general.groupby('genre')['genre'].count().sort_values(ascending=False)"
   ]
  },
  {
   "cell_type": "markdown",
   "metadata": {
    "deletable": false,
    "editable": false,
    "id": "6kMuomxTiIr8",
    "tags": [
     "start_task"
    ]
   },
   "source": [
    "**Задание 27**\n",
    "\n",
    "Выведите на экран первые десять строк `moscow_genres`:"
   ]
  },
  {
   "cell_type": "code",
   "execution_count": 36,
   "metadata": {
    "deletable": false,
    "id": "WhCSooF8_Zcv"
   },
   "outputs": [
    {
     "data": {
      "text/plain": [
       "genre\n",
       "pop            5892\n",
       "dance          4435\n",
       "rock           3965\n",
       "electronic     3786\n",
       "hiphop         2096\n",
       "classical      1616\n",
       "world          1432\n",
       "alternative    1379\n",
       "ruspop         1372\n",
       "rusrap         1161\n",
       "Name: genre, dtype: int64"
      ]
     },
     "execution_count": 36,
     "metadata": {},
     "output_type": "execute_result"
    }
   ],
   "source": [
    "# просмотр первых 10 строк moscow_genres\n",
    "moscow_genres.head(10)"
   ]
  },
  {
   "cell_type": "markdown",
   "metadata": {
    "deletable": false,
    "editable": false,
    "id": "cnPG2vnN_Zcv",
    "tags": [
     "start_task"
    ]
   },
   "source": [
    "**Задание 28**\n",
    "\n",
    "\n",
    "Теперь повторите то же и для Петербурга.\n",
    "\n",
    "Сгруппируйте таблицу `spb_general` по жанру. Посчитайте прослушивания треков каждого жанра. Результат отсортируйте в порядке убывания и сохраните в таблице `spb_genres`:\n"
   ]
  },
  {
   "cell_type": "code",
   "execution_count": 37,
   "metadata": {
    "deletable": false,
    "id": "gluLIpE7_Zcv"
   },
   "outputs": [],
   "source": [
    "# одной строкой: группировка таблицы spb_general по столбцу 'genre', \n",
    "# подсчёт числа значений 'genre' в этой группировке методом count(), \n",
    "# сортировка получившегося Series в порядке убывания и сохранение в spb_genres\n",
    "spb_genres = spb_general.groupby('genre')['genre'].count().sort_values(ascending=False)"
   ]
  },
  {
   "cell_type": "markdown",
   "metadata": {
    "deletable": false,
    "editable": false,
    "id": "5Doha_ODgyQ8",
    "tags": [
     "start_task"
    ]
   },
   "source": [
    "**Задание 29**\n",
    "\n",
    "Выведите на экран первые десять строк `spb_genres`:"
   ]
  },
  {
   "cell_type": "code",
   "execution_count": 38,
   "metadata": {
    "deletable": false,
    "id": "uaGJHjVU_Zcv"
   },
   "outputs": [
    {
     "data": {
      "text/plain": [
       "genre\n",
       "pop            2431\n",
       "dance          1932\n",
       "rock           1879\n",
       "electronic     1736\n",
       "hiphop          960\n",
       "alternative     649\n",
       "classical       646\n",
       "rusrap          564\n",
       "ruspop          538\n",
       "world           515\n",
       "Name: genre, dtype: int64"
      ]
     },
     "execution_count": 38,
     "metadata": {},
     "output_type": "execute_result"
    }
   ],
   "source": [
    "# просмотр первых 10 строк spb_genres\n",
    "spb_genres.head(10)"
   ]
  },
  {
   "cell_type": "markdown",
   "metadata": {
    "deletable": false,
    "editable": false,
    "id": "RY51YJYu_Zcv"
   },
   "source": [
    "**Выводы**"
   ]
  },
  {
   "cell_type": "markdown",
   "metadata": {
    "deletable": false,
    "editable": false,
    "id": "nVhnJEm__Zcv"
   },
   "source": [
    "Гипотеза частично подтвердилась:\n",
    "* Поп-музыка — самый популярный жанр в Москве, как и предполагала гипотеза. Более того, в топ-10 жанров встречается близкий жанр — русская популярная музыка.\n",
    "* Вопреки ожиданиям, рэп одинаково популярен в Москве и Петербурге. \n"
   ]
  },
  {
   "cell_type": "markdown",
   "metadata": {
    "deletable": false,
    "editable": false,
    "id": "ykKQ0N65_Zcv"
   },
   "source": [
    "## Итоги исследования"
   ]
  },
  {
   "cell_type": "markdown",
   "metadata": {
    "deletable": false,
    "editable": false,
    "id": "tjUwbHb3_Zcv"
   },
   "source": [
    "Вы проверили три гипотезы и установили:\n",
    "\n",
    "1. День недели по-разному влияет на активность пользователей в Москве и Петербурге. \n",
    "\n",
    "Первая гипотеза полностью подтвердилась.\n",
    "\n",
    "2. Музыкальные предпочтения не сильно меняются в течение недели — будь то Москва или Петербург. Небольшие различия заметны в начале недели, по понедельникам:\n",
    "* в Москве слушают музыку жанра “world”,\n",
    "* в Петербурге — джаз и классику.\n",
    "\n",
    "Таким образом, вторая гипотеза подтвердилась лишь отчасти. Этот результат мог оказаться иным, если бы не пропуски в данных.\n",
    "\n",
    "3. Во вкусах пользователей Москвы и Петербурга больше общего чем различий. Вопреки ожиданиям, предпочтения жанров в Петербурге напоминают московские.\n",
    "\n",
    "Третья гипотеза не подтвердилась. Если различия в предпочтениях и существуют, на основной массе пользователей они незаметны.\n",
    "\n",
    "**На практике исследования содержат проверки статистических гипотез.**\n",
    "Из данных одного сервиса не всегда можно сделать вывод о всех жителях города.\n",
    "Проверки статистических гипотез покажут, насколько они достоверны, исходя из имеющихся данных. \n",
    "С методами проверок гипотез вы ещё познакомитесь в следующих темах."
   ]
  }
 ],
 "metadata": {
  "ExecuteTimeLog": [
   {
    "duration": 431,
    "start_time": "2022-10-09T04:18:14.628Z"
   },
   {
    "duration": 241,
    "start_time": "2022-10-09T04:18:17.259Z"
   },
   {
    "duration": 19,
    "start_time": "2022-10-09T04:18:42.472Z"
   },
   {
    "duration": 31,
    "start_time": "2022-10-09T04:19:28.490Z"
   },
   {
    "duration": 41,
    "start_time": "2022-10-09T04:19:37.513Z"
   },
   {
    "duration": 5,
    "start_time": "2022-10-09T04:33:54.984Z"
   },
   {
    "duration": 15,
    "start_time": "2022-10-09T04:42:37.103Z"
   },
   {
    "duration": 6,
    "start_time": "2022-10-09T04:42:49.048Z"
   },
   {
    "duration": 26,
    "start_time": "2022-10-09T04:44:46.555Z"
   },
   {
    "duration": 31,
    "start_time": "2022-10-09T04:45:04.063Z"
   },
   {
    "duration": 24,
    "start_time": "2022-10-09T04:45:15.730Z"
   },
   {
    "duration": 19,
    "start_time": "2022-10-09T04:54:05.271Z"
   },
   {
    "duration": 41,
    "start_time": "2022-10-09T04:54:17.281Z"
   },
   {
    "duration": 72,
    "start_time": "2022-10-09T05:01:53.472Z"
   },
   {
    "duration": 70,
    "start_time": "2022-10-09T05:02:57.725Z"
   },
   {
    "duration": 62,
    "start_time": "2022-10-09T05:03:09.737Z"
   },
   {
    "duration": 79,
    "start_time": "2022-10-09T05:07:30.256Z"
   },
   {
    "duration": 61,
    "start_time": "2022-10-09T05:07:32.522Z"
   },
   {
    "duration": 71,
    "start_time": "2022-10-09T05:09:07.420Z"
   },
   {
    "duration": 66,
    "start_time": "2022-10-09T05:09:09.626Z"
   },
   {
    "duration": 643,
    "start_time": "2022-10-09T05:19:41.361Z"
   },
   {
    "duration": 662,
    "start_time": "2022-10-09T05:24:01.741Z"
   },
   {
    "duration": 525,
    "start_time": "2022-10-09T05:24:20.437Z"
   },
   {
    "duration": 546,
    "start_time": "2022-10-09T05:26:15.830Z"
   },
   {
    "duration": 413,
    "start_time": "2022-10-09T05:26:52.272Z"
   },
   {
    "duration": 186,
    "start_time": "2022-10-09T05:26:52.687Z"
   },
   {
    "duration": 17,
    "start_time": "2022-10-09T05:26:52.875Z"
   },
   {
    "duration": 42,
    "start_time": "2022-10-09T05:26:52.895Z"
   },
   {
    "duration": 18,
    "start_time": "2022-10-09T05:26:52.939Z"
   },
   {
    "duration": 38,
    "start_time": "2022-10-09T05:26:52.959Z"
   },
   {
    "duration": 34,
    "start_time": "2022-10-09T05:26:52.999Z"
   },
   {
    "duration": 20,
    "start_time": "2022-10-09T05:26:53.035Z"
   },
   {
    "duration": 40,
    "start_time": "2022-10-09T05:26:53.058Z"
   },
   {
    "duration": 34,
    "start_time": "2022-10-09T05:26:53.102Z"
   },
   {
    "duration": 35,
    "start_time": "2022-10-09T05:26:53.138Z"
   },
   {
    "duration": 79,
    "start_time": "2022-10-09T05:26:53.175Z"
   },
   {
    "duration": 79,
    "start_time": "2022-10-09T05:26:53.257Z"
   },
   {
    "duration": 78,
    "start_time": "2022-10-09T05:26:53.338Z"
   },
   {
    "duration": 50,
    "start_time": "2022-10-09T05:26:53.418Z"
   },
   {
    "duration": 14,
    "start_time": "2022-10-09T05:26:53.470Z"
   },
   {
    "duration": 16,
    "start_time": "2022-10-09T05:26:53.486Z"
   },
   {
    "duration": 22,
    "start_time": "2022-10-09T05:26:53.504Z"
   },
   {
    "duration": 25,
    "start_time": "2022-10-09T05:26:53.528Z"
   },
   {
    "duration": 16,
    "start_time": "2022-10-09T05:26:53.555Z"
   },
   {
    "duration": 27,
    "start_time": "2022-10-09T05:26:53.573Z"
   },
   {
    "duration": 27,
    "start_time": "2022-10-09T05:26:53.602Z"
   },
   {
    "duration": 14,
    "start_time": "2022-10-09T05:26:53.631Z"
   },
   {
    "duration": 22,
    "start_time": "2022-10-09T05:26:53.647Z"
   },
   {
    "duration": 25,
    "start_time": "2022-10-09T05:26:53.671Z"
   },
   {
    "duration": 23,
    "start_time": "2022-10-09T05:26:53.698Z"
   },
   {
    "duration": 35,
    "start_time": "2022-10-09T05:26:53.722Z"
   },
   {
    "duration": 17,
    "start_time": "2022-10-09T05:26:53.760Z"
   },
   {
    "duration": 22,
    "start_time": "2022-10-09T05:26:53.779Z"
   },
   {
    "duration": 48,
    "start_time": "2022-10-09T05:26:53.803Z"
   },
   {
    "duration": 1,
    "start_time": "2022-10-09T05:26:53.853Z"
   },
   {
    "duration": 0,
    "start_time": "2022-10-09T05:26:53.854Z"
   },
   {
    "duration": 0,
    "start_time": "2022-10-09T05:26:53.856Z"
   },
   {
    "duration": 0,
    "start_time": "2022-10-09T05:26:53.857Z"
   },
   {
    "duration": 0,
    "start_time": "2022-10-09T05:26:53.858Z"
   },
   {
    "duration": 0,
    "start_time": "2022-10-09T05:26:53.858Z"
   },
   {
    "duration": 1,
    "start_time": "2022-10-09T05:26:53.859Z"
   },
   {
    "duration": 0,
    "start_time": "2022-10-09T05:26:53.860Z"
   },
   {
    "duration": 46,
    "start_time": "2022-10-09T05:27:21.453Z"
   },
   {
    "duration": 444,
    "start_time": "2022-10-09T05:28:02.031Z"
   },
   {
    "duration": 181,
    "start_time": "2022-10-09T05:28:02.477Z"
   },
   {
    "duration": 19,
    "start_time": "2022-10-09T05:28:02.660Z"
   },
   {
    "duration": 62,
    "start_time": "2022-10-09T05:28:02.681Z"
   },
   {
    "duration": 3,
    "start_time": "2022-10-09T05:28:02.745Z"
   },
   {
    "duration": 16,
    "start_time": "2022-10-09T05:28:02.749Z"
   },
   {
    "duration": 23,
    "start_time": "2022-10-09T05:28:02.767Z"
   },
   {
    "duration": 7,
    "start_time": "2022-10-09T05:28:02.793Z"
   },
   {
    "duration": 27,
    "start_time": "2022-10-09T05:28:02.801Z"
   },
   {
    "duration": 24,
    "start_time": "2022-10-09T05:28:02.830Z"
   },
   {
    "duration": 28,
    "start_time": "2022-10-09T05:28:02.856Z"
   },
   {
    "duration": 84,
    "start_time": "2022-10-09T05:28:02.885Z"
   },
   {
    "duration": 100,
    "start_time": "2022-10-09T05:28:02.970Z"
   },
   {
    "duration": 65,
    "start_time": "2022-10-09T05:28:03.075Z"
   },
   {
    "duration": 39,
    "start_time": "2022-10-09T05:28:03.153Z"
   },
   {
    "duration": 3,
    "start_time": "2022-10-09T05:28:03.194Z"
   },
   {
    "duration": 5,
    "start_time": "2022-10-09T05:28:03.198Z"
   },
   {
    "duration": 8,
    "start_time": "2022-10-09T05:28:03.205Z"
   },
   {
    "duration": 6,
    "start_time": "2022-10-09T05:28:03.215Z"
   },
   {
    "duration": 7,
    "start_time": "2022-10-09T05:28:03.222Z"
   },
   {
    "duration": 9,
    "start_time": "2022-10-09T05:28:03.231Z"
   },
   {
    "duration": 2,
    "start_time": "2022-10-09T05:28:03.255Z"
   },
   {
    "duration": 6,
    "start_time": "2022-10-09T05:28:03.259Z"
   },
   {
    "duration": 6,
    "start_time": "2022-10-09T05:28:03.266Z"
   },
   {
    "duration": 6,
    "start_time": "2022-10-09T05:28:03.274Z"
   },
   {
    "duration": 4,
    "start_time": "2022-10-09T05:28:03.282Z"
   },
   {
    "duration": 5,
    "start_time": "2022-10-09T05:28:03.288Z"
   },
   {
    "duration": 8,
    "start_time": "2022-10-09T05:28:03.294Z"
   },
   {
    "duration": 6,
    "start_time": "2022-10-09T05:28:03.303Z"
   },
   {
    "duration": 49,
    "start_time": "2022-10-09T05:28:03.310Z"
   },
   {
    "duration": 0,
    "start_time": "2022-10-09T05:28:03.360Z"
   },
   {
    "duration": 0,
    "start_time": "2022-10-09T05:28:03.361Z"
   },
   {
    "duration": 0,
    "start_time": "2022-10-09T05:28:03.363Z"
   },
   {
    "duration": 0,
    "start_time": "2022-10-09T05:28:03.364Z"
   },
   {
    "duration": 0,
    "start_time": "2022-10-09T05:28:03.365Z"
   },
   {
    "duration": 0,
    "start_time": "2022-10-09T05:28:03.366Z"
   },
   {
    "duration": 0,
    "start_time": "2022-10-09T05:28:03.368Z"
   },
   {
    "duration": 0,
    "start_time": "2022-10-09T05:28:03.369Z"
   },
   {
    "duration": 366,
    "start_time": "2022-10-09T05:28:42.401Z"
   },
   {
    "duration": 166,
    "start_time": "2022-10-09T05:28:42.769Z"
   },
   {
    "duration": 19,
    "start_time": "2022-10-09T05:28:42.937Z"
   },
   {
    "duration": 29,
    "start_time": "2022-10-09T05:28:42.958Z"
   },
   {
    "duration": 4,
    "start_time": "2022-10-09T05:28:42.989Z"
   },
   {
    "duration": 13,
    "start_time": "2022-10-09T05:28:42.995Z"
   },
   {
    "duration": 21,
    "start_time": "2022-10-09T05:28:43.009Z"
   },
   {
    "duration": 6,
    "start_time": "2022-10-09T05:28:43.032Z"
   },
   {
    "duration": 24,
    "start_time": "2022-10-09T05:28:43.053Z"
   },
   {
    "duration": 18,
    "start_time": "2022-10-09T05:28:43.079Z"
   },
   {
    "duration": 22,
    "start_time": "2022-10-09T05:28:43.099Z"
   },
   {
    "duration": 91,
    "start_time": "2022-10-09T05:28:43.123Z"
   },
   {
    "duration": 86,
    "start_time": "2022-10-09T05:28:43.216Z"
   },
   {
    "duration": 66,
    "start_time": "2022-10-09T05:28:43.305Z"
   },
   {
    "duration": 36,
    "start_time": "2022-10-09T05:28:43.373Z"
   },
   {
    "duration": 3,
    "start_time": "2022-10-09T05:28:43.410Z"
   },
   {
    "duration": 7,
    "start_time": "2022-10-09T05:28:43.414Z"
   },
   {
    "duration": 6,
    "start_time": "2022-10-09T05:28:43.422Z"
   },
   {
    "duration": 5,
    "start_time": "2022-10-09T05:28:43.429Z"
   },
   {
    "duration": 3,
    "start_time": "2022-10-09T05:28:43.454Z"
   },
   {
    "duration": 6,
    "start_time": "2022-10-09T05:28:43.458Z"
   },
   {
    "duration": 4,
    "start_time": "2022-10-09T05:28:43.466Z"
   },
   {
    "duration": 6,
    "start_time": "2022-10-09T05:28:43.471Z"
   },
   {
    "duration": 4,
    "start_time": "2022-10-09T05:28:43.478Z"
   },
   {
    "duration": 12,
    "start_time": "2022-10-09T05:28:43.484Z"
   },
   {
    "duration": 5,
    "start_time": "2022-10-09T05:28:43.497Z"
   },
   {
    "duration": 5,
    "start_time": "2022-10-09T05:28:43.504Z"
   },
   {
    "duration": 5,
    "start_time": "2022-10-09T05:28:43.510Z"
   },
   {
    "duration": 6,
    "start_time": "2022-10-09T05:28:43.517Z"
   },
   {
    "duration": 47,
    "start_time": "2022-10-09T05:28:43.525Z"
   },
   {
    "duration": 0,
    "start_time": "2022-10-09T05:28:43.574Z"
   },
   {
    "duration": 0,
    "start_time": "2022-10-09T05:28:43.575Z"
   },
   {
    "duration": 0,
    "start_time": "2022-10-09T05:28:43.576Z"
   },
   {
    "duration": 0,
    "start_time": "2022-10-09T05:28:43.577Z"
   },
   {
    "duration": 0,
    "start_time": "2022-10-09T05:28:43.578Z"
   },
   {
    "duration": 0,
    "start_time": "2022-10-09T05:28:43.579Z"
   },
   {
    "duration": 0,
    "start_time": "2022-10-09T05:28:43.580Z"
   },
   {
    "duration": 0,
    "start_time": "2022-10-09T05:28:43.581Z"
   },
   {
    "duration": 62,
    "start_time": "2022-10-09T05:35:06.261Z"
   },
   {
    "duration": 11,
    "start_time": "2022-10-09T05:35:17.878Z"
   },
   {
    "duration": 51,
    "start_time": "2022-10-09T05:37:15.392Z"
   },
   {
    "duration": 443,
    "start_time": "2022-10-09T05:37:27.134Z"
   },
   {
    "duration": 177,
    "start_time": "2022-10-09T05:37:27.579Z"
   },
   {
    "duration": 19,
    "start_time": "2022-10-09T05:37:27.758Z"
   },
   {
    "duration": 31,
    "start_time": "2022-10-09T05:37:27.779Z"
   },
   {
    "duration": 2,
    "start_time": "2022-10-09T05:37:27.812Z"
   },
   {
    "duration": 9,
    "start_time": "2022-10-09T05:37:27.815Z"
   },
   {
    "duration": 39,
    "start_time": "2022-10-09T05:37:27.826Z"
   },
   {
    "duration": 10,
    "start_time": "2022-10-09T05:37:27.867Z"
   },
   {
    "duration": 28,
    "start_time": "2022-10-09T05:37:27.879Z"
   },
   {
    "duration": 19,
    "start_time": "2022-10-09T05:37:27.909Z"
   },
   {
    "duration": 33,
    "start_time": "2022-10-09T05:37:27.930Z"
   },
   {
    "duration": 75,
    "start_time": "2022-10-09T05:37:27.965Z"
   },
   {
    "duration": 95,
    "start_time": "2022-10-09T05:37:28.042Z"
   },
   {
    "duration": 77,
    "start_time": "2022-10-09T05:37:28.139Z"
   },
   {
    "duration": 75,
    "start_time": "2022-10-09T05:37:28.218Z"
   },
   {
    "duration": 0,
    "start_time": "2022-10-09T05:37:28.295Z"
   },
   {
    "duration": 0,
    "start_time": "2022-10-09T05:37:28.296Z"
   },
   {
    "duration": 0,
    "start_time": "2022-10-09T05:37:28.297Z"
   },
   {
    "duration": 0,
    "start_time": "2022-10-09T05:37:28.298Z"
   },
   {
    "duration": 0,
    "start_time": "2022-10-09T05:37:28.300Z"
   },
   {
    "duration": 0,
    "start_time": "2022-10-09T05:37:28.301Z"
   },
   {
    "duration": 0,
    "start_time": "2022-10-09T05:37:28.302Z"
   },
   {
    "duration": 0,
    "start_time": "2022-10-09T05:37:28.304Z"
   },
   {
    "duration": 0,
    "start_time": "2022-10-09T05:37:28.305Z"
   },
   {
    "duration": 0,
    "start_time": "2022-10-09T05:37:28.306Z"
   },
   {
    "duration": 0,
    "start_time": "2022-10-09T05:37:28.307Z"
   },
   {
    "duration": 0,
    "start_time": "2022-10-09T05:37:28.309Z"
   },
   {
    "duration": 0,
    "start_time": "2022-10-09T05:37:28.310Z"
   },
   {
    "duration": 1,
    "start_time": "2022-10-09T05:37:28.311Z"
   },
   {
    "duration": 0,
    "start_time": "2022-10-09T05:37:28.313Z"
   },
   {
    "duration": 0,
    "start_time": "2022-10-09T05:37:28.314Z"
   },
   {
    "duration": 0,
    "start_time": "2022-10-09T05:37:28.315Z"
   },
   {
    "duration": 0,
    "start_time": "2022-10-09T05:37:28.317Z"
   },
   {
    "duration": 0,
    "start_time": "2022-10-09T05:37:28.318Z"
   },
   {
    "duration": 0,
    "start_time": "2022-10-09T05:37:28.319Z"
   },
   {
    "duration": 0,
    "start_time": "2022-10-09T05:37:28.321Z"
   },
   {
    "duration": 0,
    "start_time": "2022-10-09T05:37:28.322Z"
   },
   {
    "duration": 0,
    "start_time": "2022-10-09T05:37:28.326Z"
   },
   {
    "duration": 383,
    "start_time": "2022-10-09T05:37:43.777Z"
   },
   {
    "duration": 171,
    "start_time": "2022-10-09T05:37:44.162Z"
   },
   {
    "duration": 22,
    "start_time": "2022-10-09T05:37:44.334Z"
   },
   {
    "duration": 33,
    "start_time": "2022-10-09T05:37:44.358Z"
   },
   {
    "duration": 11,
    "start_time": "2022-10-09T05:37:44.393Z"
   },
   {
    "duration": 7,
    "start_time": "2022-10-09T05:37:44.406Z"
   },
   {
    "duration": 17,
    "start_time": "2022-10-09T05:37:44.414Z"
   },
   {
    "duration": 22,
    "start_time": "2022-10-09T05:37:44.433Z"
   },
   {
    "duration": 24,
    "start_time": "2022-10-09T05:37:44.457Z"
   },
   {
    "duration": 19,
    "start_time": "2022-10-09T05:37:44.484Z"
   },
   {
    "duration": 24,
    "start_time": "2022-10-09T05:37:44.504Z"
   },
   {
    "duration": 63,
    "start_time": "2022-10-09T05:37:44.554Z"
   },
   {
    "duration": 97,
    "start_time": "2022-10-09T05:37:44.619Z"
   },
   {
    "duration": 66,
    "start_time": "2022-10-09T05:37:44.719Z"
   },
   {
    "duration": 35,
    "start_time": "2022-10-09T05:37:44.786Z"
   },
   {
    "duration": 9,
    "start_time": "2022-10-09T05:37:44.822Z"
   },
   {
    "duration": 75,
    "start_time": "2022-10-09T05:37:44.833Z"
   },
   {
    "duration": 0,
    "start_time": "2022-10-09T05:37:44.910Z"
   },
   {
    "duration": 0,
    "start_time": "2022-10-09T05:37:44.911Z"
   },
   {
    "duration": 0,
    "start_time": "2022-10-09T05:37:44.912Z"
   },
   {
    "duration": 0,
    "start_time": "2022-10-09T05:37:44.914Z"
   },
   {
    "duration": 0,
    "start_time": "2022-10-09T05:37:44.915Z"
   },
   {
    "duration": 0,
    "start_time": "2022-10-09T05:37:44.916Z"
   },
   {
    "duration": 0,
    "start_time": "2022-10-09T05:37:44.916Z"
   },
   {
    "duration": 0,
    "start_time": "2022-10-09T05:37:44.917Z"
   },
   {
    "duration": 0,
    "start_time": "2022-10-09T05:37:44.918Z"
   },
   {
    "duration": 0,
    "start_time": "2022-10-09T05:37:44.919Z"
   },
   {
    "duration": 0,
    "start_time": "2022-10-09T05:37:44.920Z"
   },
   {
    "duration": 0,
    "start_time": "2022-10-09T05:37:44.921Z"
   },
   {
    "duration": 0,
    "start_time": "2022-10-09T05:37:44.923Z"
   },
   {
    "duration": 0,
    "start_time": "2022-10-09T05:37:44.954Z"
   },
   {
    "duration": 0,
    "start_time": "2022-10-09T05:37:44.955Z"
   },
   {
    "duration": 0,
    "start_time": "2022-10-09T05:37:44.956Z"
   },
   {
    "duration": 0,
    "start_time": "2022-10-09T05:37:44.957Z"
   },
   {
    "duration": 0,
    "start_time": "2022-10-09T05:37:44.958Z"
   },
   {
    "duration": 0,
    "start_time": "2022-10-09T05:37:44.959Z"
   },
   {
    "duration": 0,
    "start_time": "2022-10-09T05:37:44.959Z"
   },
   {
    "duration": 0,
    "start_time": "2022-10-09T05:37:44.961Z"
   },
   {
    "duration": 9,
    "start_time": "2022-10-09T05:38:18.580Z"
   },
   {
    "duration": 421,
    "start_time": "2022-10-09T05:39:46.420Z"
   },
   {
    "duration": 180,
    "start_time": "2022-10-09T05:39:46.843Z"
   },
   {
    "duration": 18,
    "start_time": "2022-10-09T05:39:47.025Z"
   },
   {
    "duration": 31,
    "start_time": "2022-10-09T05:39:47.045Z"
   },
   {
    "duration": 3,
    "start_time": "2022-10-09T05:39:47.078Z"
   },
   {
    "duration": 11,
    "start_time": "2022-10-09T05:39:47.082Z"
   },
   {
    "duration": 19,
    "start_time": "2022-10-09T05:39:47.094Z"
   },
   {
    "duration": 8,
    "start_time": "2022-10-09T05:39:47.115Z"
   },
   {
    "duration": 49,
    "start_time": "2022-10-09T05:39:47.124Z"
   },
   {
    "duration": 20,
    "start_time": "2022-10-09T05:39:47.175Z"
   },
   {
    "duration": 38,
    "start_time": "2022-10-09T05:39:47.196Z"
   },
   {
    "duration": 84,
    "start_time": "2022-10-09T05:39:47.236Z"
   },
   {
    "duration": 95,
    "start_time": "2022-10-09T05:39:47.322Z"
   },
   {
    "duration": 79,
    "start_time": "2022-10-09T05:39:47.420Z"
   },
   {
    "duration": 39,
    "start_time": "2022-10-09T05:39:47.501Z"
   },
   {
    "duration": 626,
    "start_time": "2022-10-09T05:39:47.542Z"
   },
   {
    "duration": 0,
    "start_time": "2022-10-09T05:39:48.169Z"
   },
   {
    "duration": 0,
    "start_time": "2022-10-09T05:39:48.170Z"
   },
   {
    "duration": 0,
    "start_time": "2022-10-09T05:39:48.171Z"
   },
   {
    "duration": 0,
    "start_time": "2022-10-09T05:39:48.172Z"
   },
   {
    "duration": 0,
    "start_time": "2022-10-09T05:39:48.173Z"
   },
   {
    "duration": 0,
    "start_time": "2022-10-09T05:39:48.174Z"
   },
   {
    "duration": 0,
    "start_time": "2022-10-09T05:39:48.175Z"
   },
   {
    "duration": 0,
    "start_time": "2022-10-09T05:39:48.176Z"
   },
   {
    "duration": 0,
    "start_time": "2022-10-09T05:39:48.176Z"
   },
   {
    "duration": 0,
    "start_time": "2022-10-09T05:39:48.177Z"
   },
   {
    "duration": 0,
    "start_time": "2022-10-09T05:39:48.179Z"
   },
   {
    "duration": 0,
    "start_time": "2022-10-09T05:39:48.180Z"
   },
   {
    "duration": 0,
    "start_time": "2022-10-09T05:39:48.180Z"
   },
   {
    "duration": 0,
    "start_time": "2022-10-09T05:39:48.181Z"
   },
   {
    "duration": 0,
    "start_time": "2022-10-09T05:39:48.182Z"
   },
   {
    "duration": 0,
    "start_time": "2022-10-09T05:39:48.183Z"
   },
   {
    "duration": 0,
    "start_time": "2022-10-09T05:39:48.184Z"
   },
   {
    "duration": 0,
    "start_time": "2022-10-09T05:39:48.185Z"
   },
   {
    "duration": 0,
    "start_time": "2022-10-09T05:39:48.186Z"
   },
   {
    "duration": 0,
    "start_time": "2022-10-09T05:39:48.187Z"
   },
   {
    "duration": 0,
    "start_time": "2022-10-09T05:39:48.188Z"
   },
   {
    "duration": 0,
    "start_time": "2022-10-09T05:39:48.188Z"
   },
   {
    "duration": 10,
    "start_time": "2022-10-09T05:40:15.815Z"
   },
   {
    "duration": 11,
    "start_time": "2022-10-09T05:40:23.605Z"
   },
   {
    "duration": 10,
    "start_time": "2022-10-09T05:41:03.353Z"
   },
   {
    "duration": 8,
    "start_time": "2022-10-09T05:41:42.054Z"
   },
   {
    "duration": 557,
    "start_time": "2022-10-09T05:41:49.656Z"
   },
   {
    "duration": 42,
    "start_time": "2022-10-09T05:42:22.368Z"
   },
   {
    "duration": 33,
    "start_time": "2022-10-09T05:43:00.034Z"
   },
   {
    "duration": 8,
    "start_time": "2022-10-09T05:43:25.718Z"
   },
   {
    "duration": 8,
    "start_time": "2022-10-09T05:43:37.008Z"
   },
   {
    "duration": 398,
    "start_time": "2022-10-09T05:43:47.574Z"
   },
   {
    "duration": 181,
    "start_time": "2022-10-09T05:43:47.974Z"
   },
   {
    "duration": 19,
    "start_time": "2022-10-09T05:43:48.157Z"
   },
   {
    "duration": 35,
    "start_time": "2022-10-09T05:43:48.178Z"
   },
   {
    "duration": 2,
    "start_time": "2022-10-09T05:43:48.216Z"
   },
   {
    "duration": 11,
    "start_time": "2022-10-09T05:43:48.220Z"
   },
   {
    "duration": 33,
    "start_time": "2022-10-09T05:43:48.233Z"
   },
   {
    "duration": 8,
    "start_time": "2022-10-09T05:43:48.268Z"
   },
   {
    "duration": 26,
    "start_time": "2022-10-09T05:43:48.278Z"
   },
   {
    "duration": 29,
    "start_time": "2022-10-09T05:43:48.305Z"
   },
   {
    "duration": 34,
    "start_time": "2022-10-09T05:43:48.336Z"
   },
   {
    "duration": 66,
    "start_time": "2022-10-09T05:43:48.372Z"
   },
   {
    "duration": 81,
    "start_time": "2022-10-09T05:43:48.453Z"
   },
   {
    "duration": 72,
    "start_time": "2022-10-09T05:43:48.538Z"
   },
   {
    "duration": 57,
    "start_time": "2022-10-09T05:43:48.612Z"
   },
   {
    "duration": 66,
    "start_time": "2022-10-09T05:43:48.671Z"
   },
   {
    "duration": 0,
    "start_time": "2022-10-09T05:43:48.739Z"
   },
   {
    "duration": 0,
    "start_time": "2022-10-09T05:43:48.754Z"
   },
   {
    "duration": 0,
    "start_time": "2022-10-09T05:43:48.755Z"
   },
   {
    "duration": 0,
    "start_time": "2022-10-09T05:43:48.756Z"
   },
   {
    "duration": 0,
    "start_time": "2022-10-09T05:43:48.758Z"
   },
   {
    "duration": 0,
    "start_time": "2022-10-09T05:43:48.759Z"
   },
   {
    "duration": 0,
    "start_time": "2022-10-09T05:43:48.760Z"
   },
   {
    "duration": 0,
    "start_time": "2022-10-09T05:43:48.761Z"
   },
   {
    "duration": 0,
    "start_time": "2022-10-09T05:43:48.762Z"
   },
   {
    "duration": 0,
    "start_time": "2022-10-09T05:43:48.763Z"
   },
   {
    "duration": 0,
    "start_time": "2022-10-09T05:43:48.764Z"
   },
   {
    "duration": 0,
    "start_time": "2022-10-09T05:43:48.765Z"
   },
   {
    "duration": 0,
    "start_time": "2022-10-09T05:43:48.766Z"
   },
   {
    "duration": 0,
    "start_time": "2022-10-09T05:43:48.767Z"
   },
   {
    "duration": 0,
    "start_time": "2022-10-09T05:43:48.769Z"
   },
   {
    "duration": 0,
    "start_time": "2022-10-09T05:43:48.769Z"
   },
   {
    "duration": 0,
    "start_time": "2022-10-09T05:43:48.770Z"
   },
   {
    "duration": 0,
    "start_time": "2022-10-09T05:43:48.771Z"
   },
   {
    "duration": 0,
    "start_time": "2022-10-09T05:43:48.773Z"
   },
   {
    "duration": 0,
    "start_time": "2022-10-09T05:43:48.774Z"
   },
   {
    "duration": 0,
    "start_time": "2022-10-09T05:43:48.775Z"
   },
   {
    "duration": 0,
    "start_time": "2022-10-09T05:43:48.776Z"
   },
   {
    "duration": 9,
    "start_time": "2022-10-09T05:44:14.658Z"
   },
   {
    "duration": 414,
    "start_time": "2022-10-09T05:44:45.948Z"
   },
   {
    "duration": 176,
    "start_time": "2022-10-09T05:44:46.364Z"
   },
   {
    "duration": 20,
    "start_time": "2022-10-09T05:44:46.542Z"
   },
   {
    "duration": 33,
    "start_time": "2022-10-09T05:44:46.565Z"
   },
   {
    "duration": 3,
    "start_time": "2022-10-09T05:44:46.600Z"
   },
   {
    "duration": 14,
    "start_time": "2022-10-09T05:44:46.605Z"
   },
   {
    "duration": 38,
    "start_time": "2022-10-09T05:44:46.621Z"
   },
   {
    "duration": 11,
    "start_time": "2022-10-09T05:44:46.662Z"
   },
   {
    "duration": 28,
    "start_time": "2022-10-09T05:44:46.675Z"
   },
   {
    "duration": 19,
    "start_time": "2022-10-09T05:44:46.705Z"
   },
   {
    "duration": 38,
    "start_time": "2022-10-09T05:44:46.725Z"
   },
   {
    "duration": 79,
    "start_time": "2022-10-09T05:44:46.765Z"
   },
   {
    "duration": 108,
    "start_time": "2022-10-09T05:44:46.846Z"
   },
   {
    "duration": 71,
    "start_time": "2022-10-09T05:44:46.957Z"
   },
   {
    "duration": 49,
    "start_time": "2022-10-09T05:44:47.029Z"
   },
   {
    "duration": 11,
    "start_time": "2022-10-09T05:44:47.079Z"
   },
   {
    "duration": 86,
    "start_time": "2022-10-09T05:44:47.091Z"
   },
   {
    "duration": 0,
    "start_time": "2022-10-09T05:44:47.179Z"
   },
   {
    "duration": 0,
    "start_time": "2022-10-09T05:44:47.180Z"
   },
   {
    "duration": 0,
    "start_time": "2022-10-09T05:44:47.181Z"
   },
   {
    "duration": 0,
    "start_time": "2022-10-09T05:44:47.182Z"
   },
   {
    "duration": 0,
    "start_time": "2022-10-09T05:44:47.184Z"
   },
   {
    "duration": 0,
    "start_time": "2022-10-09T05:44:47.184Z"
   },
   {
    "duration": 0,
    "start_time": "2022-10-09T05:44:47.185Z"
   },
   {
    "duration": 0,
    "start_time": "2022-10-09T05:44:47.186Z"
   },
   {
    "duration": 0,
    "start_time": "2022-10-09T05:44:47.188Z"
   },
   {
    "duration": 0,
    "start_time": "2022-10-09T05:44:47.189Z"
   },
   {
    "duration": 0,
    "start_time": "2022-10-09T05:44:47.190Z"
   },
   {
    "duration": 0,
    "start_time": "2022-10-09T05:44:47.191Z"
   },
   {
    "duration": 0,
    "start_time": "2022-10-09T05:44:47.192Z"
   },
   {
    "duration": 0,
    "start_time": "2022-10-09T05:44:47.192Z"
   },
   {
    "duration": 0,
    "start_time": "2022-10-09T05:44:47.193Z"
   },
   {
    "duration": 0,
    "start_time": "2022-10-09T05:44:47.194Z"
   },
   {
    "duration": 0,
    "start_time": "2022-10-09T05:44:47.195Z"
   },
   {
    "duration": 0,
    "start_time": "2022-10-09T05:44:47.196Z"
   },
   {
    "duration": 0,
    "start_time": "2022-10-09T05:44:47.197Z"
   },
   {
    "duration": 0,
    "start_time": "2022-10-09T05:44:47.198Z"
   },
   {
    "duration": 0,
    "start_time": "2022-10-09T05:44:47.199Z"
   },
   {
    "duration": 37,
    "start_time": "2022-10-09T05:46:39.101Z"
   },
   {
    "duration": 46,
    "start_time": "2022-10-09T05:53:25.145Z"
   },
   {
    "duration": 51,
    "start_time": "2022-10-09T05:53:42.160Z"
   },
   {
    "duration": 4,
    "start_time": "2022-10-09T05:54:08.625Z"
   },
   {
    "duration": 47,
    "start_time": "2022-10-09T05:54:11.833Z"
   },
   {
    "duration": 54,
    "start_time": "2022-10-09T05:54:51.948Z"
   },
   {
    "duration": 29,
    "start_time": "2022-10-09T05:58:40.834Z"
   },
   {
    "duration": 34,
    "start_time": "2022-10-09T05:58:52.178Z"
   },
   {
    "duration": 44,
    "start_time": "2022-10-09T05:59:01.561Z"
   },
   {
    "duration": 47,
    "start_time": "2022-10-09T05:59:11.525Z"
   },
   {
    "duration": 13,
    "start_time": "2022-10-09T06:00:09.133Z"
   },
   {
    "duration": 14,
    "start_time": "2022-10-09T06:00:29.927Z"
   },
   {
    "duration": 11,
    "start_time": "2022-10-09T06:03:56.470Z"
   },
   {
    "duration": 34,
    "start_time": "2022-10-09T06:04:32.986Z"
   },
   {
    "duration": 12,
    "start_time": "2022-10-09T06:04:57.693Z"
   },
   {
    "duration": 4,
    "start_time": "2022-10-09T06:17:43.141Z"
   },
   {
    "duration": 9,
    "start_time": "2022-10-09T06:18:13.239Z"
   },
   {
    "duration": 8,
    "start_time": "2022-10-09T06:18:50.653Z"
   },
   {
    "duration": 4,
    "start_time": "2022-10-09T06:19:01.530Z"
   },
   {
    "duration": 7,
    "start_time": "2022-10-09T06:19:04.437Z"
   },
   {
    "duration": 424,
    "start_time": "2022-10-09T06:19:24.321Z"
   },
   {
    "duration": 175,
    "start_time": "2022-10-09T06:19:24.748Z"
   },
   {
    "duration": 18,
    "start_time": "2022-10-09T06:19:24.925Z"
   },
   {
    "duration": 36,
    "start_time": "2022-10-09T06:19:24.945Z"
   },
   {
    "duration": 6,
    "start_time": "2022-10-09T06:19:24.984Z"
   },
   {
    "duration": 7,
    "start_time": "2022-10-09T06:19:24.991Z"
   },
   {
    "duration": 17,
    "start_time": "2022-10-09T06:19:25.000Z"
   },
   {
    "duration": 9,
    "start_time": "2022-10-09T06:19:25.019Z"
   },
   {
    "duration": 43,
    "start_time": "2022-10-09T06:19:25.029Z"
   },
   {
    "duration": 24,
    "start_time": "2022-10-09T06:19:25.074Z"
   },
   {
    "duration": 24,
    "start_time": "2022-10-09T06:19:25.100Z"
   },
   {
    "duration": 83,
    "start_time": "2022-10-09T06:19:25.125Z"
   },
   {
    "duration": 81,
    "start_time": "2022-10-09T06:19:25.209Z"
   },
   {
    "duration": 63,
    "start_time": "2022-10-09T06:19:25.293Z"
   },
   {
    "duration": 44,
    "start_time": "2022-10-09T06:19:25.357Z"
   },
   {
    "duration": 10,
    "start_time": "2022-10-09T06:19:25.403Z"
   },
   {
    "duration": 59,
    "start_time": "2022-10-09T06:19:25.415Z"
   },
   {
    "duration": 11,
    "start_time": "2022-10-09T06:19:25.476Z"
   },
   {
    "duration": 11,
    "start_time": "2022-10-09T06:19:25.489Z"
   },
   {
    "duration": 4,
    "start_time": "2022-10-09T06:19:25.503Z"
   },
   {
    "duration": 93,
    "start_time": "2022-10-09T06:19:25.508Z"
   },
   {
    "duration": 0,
    "start_time": "2022-10-09T06:19:25.603Z"
   },
   {
    "duration": 0,
    "start_time": "2022-10-09T06:19:25.604Z"
   },
   {
    "duration": 0,
    "start_time": "2022-10-09T06:19:25.605Z"
   },
   {
    "duration": 0,
    "start_time": "2022-10-09T06:19:25.606Z"
   },
   {
    "duration": 0,
    "start_time": "2022-10-09T06:19:25.607Z"
   },
   {
    "duration": 0,
    "start_time": "2022-10-09T06:19:25.608Z"
   },
   {
    "duration": 0,
    "start_time": "2022-10-09T06:19:25.609Z"
   },
   {
    "duration": 0,
    "start_time": "2022-10-09T06:19:25.610Z"
   },
   {
    "duration": 0,
    "start_time": "2022-10-09T06:19:25.612Z"
   },
   {
    "duration": 0,
    "start_time": "2022-10-09T06:19:25.613Z"
   },
   {
    "duration": 0,
    "start_time": "2022-10-09T06:19:25.614Z"
   },
   {
    "duration": 0,
    "start_time": "2022-10-09T06:19:25.615Z"
   },
   {
    "duration": 0,
    "start_time": "2022-10-09T06:19:25.616Z"
   },
   {
    "duration": 0,
    "start_time": "2022-10-09T06:19:25.617Z"
   },
   {
    "duration": 0,
    "start_time": "2022-10-09T06:19:25.617Z"
   },
   {
    "duration": 0,
    "start_time": "2022-10-09T06:19:25.618Z"
   },
   {
    "duration": 0,
    "start_time": "2022-10-09T06:19:25.619Z"
   },
   {
    "duration": 17,
    "start_time": "2022-10-09T06:19:53.270Z"
   },
   {
    "duration": 15,
    "start_time": "2022-10-09T06:20:30.543Z"
   },
   {
    "duration": 431,
    "start_time": "2022-10-09T06:20:40.958Z"
   },
   {
    "duration": 229,
    "start_time": "2022-10-09T06:20:41.391Z"
   },
   {
    "duration": 31,
    "start_time": "2022-10-09T06:20:41.623Z"
   },
   {
    "duration": 33,
    "start_time": "2022-10-09T06:20:41.655Z"
   },
   {
    "duration": 2,
    "start_time": "2022-10-09T06:20:41.691Z"
   },
   {
    "duration": 14,
    "start_time": "2022-10-09T06:20:41.695Z"
   },
   {
    "duration": 18,
    "start_time": "2022-10-09T06:20:41.710Z"
   },
   {
    "duration": 28,
    "start_time": "2022-10-09T06:20:41.730Z"
   },
   {
    "duration": 29,
    "start_time": "2022-10-09T06:20:41.760Z"
   },
   {
    "duration": 20,
    "start_time": "2022-10-09T06:20:41.791Z"
   },
   {
    "duration": 47,
    "start_time": "2022-10-09T06:20:41.813Z"
   },
   {
    "duration": 66,
    "start_time": "2022-10-09T06:20:41.862Z"
   },
   {
    "duration": 91,
    "start_time": "2022-10-09T06:20:41.930Z"
   },
   {
    "duration": 66,
    "start_time": "2022-10-09T06:20:42.025Z"
   },
   {
    "duration": 36,
    "start_time": "2022-10-09T06:20:42.092Z"
   },
   {
    "duration": 24,
    "start_time": "2022-10-09T06:20:42.130Z"
   },
   {
    "duration": 42,
    "start_time": "2022-10-09T06:20:42.156Z"
   },
   {
    "duration": 11,
    "start_time": "2022-10-09T06:20:42.200Z"
   },
   {
    "duration": 27,
    "start_time": "2022-10-09T06:20:42.213Z"
   },
   {
    "duration": 14,
    "start_time": "2022-10-09T06:20:42.242Z"
   },
   {
    "duration": 89,
    "start_time": "2022-10-09T06:20:42.258Z"
   },
   {
    "duration": 0,
    "start_time": "2022-10-09T06:20:42.349Z"
   },
   {
    "duration": 0,
    "start_time": "2022-10-09T06:20:42.350Z"
   },
   {
    "duration": 0,
    "start_time": "2022-10-09T06:20:42.351Z"
   },
   {
    "duration": 0,
    "start_time": "2022-10-09T06:20:42.353Z"
   },
   {
    "duration": 0,
    "start_time": "2022-10-09T06:20:42.354Z"
   },
   {
    "duration": 0,
    "start_time": "2022-10-09T06:20:42.355Z"
   },
   {
    "duration": 0,
    "start_time": "2022-10-09T06:20:42.356Z"
   },
   {
    "duration": 0,
    "start_time": "2022-10-09T06:20:42.357Z"
   },
   {
    "duration": 0,
    "start_time": "2022-10-09T06:20:42.358Z"
   },
   {
    "duration": 0,
    "start_time": "2022-10-09T06:20:42.359Z"
   },
   {
    "duration": 1,
    "start_time": "2022-10-09T06:20:42.359Z"
   },
   {
    "duration": 0,
    "start_time": "2022-10-09T06:20:42.361Z"
   },
   {
    "duration": 0,
    "start_time": "2022-10-09T06:20:42.362Z"
   },
   {
    "duration": 0,
    "start_time": "2022-10-09T06:20:42.363Z"
   },
   {
    "duration": 0,
    "start_time": "2022-10-09T06:20:42.365Z"
   },
   {
    "duration": 0,
    "start_time": "2022-10-09T06:20:42.366Z"
   },
   {
    "duration": 0,
    "start_time": "2022-10-09T06:20:42.367Z"
   },
   {
    "duration": 14,
    "start_time": "2022-10-09T06:21:17.912Z"
   },
   {
    "duration": 4,
    "start_time": "2022-10-09T06:22:22.371Z"
   },
   {
    "duration": 18,
    "start_time": "2022-10-09T06:22:25.490Z"
   },
   {
    "duration": 24,
    "start_time": "2022-10-09T06:22:30.470Z"
   },
   {
    "duration": 449,
    "start_time": "2022-10-09T21:31:47.306Z"
   },
   {
    "duration": 545,
    "start_time": "2022-10-09T21:31:47.757Z"
   },
   {
    "duration": 21,
    "start_time": "2022-10-09T21:31:48.305Z"
   },
   {
    "duration": 35,
    "start_time": "2022-10-09T21:31:48.329Z"
   },
   {
    "duration": 3,
    "start_time": "2022-10-09T21:31:48.366Z"
   },
   {
    "duration": 20,
    "start_time": "2022-10-09T21:31:48.371Z"
   },
   {
    "duration": 19,
    "start_time": "2022-10-09T21:31:48.393Z"
   },
   {
    "duration": 8,
    "start_time": "2022-10-09T21:31:48.414Z"
   },
   {
    "duration": 30,
    "start_time": "2022-10-09T21:31:48.424Z"
   },
   {
    "duration": 48,
    "start_time": "2022-10-09T21:31:48.457Z"
   },
   {
    "duration": 28,
    "start_time": "2022-10-09T21:31:48.506Z"
   },
   {
    "duration": 102,
    "start_time": "2022-10-09T21:31:48.536Z"
   },
   {
    "duration": 100,
    "start_time": "2022-10-09T21:31:48.640Z"
   },
   {
    "duration": 110,
    "start_time": "2022-10-09T21:31:48.741Z"
   },
   {
    "duration": 52,
    "start_time": "2022-10-09T21:31:48.853Z"
   },
   {
    "duration": 12,
    "start_time": "2022-10-09T21:31:48.907Z"
   },
   {
    "duration": 45,
    "start_time": "2022-10-09T21:31:48.921Z"
   },
   {
    "duration": 14,
    "start_time": "2022-10-09T21:31:48.988Z"
   },
   {
    "duration": 16,
    "start_time": "2022-10-09T21:31:49.004Z"
   },
   {
    "duration": 4,
    "start_time": "2022-10-09T21:31:49.022Z"
   },
   {
    "duration": 26,
    "start_time": "2022-10-09T21:31:49.028Z"
   },
   {
    "duration": 11,
    "start_time": "2022-10-09T21:31:49.056Z"
   },
   {
    "duration": 7,
    "start_time": "2022-10-09T21:31:49.090Z"
   },
   {
    "duration": 6,
    "start_time": "2022-10-09T21:31:49.099Z"
   },
   {
    "duration": 6,
    "start_time": "2022-10-09T21:31:49.107Z"
   },
   {
    "duration": 5,
    "start_time": "2022-10-09T21:31:49.114Z"
   },
   {
    "duration": 5,
    "start_time": "2022-10-09T21:31:49.122Z"
   },
   {
    "duration": 3,
    "start_time": "2022-10-09T21:31:49.131Z"
   },
   {
    "duration": 6,
    "start_time": "2022-10-09T21:31:49.136Z"
   },
   {
    "duration": 86,
    "start_time": "2022-10-09T21:31:49.144Z"
   },
   {
    "duration": 0,
    "start_time": "2022-10-09T21:31:49.232Z"
   },
   {
    "duration": 0,
    "start_time": "2022-10-09T21:31:49.233Z"
   },
   {
    "duration": 0,
    "start_time": "2022-10-09T21:31:49.234Z"
   },
   {
    "duration": 0,
    "start_time": "2022-10-09T21:31:49.236Z"
   },
   {
    "duration": 0,
    "start_time": "2022-10-09T21:31:49.237Z"
   },
   {
    "duration": 0,
    "start_time": "2022-10-09T21:31:49.239Z"
   },
   {
    "duration": 0,
    "start_time": "2022-10-09T21:31:49.240Z"
   },
   {
    "duration": 0,
    "start_time": "2022-10-09T21:31:49.241Z"
   },
   {
    "duration": 5,
    "start_time": "2022-10-09T21:44:13.153Z"
   },
   {
    "duration": 83,
    "start_time": "2022-10-09T21:44:17.205Z"
   },
   {
    "duration": 4,
    "start_time": "2022-10-09T21:44:32.986Z"
   },
   {
    "duration": 27,
    "start_time": "2022-10-09T21:44:35.742Z"
   },
   {
    "duration": 5,
    "start_time": "2022-10-09T21:45:27.769Z"
   },
   {
    "duration": 14,
    "start_time": "2022-10-09T21:45:30.878Z"
   },
   {
    "duration": 4,
    "start_time": "2022-10-09T21:45:53.891Z"
   },
   {
    "duration": 25,
    "start_time": "2022-10-09T21:45:56.734Z"
   },
   {
    "duration": 4,
    "start_time": "2022-10-09T21:47:22.858Z"
   },
   {
    "duration": 22,
    "start_time": "2022-10-09T21:47:25.751Z"
   },
   {
    "duration": 438,
    "start_time": "2022-10-09T21:47:48.400Z"
   },
   {
    "duration": 188,
    "start_time": "2022-10-09T21:47:48.840Z"
   },
   {
    "duration": 20,
    "start_time": "2022-10-09T21:47:49.030Z"
   },
   {
    "duration": 46,
    "start_time": "2022-10-09T21:47:49.052Z"
   },
   {
    "duration": 5,
    "start_time": "2022-10-09T21:47:49.100Z"
   },
   {
    "duration": 21,
    "start_time": "2022-10-09T21:47:49.107Z"
   },
   {
    "duration": 25,
    "start_time": "2022-10-09T21:47:49.130Z"
   },
   {
    "duration": 17,
    "start_time": "2022-10-09T21:47:49.157Z"
   },
   {
    "duration": 44,
    "start_time": "2022-10-09T21:47:49.176Z"
   },
   {
    "duration": 28,
    "start_time": "2022-10-09T21:47:49.224Z"
   },
   {
    "duration": 37,
    "start_time": "2022-10-09T21:47:49.254Z"
   },
   {
    "duration": 74,
    "start_time": "2022-10-09T21:47:49.293Z"
   },
   {
    "duration": 90,
    "start_time": "2022-10-09T21:47:49.369Z"
   },
   {
    "duration": 74,
    "start_time": "2022-10-09T21:47:49.461Z"
   },
   {
    "duration": 52,
    "start_time": "2022-10-09T21:47:49.537Z"
   },
   {
    "duration": 12,
    "start_time": "2022-10-09T21:47:49.591Z"
   },
   {
    "duration": 63,
    "start_time": "2022-10-09T21:47:49.604Z"
   },
   {
    "duration": 12,
    "start_time": "2022-10-09T21:47:49.669Z"
   },
   {
    "duration": 18,
    "start_time": "2022-10-09T21:47:49.682Z"
   },
   {
    "duration": 7,
    "start_time": "2022-10-09T21:47:49.702Z"
   },
   {
    "duration": 34,
    "start_time": "2022-10-09T21:47:49.711Z"
   },
   {
    "duration": 2,
    "start_time": "2022-10-09T21:47:49.747Z"
   },
   {
    "duration": 12,
    "start_time": "2022-10-09T21:47:49.751Z"
   },
   {
    "duration": 12,
    "start_time": "2022-10-09T21:47:49.765Z"
   },
   {
    "duration": 8,
    "start_time": "2022-10-09T21:47:49.779Z"
   },
   {
    "duration": 4,
    "start_time": "2022-10-09T21:47:49.788Z"
   },
   {
    "duration": 6,
    "start_time": "2022-10-09T21:47:49.794Z"
   },
   {
    "duration": 7,
    "start_time": "2022-10-09T21:47:49.803Z"
   },
   {
    "duration": 10,
    "start_time": "2022-10-09T21:47:49.811Z"
   },
   {
    "duration": 74,
    "start_time": "2022-10-09T21:47:49.823Z"
   },
   {
    "duration": 0,
    "start_time": "2022-10-09T21:47:49.900Z"
   },
   {
    "duration": 0,
    "start_time": "2022-10-09T21:47:49.901Z"
   },
   {
    "duration": 0,
    "start_time": "2022-10-09T21:47:49.903Z"
   },
   {
    "duration": 0,
    "start_time": "2022-10-09T21:47:49.905Z"
   },
   {
    "duration": 0,
    "start_time": "2022-10-09T21:47:49.906Z"
   },
   {
    "duration": 0,
    "start_time": "2022-10-09T21:47:49.908Z"
   },
   {
    "duration": 0,
    "start_time": "2022-10-09T21:47:49.909Z"
   },
   {
    "duration": 0,
    "start_time": "2022-10-09T21:47:49.911Z"
   },
   {
    "duration": 4,
    "start_time": "2022-10-09T21:48:31.220Z"
   },
   {
    "duration": 25,
    "start_time": "2022-10-09T21:48:33.308Z"
   },
   {
    "duration": 4,
    "start_time": "2022-10-09T21:49:03.517Z"
   },
   {
    "duration": 25,
    "start_time": "2022-10-09T21:49:05.722Z"
   },
   {
    "duration": 4,
    "start_time": "2022-10-09T21:49:17.720Z"
   },
   {
    "duration": 17,
    "start_time": "2022-10-09T21:49:20.686Z"
   },
   {
    "duration": 4,
    "start_time": "2022-10-09T21:51:44.658Z"
   },
   {
    "duration": 18,
    "start_time": "2022-10-09T21:51:46.391Z"
   },
   {
    "duration": 18,
    "start_time": "2022-10-09T21:52:40.171Z"
   },
   {
    "duration": 16,
    "start_time": "2022-10-09T21:52:55.187Z"
   },
   {
    "duration": 16,
    "start_time": "2022-10-09T21:53:17.994Z"
   },
   {
    "duration": 19,
    "start_time": "2022-10-09T21:53:49.371Z"
   },
   {
    "duration": 18,
    "start_time": "2022-10-09T21:53:51.148Z"
   },
   {
    "duration": 73,
    "start_time": "2022-10-09T21:59:31.134Z"
   },
   {
    "duration": 75,
    "start_time": "2022-10-09T21:59:41.579Z"
   },
   {
    "duration": 77,
    "start_time": "2022-10-09T22:00:01.962Z"
   },
   {
    "duration": 10,
    "start_time": "2022-10-09T22:01:40.031Z"
   },
   {
    "duration": 15,
    "start_time": "2022-10-09T22:08:38.793Z"
   },
   {
    "duration": 10,
    "start_time": "2022-10-09T22:08:40.883Z"
   },
   {
    "duration": 5,
    "start_time": "2022-10-09T22:17:59.381Z"
   },
   {
    "duration": 23,
    "start_time": "2022-10-09T22:18:23.286Z"
   },
   {
    "duration": 5,
    "start_time": "2022-10-09T22:18:45.775Z"
   },
   {
    "duration": 17,
    "start_time": "2022-10-09T22:18:51.298Z"
   },
   {
    "duration": 12,
    "start_time": "2022-10-09T22:23:45.555Z"
   },
   {
    "duration": 20,
    "start_time": "2022-10-09T22:24:12.081Z"
   },
   {
    "duration": 14,
    "start_time": "2022-10-09T22:24:42.639Z"
   },
   {
    "duration": 9,
    "start_time": "2022-10-09T22:29:56.845Z"
   },
   {
    "duration": 9,
    "start_time": "2022-10-09T22:30:31.189Z"
   },
   {
    "duration": 5,
    "start_time": "2022-10-09T22:30:49.165Z"
   },
   {
    "duration": 7,
    "start_time": "2022-10-09T22:30:54.499Z"
   },
   {
    "duration": 9,
    "start_time": "2022-10-09T22:31:54.743Z"
   },
   {
    "duration": 9,
    "start_time": "2022-10-09T22:31:56.445Z"
   },
   {
    "duration": 5,
    "start_time": "2022-10-09T22:31:58.903Z"
   },
   {
    "duration": 8,
    "start_time": "2022-10-09T22:33:07.584Z"
   },
   {
    "duration": 5,
    "start_time": "2022-10-09T22:33:09.935Z"
   },
   {
    "duration": 10,
    "start_time": "2022-10-09T22:33:32.974Z"
   },
   {
    "duration": 5,
    "start_time": "2022-10-09T22:33:37.680Z"
   },
   {
    "duration": 6,
    "start_time": "2022-10-09T22:34:04.736Z"
   },
   {
    "duration": 5,
    "start_time": "2022-10-09T22:34:25.286Z"
   },
   {
    "duration": 442,
    "start_time": "2022-10-09T22:35:12.174Z"
   },
   {
    "duration": 180,
    "start_time": "2022-10-09T22:35:12.618Z"
   },
   {
    "duration": 17,
    "start_time": "2022-10-09T22:35:12.800Z"
   },
   {
    "duration": 31,
    "start_time": "2022-10-09T22:35:12.819Z"
   },
   {
    "duration": 2,
    "start_time": "2022-10-09T22:35:12.853Z"
   },
   {
    "duration": 32,
    "start_time": "2022-10-09T22:35:12.857Z"
   },
   {
    "duration": 16,
    "start_time": "2022-10-09T22:35:12.891Z"
   },
   {
    "duration": 6,
    "start_time": "2022-10-09T22:35:12.909Z"
   },
   {
    "duration": 28,
    "start_time": "2022-10-09T22:35:12.917Z"
   },
   {
    "duration": 20,
    "start_time": "2022-10-09T22:35:12.947Z"
   },
   {
    "duration": 27,
    "start_time": "2022-10-09T22:35:12.988Z"
   },
   {
    "duration": 87,
    "start_time": "2022-10-09T22:35:13.017Z"
   },
   {
    "duration": 91,
    "start_time": "2022-10-09T22:35:13.106Z"
   },
   {
    "duration": 66,
    "start_time": "2022-10-09T22:35:13.201Z"
   },
   {
    "duration": 57,
    "start_time": "2022-10-09T22:35:13.269Z"
   },
   {
    "duration": 11,
    "start_time": "2022-10-09T22:35:13.328Z"
   },
   {
    "duration": 60,
    "start_time": "2022-10-09T22:35:13.341Z"
   },
   {
    "duration": 12,
    "start_time": "2022-10-09T22:35:13.403Z"
   },
   {
    "duration": 12,
    "start_time": "2022-10-09T22:35:13.417Z"
   },
   {
    "duration": 5,
    "start_time": "2022-10-09T22:35:13.431Z"
   },
   {
    "duration": 21,
    "start_time": "2022-10-09T22:35:13.437Z"
   },
   {
    "duration": 42,
    "start_time": "2022-10-09T22:35:13.460Z"
   },
   {
    "duration": 15,
    "start_time": "2022-10-09T22:35:13.503Z"
   },
   {
    "duration": 15,
    "start_time": "2022-10-09T22:35:13.520Z"
   },
   {
    "duration": 19,
    "start_time": "2022-10-09T22:35:13.536Z"
   },
   {
    "duration": 43,
    "start_time": "2022-10-09T22:35:13.557Z"
   },
   {
    "duration": 9,
    "start_time": "2022-10-09T22:35:13.602Z"
   },
   {
    "duration": 13,
    "start_time": "2022-10-09T22:35:13.613Z"
   },
   {
    "duration": 15,
    "start_time": "2022-10-09T22:35:13.629Z"
   },
   {
    "duration": 6,
    "start_time": "2022-10-09T22:35:13.646Z"
   },
   {
    "duration": 59,
    "start_time": "2022-10-09T22:35:13.655Z"
   },
   {
    "duration": 12,
    "start_time": "2022-10-09T22:35:13.717Z"
   },
   {
    "duration": 20,
    "start_time": "2022-10-09T22:35:13.731Z"
   },
   {
    "duration": 38,
    "start_time": "2022-10-09T22:35:13.752Z"
   },
   {
    "duration": 9,
    "start_time": "2022-10-09T22:35:13.792Z"
   },
   {
    "duration": 7,
    "start_time": "2022-10-09T22:35:13.802Z"
   },
   {
    "duration": 8,
    "start_time": "2022-10-09T22:35:13.811Z"
   },
   {
    "duration": 4,
    "start_time": "2022-10-09T22:35:13.821Z"
   },
   {
    "duration": 11,
    "start_time": "2022-10-09T22:36:54.018Z"
   }
  ],
  "colab": {
   "collapsed_sections": [
    "E0vqbgi9ay0H",
    "VUC88oWjTJw2"
   ],
   "name": "automatization_template_upd4.ipynb",
   "provenance": []
  },
  "kernelspec": {
   "display_name": "Python 3 (ipykernel)",
   "language": "python",
   "name": "python3"
  },
  "language_info": {
   "codemirror_mode": {
    "name": "ipython",
    "version": 3
   },
   "file_extension": ".py",
   "mimetype": "text/x-python",
   "name": "python",
   "nbconvert_exporter": "python",
   "pygments_lexer": "ipython3",
   "version": "3.9.5"
  },
  "toc": {
   "base_numbering": 1,
   "nav_menu": {
    "height": "215px",
    "width": "403px"
   },
   "number_sections": true,
   "sideBar": true,
   "skip_h1_title": true,
   "title_cell": "Table of Contents",
   "title_sidebar": "Contents",
   "toc_cell": false,
   "toc_position": {
    "height": "calc(100% - 180px)",
    "left": "10px",
    "top": "150px",
    "width": "285.825px"
   },
   "toc_section_display": true,
   "toc_window_display": false
  }
 },
 "nbformat": 4,
 "nbformat_minor": 1
}
